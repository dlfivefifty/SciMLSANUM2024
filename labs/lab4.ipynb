{
 "cells": [
  {
   "cell_type": "markdown",
   "source": [
    "# SciML SANUM2024\n",
    "# Lab 4: Solving differential equations in DifferentialEquations.jl"
   ],
   "metadata": {}
  },
  {
   "cell_type": "markdown",
   "source": [
    "We now consider the solution of time-evolution ordinary differential equations (ODEs) using the\n",
    "DifferentialEquations.jl framework. An important feature is the ability to\n",
    "use automatic-differentiation with the numerical solutions, allowing us to solve\n",
    "simple nonlinear equations or optimisation problems involving parameters or initial conditions in the ODEs."
   ],
   "metadata": {}
  },
  {
   "cell_type": "markdown",
   "source": [
    "**Learning Outcomes**\n",
    "1. Solving ODEs using DifferentialEquations.jl\n",
    "2. Differentiating an ODE with respect to parameters or initial conditions.\n",
    "3. Solving simple nonlinear equations or optimisation problems involving paramters in an ODE."
   ],
   "metadata": {}
  },
  {
   "outputs": [],
   "cell_type": "code",
   "source": [
    "using DifferentialEquations, Plots, LinearAlgebra, Test"
   ],
   "metadata": {},
   "execution_count": null
  },
  {
   "cell_type": "markdown",
   "source": [
    "## 4.1 Solving ODEs with DifferentialEquations.jl"
   ],
   "metadata": {}
  },
  {
   "cell_type": "markdown",
   "source": [
    "DifferentialEquations.jl is a powerful framework for solving many different types of equations with\n",
    "many different types of solves, including stochastic differential equations, retarded differential equations,\n",
    "mixed discrete-continuous equations, PDEs,  and more. Here we will focus on the simplest case of second-order\n",
    "time-evolution ODEs, beginning with the classic pendulum equation."
   ],
   "metadata": {}
  },
  {
   "cell_type": "markdown",
   "source": [
    "Consider again the pendulum equation with friction\n",
    "$$\n",
    "u'' = τ u' - \\sin u\n",
    "$$\n",
    "which we rewrite as a first order system:\n",
    "$$\n",
    "\\begin{bmatrix}\n",
    "   u' \\\\\n",
    "   v'\n",
    "   \\end{bmatrix} = \\begin{bmatrix} v \\\\ -τv - \\sin u \\end{bmatrix}\n",
    "$$\n",
    "We can represent the right-hand side of this equation as a function that writes to a\n",
    "`du` vector (thus avoiding allocations) as follows:"
   ],
   "metadata": {}
  },
  {
   "outputs": [],
   "cell_type": "code",
   "source": [
    "function pendulum_rhs!(du, 𝐮, τ, t)\n",
    "    u,v = 𝐮\n",
    "    du[1] = v\n",
    "    du[2] = -sin(u) - τ*v\n",
    "end"
   ],
   "metadata": {},
   "execution_count": null
  },
  {
   "cell_type": "markdown",
   "source": [
    "Here `τ` plays the role of a parameter: for fast time-stepping its essential that we know the types\n",
    "at compile time and hence its much better to pass in a parameter than refer to a global variable.\n",
    "We can now construct a representation of the ODE problem as follows:"
   ],
   "metadata": {}
  },
  {
   "outputs": [],
   "cell_type": "code",
   "source": [
    "τ = 0.0 # no friction\n",
    "T = 10.0 # final time\n",
    "u₀, v₀ = 1,1 # initial conditions for poistion and velocity\n",
    "prob = ODEProblem(pendulum_rhs!, [u₀, v₀], (0.0, T), τ)"
   ],
   "metadata": {},
   "execution_count": null
  },
  {
   "cell_type": "markdown",
   "source": [
    "DifferentialEquations.jl has many diferent time-steppers, we will use a simple one based on\n",
    "an explicit Runge–Kutta method (a more efficient analogue of ode45 in Matlab):"
   ],
   "metadata": {}
  },
  {
   "outputs": [],
   "cell_type": "code",
   "source": [
    "sol = solve(prob, Tsit5(), abstol = 1e-10, reltol = 1e-10)\n",
    "plot(sol)"
   ],
   "metadata": {},
   "execution_count": null
  },
  {
   "cell_type": "markdown",
   "source": [
    "Because we have access to automatic differentiation, we can also easily use implicit methods\n",
    "(even though they aren't needed here):"
   ],
   "metadata": {}
  },
  {
   "outputs": [],
   "cell_type": "code",
   "source": [
    "sol = solve(prob, Rodas4(), abstol = 1e-10, reltol = 1e-10)\n",
    "plot(sol)"
   ],
   "metadata": {},
   "execution_count": null
  },
  {
   "cell_type": "markdown",
   "source": [
    "------"
   ],
   "metadata": {}
  },
  {
   "cell_type": "markdown",
   "source": [
    "**Problem 1** Approximate  a solution to the predator-prey model\n",
    "$$\n",
    "\\begin{bmatrix} x' \\\\ y' \\end{bmatrix} =  \\begin{bmatrix}αx - βxy \\\\  δxy - γy\\end{bmatrix}\n",
    "$$\n",
    "on $T ∈ [0,10]$ with $α , β,δ,γ = 1,2,3,4$ with initial condition $[1,2]$."
   ],
   "metadata": {}
  },
  {
   "outputs": [],
   "cell_type": "code",
   "source": [
    "function predatorprey_rhs!(du, 𝐮, ps, t)\n",
    "    (α,β,δ,γ) = ps\n",
    "    # TODO: Implement the right-hand side for the predator prey model\n",
    "\n",
    "end\n",
    "\n",
    "# TODO: use predatorprey_rhs! to setup an ODE and plot the solution"
   ],
   "metadata": {},
   "execution_count": null
  },
  {
   "cell_type": "markdown",
   "source": [
    "------"
   ],
   "metadata": {}
  },
  {
   "cell_type": "markdown",
   "source": [
    "## 4.2 Combining auto-differentiation with DifferentialEquations.jl"
   ],
   "metadata": {}
  },
  {
   "cell_type": "markdown",
   "source": [
    "The combination of automatic-differentiation and time-stepping allows for differentiating\n",
    "with respect to parameters through an actual solve. For forward-mode automatic differentiation\n",
    "this is intuitive: the values at each time-step are now dual numbers. Here we see a simple\n",
    "example using ForwardDiff.jl. Consider the problem of choosing a friction so at the end time\n",
    "the pendulum is at the bottom (but not necessarily stationary). We can set this up as follows,\n",
    "where for simplicity we hard-code the initial conditions as $[1,1]$:"
   ],
   "metadata": {}
  },
  {
   "outputs": [],
   "cell_type": "code",
   "source": [
    "function pendulum_friction(τ)\n",
    "    T = 10.0 # final time\n",
    "    u₀, v₀ = 1,1 # initial conditions\n",
    "    prob = ODEProblem(pendulum_rhs!, [u₀, v₀], (0.0, T), τ)\n",
    "    solve(prob, Vern9(), abstol = 1e-10, reltol = 1e-10) # Vern9 is an explicit Runge-Kutta method\n",
    "end\n",
    "\n",
    "pendulum_friction_stop(τ) = pendulum_friction(τ)[end][1] # find the value of u at the final time\n",
    "\n",
    "pendulum_friction_stop(0.1) # value at T = 10 with friction equal to 0.1"
   ],
   "metadata": {},
   "execution_count": null
  },
  {
   "cell_type": "markdown",
   "source": [
    "We can immediately differentiate with respect to `τ`:"
   ],
   "metadata": {}
  },
  {
   "outputs": [],
   "cell_type": "code",
   "source": [
    "using ForwardDiff\n",
    "ForwardDiff.derivative(pendulum_friction_stop, 0.1)"
   ],
   "metadata": {},
   "execution_count": null
  },
  {
   "cell_type": "markdown",
   "source": [
    "Behind the scenes this is running the time-stepper with dual numbers. We can use this in a simple newton iteration to, for example, find the friction\n",
    "that results in a desired end conditon:"
   ],
   "metadata": {}
  },
  {
   "outputs": [],
   "cell_type": "code",
   "source": [
    "τ = 0.1\n",
    "for k = 1:10\n",
    "    τ = τ - ForwardDiff.derivative(pendulum_friction_stop, τ) \\ pendulum_friction_stop(τ)\n",
    "end\n",
    "τ, pendulum_friction_stop(τ)"
   ],
   "metadata": {},
   "execution_count": null
  },
  {
   "cell_type": "markdown",
   "source": [
    "We see that it has successed in finding one such friction so that we end\n",
    "up at the bottom at the final time:"
   ],
   "metadata": {}
  },
  {
   "outputs": [],
   "cell_type": "code",
   "source": [
    "plot(pendulum_friction(τ))"
   ],
   "metadata": {},
   "execution_count": null
  },
  {
   "cell_type": "markdown",
   "source": [
    "------"
   ],
   "metadata": {}
  },
  {
   "cell_type": "markdown",
   "source": [
    "**Problem 2** We can also differentiate with respect to the initial conditions.\n",
    "Find an initial velocity such that the pendulum is at the bottom at $T = 10$ with\n",
    "no friction, assuming $u(0) = 1$."
   ],
   "metadata": {}
  },
  {
   "outputs": [],
   "cell_type": "code",
   "source": [
    "# TODO: Setup a function taking in the initial velocity and find the initial velocity so we end at rest."
   ],
   "metadata": {},
   "execution_count": null
  },
  {
   "cell_type": "markdown",
   "source": [
    "**Problem 3** We can also compute gradients and Jacobians through solves using\n",
    "forward-mode autmatic differentiation. For the predator and prey model, fix $α = γ = 1$\n",
    "and initial conditions $x(0) = 1$, $y(0) = 2$.\n",
    "Use automatic differentiation with vector Newton iteration  to choose\n",
    "choose $β,δ$ so that $x(10) = y(10) = 1$."
   ],
   "metadata": {}
  },
  {
   "outputs": [],
   "cell_type": "code",
   "source": [
    "# TODO: find the parameters in predator and prey to reach the desired end condition"
   ],
   "metadata": {},
   "execution_count": null
  },
  {
   "cell_type": "markdown",
   "source": [
    "------"
   ],
   "metadata": {}
  },
  {
   "cell_type": "markdown",
   "source": [
    "## 4.3 Automatic-differentiation of ODEs with Zygote.jl"
   ],
   "metadata": {}
  },
  {
   "cell_type": "markdown",
   "source": [
    "Zygote.jl also works with automatic differentation, but it requires another package: SciMLSensitivity.\n",
    "Here is an example of computing the derivative. The catch is its more restrictive, in particular it requires that\n",
    "the parameters are specified by a vector:"
   ],
   "metadata": {}
  },
  {
   "outputs": [],
   "cell_type": "code",
   "source": [
    "using Zygote, SciMLSensitivity\n",
    "\n",
    "function pendulum_rhs_zygote!(du, 𝐮, τv, t)\n",
    "    u,v = 𝐮\n",
    "    τ = τv[1]\n",
    "    du[1] = v\n",
    "    du[2] = -sin(u) - τ*v\n",
    "end\n",
    "\n",
    "function pendulum_friction_zygote(τ)\n",
    "    T = 10.0 # final time\n",
    "    u₀, v₀ = 1.0,1 # initial conditions\n",
    "    prob = ODEProblem(pendulum_rhs_zygote!, [u₀, v₀], (0.0, T), [τ])\n",
    "    solve(prob, Vern9(), abstol = 1e-10, reltol = 1e-10) # Vern9 is an explicit Runge-Kutta method\n",
    "end\n",
    "\n",
    "pendulum_friction_zygote_stop(τ) = pendulum_friction_zygote(τ)[end][1] # find the value of u at the final time\n",
    "\n",
    "\n",
    "@test pendulum_friction_zygote_stop'(0.1) ≈ ForwardDiff.derivative(pendulum_friction_stop, 0.1)"
   ],
   "metadata": {},
   "execution_count": null
  },
  {
   "cell_type": "markdown",
   "source": [
    "Now one might ask: how is Zygote.jl computing the derivative with reverse-mode automatic differentiation\n",
    "when `pendulum_rhs_zygote!` is modifying the input, something we said is not allowed? The answer: its not.\n",
    "Or more specifically: its computing the derivative (and indeed the pullback) using forward-mode automatic differentation.\n",
    "But we can still use it for efficiently computing gradients and optimising."
   ],
   "metadata": {}
  },
  {
   "cell_type": "markdown",
   "source": [
    "Here is an example of the pendulum equation where we allow for a piecewise-constant frictions and optimise their values so the final solution\n",
    "has roughly the same position and velocity as we started with. We first setup the problem and show we can\n",
    "compute gradients:"
   ],
   "metadata": {}
  },
  {
   "outputs": [],
   "cell_type": "code",
   "source": [
    "function pendulum_rhs_zygote!(du, 𝐮, τs, t)\n",
    "    u,v = 𝐮\n",
    "    τ = τs[max(1,ceil(Int, 10t))]\n",
    "    du[1] = v\n",
    "    du[2] = -sin(u) - τ*v\n",
    "end\n",
    "\n",
    "function pendulum_friction_vec(τs)\n",
    "    T = 10.0 # final time\n",
    "    u₀, v₀ = 1.0,1 # initial conditions\n",
    "    prob = ODEProblem(pendulum_rhs_zygote!, [u₀, v₀], (0.0, T), τs)\n",
    "     solve(prob, Vern9(), abstol = 1e-10, reltol = 1e-10) # Vern9 is an explicit Runge-Kutta method\n",
    "end\n",
    "\n",
    "# We include an extra unused argument for parameters.\n",
    "pendulum_friction_loss(τs, _) = norm(pendulum_friction_vec(τs)[end] .- 1) # find the value of u at the final time\n",
    "\n",
    "# We can compute the gradient\n",
    "@time gradient(pendulum_friction_loss, randn(100), ())"
   ],
   "metadata": {},
   "execution_count": null
  },
  {
   "cell_type": "markdown",
   "source": [
    "This can then be used an optimisation:"
   ],
   "metadata": {}
  },
  {
   "outputs": [],
   "cell_type": "code",
   "source": [
    "using Optimization, OptimizationOptimisers\n",
    "prob = OptimizationProblem(OptimizationFunction(pendulum_friction_loss, Optimization.AutoZygote()), randn(100), ())\n",
    "@time ret = solve(prob, Adam(0.03), maxiters=100)\n",
    "plot(pendulum_friction_vec(ret.u))"
   ],
   "metadata": {},
   "execution_count": null
  },
  {
   "cell_type": "markdown",
   "source": [
    "**Problem 4** For the predator-prey model, Choose $α,β,γ,δ$ to try to minimize the 2-norm of $x(t) - 1$ evaluated at\n",
    "the integer samples $t = 1,…,10$ using the initial condition $[x(0),y(0)] = [2,1]$. Hint: using `u = solve(...; saveat=1:10)` will cause `u.u` to contain the solution\n",
    "at the specified times. Different initial guesses will find different local minimum."
   ],
   "metadata": {}
  },
  {
   "outputs": [],
   "cell_type": "code",
   "source": [
    "# SOLUTION\n",
    "\n",
    "\n",
    "function predatorprey(ps)\n",
    "    prob = ODEProblem(predatorprey_rhs!, [2.,1.], (0.0, 10.0), ps)\n",
    "    solve(prob, Tsit5(), abstol = 1e-10, reltol = 1e-10, saveat=1:10)\n",
    "end\n",
    "\n",
    "function predatorprey_norm(ps, _)\n",
    "    u = predatorprey(ps)\n",
    "    norm(first.(u.u) .- 1)\n",
    "end\n",
    "\n",
    "prob = OptimizationProblem(OptimizationFunction(predatorprey_norm, Optimization.AutoZygote()), [1.0,0.1,0.1,1], ())\n",
    "@time ret = solve(prob, Adam(0.03), maxiters=300)\n",
    "plot(predatorprey(ret.u))\n",
    "\n",
    "\n",
    "## END"
   ],
   "metadata": {},
   "execution_count": null
  },
  {
   "cell_type": "markdown",
   "source": [
    "---\n",
    "\n",
    "*This notebook was generated using [Literate.jl](https://github.com/fredrikekre/Literate.jl).*"
   ],
   "metadata": {}
  }
 ],
 "nbformat_minor": 3,
 "metadata": {
  "language_info": {
   "file_extension": ".jl",
   "mimetype": "application/julia",
   "name": "julia",
   "version": "1.10.2"
  },
  "kernelspec": {
   "name": "julia-1.10",
   "display_name": "Julia 1.10.2",
   "language": "julia"
  }
 },
 "nbformat": 4
}
