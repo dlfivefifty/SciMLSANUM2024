{
 "cells": [
  {
   "cell_type": "markdown",
   "metadata": {},
   "source": [
    "# SciML SANUM2024\n",
    "# Lab 1: Introduction to Julia"
   ]
  },
  {
   "cell_type": "markdown",
   "metadata": {},
   "source": [
    "In this course we will use the programming language Julia. This is a modern, compiled,\n",
    "high-level, open-source language developed at MIT. It is becoming increasingly\n",
    "important in high-performance computing and AI, including by Astrazeneca, Moderna and\n",
    "Pfizer in drug development and clinical trial accelleration, IBM for medical diagnosis,\n",
    "MIT for robot locomotion, and elsewhere."
   ]
  },
  {
   "cell_type": "markdown",
   "metadata": {},
   "source": [
    "It is ideal for a course on Scientific Machine Learning (SciML)  because it both allows fast\n",
    "implementation of algorithms but also has support for fast automatic-differentiation,\n",
    "a feature that is of importance in machine learning.\n",
    "Also, the libraries for solving differential equations and SciML are quite advanced.\n",
    "As a bonus, it is easy-to-read and fun to write."
   ]
  },
  {
   "cell_type": "markdown",
   "metadata": {},
   "source": [
    "This first lab introduces the basics of Julia and some of its unique features in terms of creating custom types.\n",
    "This will become valuable in implementing automatic-differentiation for generic code, a feature that\n",
    "is particularly useful for SciML as it allows combining neural networks with general time-steppers."
   ]
  },
  {
   "cell_type": "markdown",
   "metadata": {},
   "source": [
    "**Learning Outcomes**\n",
    "\n",
    "1. Creating functions, both named and anonymous.\n",
    "2. The notion of a type and how to make your own type.\n",
    "3. Defining functions whose arguments are restricted to specific types.\n",
    "4. Overloading functions like `+`, `*`, and `exp` for a custom type.\n",
    "5. Construction of a dense `Vector` or `Matrix` either directly or via comprehensions or broadcasting."
   ]
  },
  {
   "cell_type": "markdown",
   "metadata": {},
   "source": [
    "In what follows we need to use the testing package, which provides a macro called `@test`\n",
    "that error whenever a test returns false. We load this as follows:"
   ]
  },
  {
   "cell_type": "code",
   "execution_count": 5,
   "metadata": {},
   "outputs": [
    {
     "data": {
      "text/plain": [
       "\u001b[32m\u001b[1mTest Passed\u001b[22m\u001b[39m"
      ]
     },
     "execution_count": 5,
     "metadata": {},
     "output_type": "execute_result"
    }
   ],
   "source": [
    "using Test\n",
    "\n",
    "@test 5 == 5"
   ]
  },
  {
   "cell_type": "markdown",
   "metadata": {},
   "source": [
    "## 1.1 Functions in Julia"
   ]
  },
  {
   "cell_type": "markdown",
   "metadata": {},
   "source": [
    "We begin with creating functions, which can be done in a number of ways.\n",
    "The most standard way is using the keyword `function`,\n",
    "followed by a name for the function,\n",
    "and in parentheses a list of arguments.\n",
    "Let's make a function that takes in a\n",
    "single number $x$ and returns $x^2$."
   ]
  },
  {
   "cell_type": "code",
   "execution_count": 9,
   "metadata": {},
   "outputs": [
    {
     "data": {
      "text/plain": [
       "(25, 27.040000000000003, 25.0)"
      ]
     },
     "execution_count": 9,
     "metadata": {},
     "output_type": "execute_result"
    }
   ],
   "source": [
    "function sq(x)\n",
    "    x^2\n",
    "end\n",
    "\n",
    "sq(5), sq(5.2), sq(5.0)"
   ]
  },
  {
   "cell_type": "markdown",
   "metadata": {},
   "source": [
    "There is also a convenient syntax for defining functions on\n",
    "one line, e.g., we can also write"
   ]
  },
  {
   "cell_type": "code",
   "execution_count": 11,
   "metadata": {},
   "outputs": [
    {
     "data": {
      "text/plain": [
       "25"
      ]
     },
     "execution_count": 11,
     "metadata": {},
     "output_type": "execute_result"
    }
   ],
   "source": [
    "sq(x) = x^2 # this is exactly the same as above\n",
    "\n",
    "sq(5)"
   ]
  },
  {
   "cell_type": "markdown",
   "metadata": {},
   "source": [
    "Multiple arguments to the function can be included with `,`.\n",
    "Here's a function that takes in 3 arguments and returns the average.\n",
    "(We write it on 3 lines only to show that functions can take multiple lines.)"
   ]
  },
  {
   "cell_type": "code",
   "execution_count": 36,
   "metadata": {},
   "outputs": [
    {
     "name": "stdout",
     "output_type": "stream",
     "text": [
      "  0.000001 seconds\n",
      "  0.000000 seconds\n"
     ]
    },
    {
     "data": {
      "text/plain": [
       "5"
      ]
     },
     "execution_count": 36,
     "metadata": {},
     "output_type": "execute_result"
    }
   ],
   "source": [
    "function av(x, y, z)\n",
    "    ret = x + y\n",
    "    ret = ret + z\n",
    "    ret/3\n",
    "end\n",
    "\n",
    "av(1,2,4) # compiled for Int,Int,Int\n",
    "@time av(1,2,4.3) # re-compile for Int,Int,Float64\n",
    "@time av(1,2,4.3) # uses pre-compile version for Int,Int,Float64\n",
    "\n",
    "\n",
    "𝐱 = [1,2,4]\n",
    "\n",
    "function av(𝐱)\n",
    "    ret = 𝐱[1] + 𝐱[2]\n",
    "    ret = ret + 𝐱[3]\n",
    "    ret/3\n",
    "end\n",
    "av(𝐱)\n",
    "sum(𝐱)/length(𝐱)\n",
    "\n",
    "function av(𝐱)\n",
    "    ret = 0\n",
    "    for k = 1:length(𝐱)\n",
    "        ret = ret + 𝐱[k]\n",
    "    end\n",
    "    ret, ret/length(𝐱) # returns \"tuple\"\n",
    "end\n",
    "\n",
    "av([1,2,3,45,56])"
   ]
  },
  {
   "cell_type": "markdown",
   "metadata": {},
   "source": [
    "**Remark**: Julia is a compiled language: the first time we run a command on a specific type it compiles for that type.\n",
    "The second time it is called on a type it reuses the precompiled function."
   ]
  },
  {
   "cell_type": "markdown",
   "metadata": {},
   "source": [
    " **Warning**: Variables live in different scopes.  In the previous example, `x`, `y`, `z` and `ret` are _local variables_:\n",
    "they only exist inside of `av`.\n",
    "If you reference variables not defined inside the function, they will use the outer scope definition.\n",
    "The following example shows that if we mistype the first argument as `xx`,\n",
    "then it takes on the outer scope definition `x`, which is a complex number:"
   ]
  },
  {
   "cell_type": "code",
   "execution_count": 19,
   "metadata": {},
   "outputs": [
    {
     "data": {
      "text/plain": [
       "3.3333333333333335"
      ]
     },
     "execution_count": 19,
     "metadata": {},
     "output_type": "execute_result"
    }
   ],
   "source": [
    "function av2(xx, y, z)\n",
    "    (x + y + z)/3\n",
    "end\n",
    "\n",
    "x = 6\n",
    "av2(2, 2, 2) # uses x = 5 from outside function"
   ]
  },
  {
   "cell_type": "markdown",
   "metadata": {},
   "source": [
    "You should avoid using global variables:\n",
    "we should ideally be able to predict the output of a function from knowing just the inputs.\n",
    "This also leads to faster code as the compiler can know the type of the variable."
   ]
  },
  {
   "cell_type": "markdown",
   "metadata": {},
   "source": [
    "Here is an example of a more complicated function that computes\n",
    "the _(right-sided) rectangular rule_\n",
    "for approximating an integral: choose $n$ large so that\n",
    "$$\n",
    "  ∫_0^1 f(x) {\\rm d}x ≈ {1 \\over n} ∑_{j=1}^n f(j/n).\n",
    "$$\n",
    "It demonstrates that functions can take in  other functions as inputs\n",
    "and shows the syntax for a for-loop:"
   ]
  },
  {
   "cell_type": "code",
   "execution_count": 45,
   "metadata": {},
   "outputs": [
    {
     "name": "stdout",
     "output_type": "stream",
     "text": [
      "  0.343367 seconds\n"
     ]
    },
    {
     "data": {
      "text/plain": [
       "1.7182818370501693"
      ]
     },
     "execution_count": 45,
     "metadata": {},
     "output_type": "execute_result"
    }
   ],
   "source": [
    "function rightrectangularrule(f, n)\n",
    "    ret = 0.0\n",
    "    for j = 1:n\n",
    "        ret = ret + f(j/n)\n",
    "    end\n",
    "    ret/n\n",
    "end\n",
    "\n",
    "@time rightrectangularrule(exp, 100_000_000) # _ are like commas in numbers"
   ]
  },
  {
   "cell_type": "markdown",
   "metadata": {},
   "source": [
    "### Anonymous (lambda) functions"
   ]
  },
  {
   "cell_type": "markdown",
   "metadata": {},
   "source": [
    "It is possible to make unnamed anonymous functions,\n",
    "with two variants on syntax:"
   ]
  },
  {
   "cell_type": "code",
   "execution_count": 61,
   "metadata": {},
   "outputs": [
    {
     "data": {
      "text/plain": [
       "1.4626517544986326"
      ]
     },
     "execution_count": 61,
     "metadata": {},
     "output_type": "execute_result"
    }
   ],
   "source": [
    "# in Matlab @(x) exp(x^2)\n",
    "f = x -> exp(x^2) # makes an \"anonymous function\"\n",
    "# What's the difference between this and a named function\n",
    "# f(x) = exp(x^2)\n",
    "# The named function is like a global const function\n",
    "\n",
    "f = (x,y) -> exp(x^2)+cos(y) # makes an \"anonymous function\"\n",
    "\n",
    "function returnanotherfunction(k)\n",
    "    x -> cos(k*x)\n",
    "end\n",
    "\n",
    "returnanotherfunction(5)(3)\n",
    "\n",
    "rightrectangularrule(x -> exp(x^2), 100_000_000)"
   ]
  },
  {
   "cell_type": "code",
   "execution_count": 52,
   "metadata": {},
   "outputs": [
    {
     "data": {
      "text/plain": [
       "(8103.083927575384, 1.0100075033995546)"
      ]
     },
     "execution_count": 52,
     "metadata": {},
     "output_type": "execute_result"
    }
   ],
   "source": [
    "myfunction(x) = exp(x^2)\n",
    "myfunction(x,y) = x + cos(y)\n",
    "myfunction(3), myfunction(2,3)"
   ]
  },
  {
   "cell_type": "markdown",
   "metadata": {},
   "source": [
    "There is not much difference between named and anonymous functions,\n",
    "both are compiled in the same manner. The only difference is\n",
    "named functions are in a sense \"permanent\". One can essentially think of\n",
    "named functions as \"global constant anonymous functions\"."
   ]
  },
  {
   "cell_type": "markdown",
   "metadata": {},
   "source": [
    "----"
   ]
  },
  {
   "cell_type": "markdown",
   "metadata": {},
   "source": [
    "**Problem 1(a)** Complete the following function `leftrectangularrule(f, n)` That approximates\n",
    "an integral using the left-sided rectangular rule:\n",
    "$$\n",
    "  ∫_0^1 f(x) {\\rm d}x ≈ {1 \\over n} ∑_{j=0}^{n-1} f(j/n).\n",
    "$$"
   ]
  },
  {
   "cell_type": "code",
   "execution_count": null,
   "metadata": {},
   "outputs": [],
   "source": [
    "using Test # Loads `@test` again in case you didn't run the line above.\n",
    "\n",
    "function leftrectangularrule(f, n)\n",
    "    # TODO: return (1/n) * ∑_{j=0}^{n-1} f(j/n) computed using a for-loop\n",
    "\n",
    "end\n",
    "\n",
    "@test leftrectangularrule(exp, 1000) ≈ exp(1) - 1 atol=1E-3 # tests that the approximation is accurate to 3 digits after the decimal point"
   ]
  },
  {
   "cell_type": "markdown",
   "metadata": {},
   "source": [
    "**Problem 1(b)** Use an anonymous function as input for `lefrectangularrule` to approximate\n",
    "the integral of $\\cos x^2$ on $[0,1]$ to 5 digits."
   ]
  },
  {
   "cell_type": "code",
   "execution_count": null,
   "metadata": {},
   "outputs": [],
   "source": [
    "# TODO: use an anonymous function to represent the function cos(x^2) and approximate its integral."
   ]
  },
  {
   "cell_type": "markdown",
   "metadata": {},
   "source": [
    "----"
   ]
  },
  {
   "cell_type": "markdown",
   "metadata": {},
   "source": [
    "## 1.2 Types in Julia"
   ]
  },
  {
   "cell_type": "markdown",
   "metadata": {},
   "source": [
    "In compiled languages like Julia everything has a \"type\". The function `typeof` can be used to determine the type of,\n",
    "for example, a number.\n",
    "By default when we write an integer (e.g. `-123`) it is of type `Int`:"
   ]
  },
  {
   "cell_type": "code",
   "execution_count": 65,
   "metadata": {},
   "outputs": [
    {
     "data": {
      "text/plain": [
       "(Int64, Float64, Float32)"
      ]
     },
     "execution_count": 65,
     "metadata": {},
     "output_type": "execute_result"
    }
   ],
   "source": [
    "typeof(5), typeof(5.0), typeof(5.0f0)"
   ]
  },
  {
   "cell_type": "markdown",
   "metadata": {},
   "source": [
    "On a 64-bit machine this will print `Int64`, where the `64` indicates it is using precisely 64 bits\n",
    "to represent the number. If we write something with\n",
    "a decimal point it represents a \"real\" number, whose storage is of type `Float64`:"
   ]
  },
  {
   "cell_type": "code",
   "execution_count": null,
   "metadata": {},
   "outputs": [],
   "source": [
    "#"
   ]
  },
  {
   "cell_type": "markdown",
   "metadata": {},
   "source": [
    "This is  a floating point number, and again the `64` indicates it is using precisely\n",
    "64 bits to represent this number. Note that some operations involving `Int`s return `Float64`s:"
   ]
  },
  {
   "cell_type": "code",
   "execution_count": null,
   "metadata": {},
   "outputs": [],
   "source": [
    "#"
   ]
  },
  {
   "cell_type": "markdown",
   "metadata": {},
   "source": [
    "It is possible to have functions behave differently depending on the input type.\n",
    "To do so we can add a restriction denoted `::Int` or `::Float64` to the function \"signature\".\n",
    "Here we create a function `foo` that is equal to `1` if the input is an `Int`, `0` if the input is\n",
    "a `Float64`, and `-1` otherwise:"
   ]
  },
  {
   "cell_type": "code",
   "execution_count": 68,
   "metadata": {},
   "outputs": [
    {
     "data": {
      "text/plain": [
       "(1, 0, -1)"
      ]
     },
     "execution_count": 68,
     "metadata": {},
     "output_type": "execute_result"
    }
   ],
   "source": [
    "foo(x::Int) = 1\n",
    "foo(x::Float64) = 0\n",
    "foo(x) = -1\n",
    "\n",
    "foo(5), foo(5.0), foo(\"hi\")"
   ]
  },
  {
   "cell_type": "markdown",
   "metadata": {},
   "source": [
    "The last line returns a list of `Int`s, which has the type `Tuple`.\n",
    "Note that there is a difference between an \"integer\" and the type `Int`: whilst 3.0 is an integer\n",
    "its type is `Float64` so `foo(3.0) == 0`."
   ]
  },
  {
   "cell_type": "markdown",
   "metadata": {},
   "source": [
    "Types allow for combining multiple numbers (or instances of other types) to represent a more complicated\n",
    "object. A simple example of this is a complex number,\n",
    "which stores two real numbers $x$ and $y$ (either `Int` or `Float64` or indeed other real number types not yet discussed)\n",
    "to represent the complex number $x + {\\rm i} y$. In Julia ${\\rm i} = \\sqrt{-1}$ is denoted `im` and\n",
    "hence we can create a complex number like $1+2{\\rm i}$ as follows:"
   ]
  },
  {
   "cell_type": "code",
   "execution_count": 73,
   "metadata": {},
   "outputs": [
    {
     "data": {
      "text/plain": [
       "ComplexF64\u001b[90m (alias for \u001b[39m\u001b[90mComplex{Float64}\u001b[39m\u001b[90m)\u001b[39m"
      ]
     },
     "execution_count": 73,
     "metadata": {},
     "output_type": "execute_result"
    }
   ],
   "source": [
    "z = 1 + im * 3.3\n",
    "typeof(z)"
   ]
  },
  {
   "cell_type": "markdown",
   "metadata": {},
   "source": [
    "This complex number has two \"fields\": the real and imaginary part. Accessing the fields is done\n",
    "using a `.`, here we display the real and imaginary parts as a `Tuple`:"
   ]
  },
  {
   "cell_type": "code",
   "execution_count": 76,
   "metadata": {},
   "outputs": [
    {
     "data": {
      "text/plain": [
       "(1.0, 3.3)"
      ]
     },
     "execution_count": 76,
     "metadata": {},
     "output_type": "execute_result"
    }
   ],
   "source": [
    "z.re, z.im"
   ]
  },
  {
   "cell_type": "markdown",
   "metadata": {},
   "source": [
    "When we ask  its type we see it is a `Complex{Int}`:"
   ]
  },
  {
   "cell_type": "code",
   "execution_count": null,
   "metadata": {},
   "outputs": [],
   "source": [
    "#"
   ]
  },
  {
   "cell_type": "markdown",
   "metadata": {},
   "source": [
    "The `{Int}` indicates that each of the fields is an `Int`.\n",
    "Note we can add, subtract, multiply, or apply functions like `exp` to complex numbers:"
   ]
  },
  {
   "cell_type": "code",
   "execution_count": 78,
   "metadata": {},
   "outputs": [
    {
     "data": {
      "text/plain": [
       "-4.990294266496956e-5 - 8.834697530948195e-6im"
      ]
     },
     "execution_count": 78,
     "metadata": {},
     "output_type": "execute_result"
    }
   ],
   "source": [
    "exp(z^2 + 3im)"
   ]
  },
  {
   "cell_type": "markdown",
   "metadata": {},
   "source": [
    "### Supertypes"
   ]
  },
  {
   "cell_type": "markdown",
   "metadata": {},
   "source": [
    "Every type has a \"supertype\", which is an \"abstract type\": something you can't make an instance of it.\n",
    "For example, in the same way that \"integers\"\n",
    "are subsets of the \"reals\" we have that `Int` and `Float64` are subtypes of\n",
    "`Real`. Which is a subtype of `Number`. Which, as is everything, a subtype of `Any`. We can see this with the\n",
    "`supertype` function:"
   ]
  },
  {
   "cell_type": "code",
   "execution_count": 88,
   "metadata": {},
   "outputs": [
    {
     "name": "stdout",
     "output_type": "stream",
     "text": [
      "typeof(5) = Int64\n",
      "supertype(Int) = Signed\n",
      "supertype(Signed) = Integer\n",
      "supertype(Integer) = Real\n",
      "supertype(Real) = Number\n",
      "supertype(Number) = Any\n",
      "supertype(Any) = Any\n"
     ]
    },
    {
     "data": {
      "text/plain": [
       "Any"
      ]
     },
     "execution_count": 88,
     "metadata": {},
     "output_type": "execute_result"
    }
   ],
   "source": [
    "@show typeof(5)\n",
    "@show supertype(Int)\n",
    "@show supertype(Signed)\n",
    "@show supertype(Integer)\n",
    "@show supertype(Real)\n",
    "@show supertype(Number)\n",
    "@show supertype(Any)"
   ]
  },
  {
   "cell_type": "code",
   "execution_count": 90,
   "metadata": {},
   "outputs": [
    {
     "data": {
      "text/plain": [
       "(1, 1, 1, -1)"
      ]
     },
     "execution_count": 90,
     "metadata": {},
     "output_type": "execute_result"
    }
   ],
   "source": [
    "newfoo(x::Real) = 1\n",
    "newfoo(x) = -1\n",
    "newfoo(5), newfoo(5.3), newfoo(Inf), newfoo(1+im)"
   ]
  },
  {
   "cell_type": "markdown",
   "metadata": {},
   "source": [
    "-----\n",
    "**Problem 2(a)** Use `typeof` to determine the type of `1.2 + 2.3im`."
   ]
  },
  {
   "cell_type": "code",
   "execution_count": null,
   "metadata": {},
   "outputs": [],
   "source": [
    "# TODO: What is the type of `1.2 + 2.3im`?"
   ]
  },
  {
   "cell_type": "markdown",
   "metadata": {},
   "source": [
    "**Problem 2(b)** Add another implementation of `foo` that returns `im` if the input\n",
    "is a `ComplexF64`."
   ]
  },
  {
   "cell_type": "code",
   "execution_count": null,
   "metadata": {},
   "outputs": [],
   "source": [
    "# TODO: Overload foo for when the input is a ComplexF64 and return im\n",
    "\n",
    "\n",
    "@test foo(1.1 + 2im) == im"
   ]
  },
  {
   "cell_type": "markdown",
   "metadata": {},
   "source": [
    "**Problem 3** Consider the Taylor series approximation to the exponential:\n",
    "$$\n",
    "\\exp z ≈ ∑_{k=0}^n {z^k \\over k!}\n",
    "$$\n",
    "Complete the function `exp_t(z, n)` that computes this and returns a\n",
    "`Complex{Float64}` if the input is complex and a `Float64` if the input is real.\n",
    "Do not use the inbuilt `factorial` function.\n",
    "Hint: It might help to think inductively: for $s_k = z^k/k!$ we have\n",
    "$$\n",
    "  s_{k+1}  = {z \\over k+1} s_k.\n",
    "$$"
   ]
  },
  {
   "cell_type": "code",
   "execution_count": null,
   "metadata": {},
   "outputs": [],
   "source": [
    "function exp_t(z, n)\n",
    "    # TODO: Compute the first (n+1)-terms of the Taylor series of exp\n",
    "    # evaluated at z\n",
    "\n",
    "end\n",
    "\n",
    "@test exp_t(1.0, 10) isa Float64 # isa is used to test the type of a result\n",
    "@test exp_t(im, 10) isa ComplexF64 # isa is used to test the type of a result\n",
    "\n",
    "@test exp_t(1.0, 100) ≈ exp(1)"
   ]
  },
  {
   "cell_type": "markdown",
   "metadata": {},
   "source": [
    "------"
   ]
  },
  {
   "cell_type": "markdown",
   "metadata": {},
   "source": [
    "### Making our own Types"
   ]
  },
  {
   "cell_type": "markdown",
   "metadata": {},
   "source": [
    "One of the powerful parts of Julia is that it's very easy to make our own types. Lets begin with a simple\n",
    "implementation of a rational function $p/q$ where $p$ and $q$ are `Int`s.  Thus we want to create a new\n",
    "type called `Rat` with two fields `p` and `q` to represent the numerator and denominator, respectively.\n",
    "(For simplicity  we won't worry about restricting $p$ and $q$ to be `Int`.)\n",
    "We can construct such a type using the `struct` keyword:"
   ]
  },
  {
   "cell_type": "code",
   "execution_count": 109,
   "metadata": {},
   "outputs": [
    {
     "name": "stdout",
     "output_type": "stream",
     "text": [
      "\"hi\" = \"hi\"\n"
     ]
    },
    {
     "data": {
      "text/plain": [
       "\"hi\""
      ]
     },
     "execution_count": 109,
     "metadata": {},
     "output_type": "execute_result"
    }
   ],
   "source": [
    "y = (@show \"hi\");\n",
    "y"
   ]
  },
  {
   "cell_type": "code",
   "execution_count": 121,
   "metadata": {},
   "outputs": [
    {
     "data": {
      "text/plain": [
       "Nothing"
      ]
     },
     "execution_count": 121,
     "metadata": {},
     "output_type": "execute_result"
    }
   ],
   "source": [
    "function foo()\n",
    "    ret = 0\n",
    "    for j = 1:5\n",
    "        ret = ret + j\n",
    "    end\n",
    "end\n",
    "x = foo();\n",
    "typeof(x)"
   ]
  },
  {
   "cell_type": "code",
   "execution_count": 91,
   "metadata": {},
   "outputs": [],
   "source": [
    "struct Rat # represents p/q\n",
    "    p # first field is called p\n",
    "    q # second field is called q\n",
    "end"
   ]
  },
  {
   "cell_type": "markdown",
   "metadata": {},
   "source": [
    "A new instance of `Rat` is created via e.g. `Rat(1, 2)` represents 1/2\n",
    "where the first argument specifies `p` and the second argument `q`.\n",
    "The fields are accessed by `.`:"
   ]
  },
  {
   "cell_type": "code",
   "execution_count": 94,
   "metadata": {},
   "outputs": [
    {
     "data": {
      "text/plain": [
       "(1, 2)"
      ]
     },
     "execution_count": 94,
     "metadata": {},
     "output_type": "execute_result"
    }
   ],
   "source": [
    "x = Rat(1, 2)\n",
    "x.p, x.q"
   ]
  },
  {
   "cell_type": "markdown",
   "metadata": {},
   "source": [
    "Unfortunately we can't actually do anything with this type, yet:"
   ]
  },
  {
   "cell_type": "code",
   "execution_count": 95,
   "metadata": {},
   "outputs": [
    {
     "ename": "LoadError",
     "evalue": "MethodError: no method matching +(::Rat, ::Rat)\n\n\u001b[0mClosest candidates are:\n\u001b[0m  +(::Any, ::Any, \u001b[91m::Any\u001b[39m, \u001b[91m::Any...\u001b[39m)\n\u001b[0m\u001b[90m   @\u001b[39m \u001b[90mBase\u001b[39m \u001b[90m\u001b[4moperators.jl:587\u001b[24m\u001b[39m\n",
     "output_type": "error",
     "traceback": [
      "MethodError: no method matching +(::Rat, ::Rat)\n\n\u001b[0mClosest candidates are:\n\u001b[0m  +(::Any, ::Any, \u001b[91m::Any\u001b[39m, \u001b[91m::Any...\u001b[39m)\n\u001b[0m\u001b[90m   @\u001b[39m \u001b[90mBase\u001b[39m \u001b[90m\u001b[4moperators.jl:587\u001b[24m\u001b[39m\n",
      "",
      "Stacktrace:",
      " [1] top-level scope",
      "   @ In[95]:1"
     ]
    }
   ],
   "source": [
    "x + x"
   ]
  },
  {
   "cell_type": "markdown",
   "metadata": {},
   "source": [
    "The error is telling us to overload the `+` function when the inputs are both `Rat`.\n",
    "To do this we need to \"import\" the `+` function and then we can overload it like any\n",
    "other function:"
   ]
  },
  {
   "cell_type": "code",
   "execution_count": 99,
   "metadata": {},
   "outputs": [
    {
     "data": {
      "text/plain": [
       "Rat(7, 6)"
      ]
     },
     "execution_count": 99,
     "metadata": {},
     "output_type": "execute_result"
    }
   ],
   "source": [
    "import Base: + # need to import + since its a special builtin function\n",
    "\n",
    "function +(x::Rat, y::Rat)\n",
    "    p,q = x.p, x.q # x represents p/q\n",
    "    r,s = y.p, y.q # y represents r/s\n",
    "    # x + y == (ps)/(qs) + (rq)/(qs) = (ps + rq)/qs\n",
    "    Rat(p*s + r*q, q*s)\n",
    "end\n",
    "\n",
    "x = Rat(1, 2) # represents 1/2\n",
    "y = Rat(2, 3) # represents 2/3\n",
    "\n",
    "\n",
    "x + y"
   ]
  },
  {
   "cell_type": "markdown",
   "metadata": {},
   "source": [
    "We can support mixing `Rat` and `Int` by adding additional functionality:"
   ]
  },
  {
   "cell_type": "code",
   "execution_count": 103,
   "metadata": {},
   "outputs": [
    {
     "data": {
      "text/plain": [
       "Rat(7, 2)"
      ]
     },
     "execution_count": 103,
     "metadata": {},
     "output_type": "execute_result"
    }
   ],
   "source": [
    "Rat(p::Int) = Rat(p,1)\n",
    "+(x::Rat, y::Int) = x + Rat(y)\n",
    "\n",
    "x + 3"
   ]
  },
  {
   "cell_type": "markdown",
   "metadata": {},
   "source": [
    "-----"
   ]
  },
  {
   "cell_type": "markdown",
   "metadata": {},
   "source": [
    "**Problem 4** Support `*`, `-`, `/`, and `==` for `Rat` and `Int`."
   ]
  },
  {
   "cell_type": "code",
   "execution_count": 105,
   "metadata": {},
   "outputs": [
    {
     "name": "stdout",
     "output_type": "stream",
     "text": [
      "search: \u001b[0m\u001b[1md\u001b[22m\u001b[0m\u001b[1mi\u001b[22m\u001b[0m\u001b[1mv\u001b[22m \u001b[0m\u001b[1md\u001b[22m\u001b[0m\u001b[1mi\u001b[22m\u001b[0m\u001b[1mv\u001b[22mrem \u001b[0m\u001b[1mD\u001b[22m\u001b[0m\u001b[1mi\u001b[22m\u001b[0m\u001b[1mv\u001b[22mideError split\u001b[0m\u001b[1md\u001b[22mr\u001b[0m\u001b[1mi\u001b[22m\u001b[0m\u001b[1mv\u001b[22me co\u001b[0m\u001b[1md\u001b[22me_nat\u001b[0m\u001b[1mi\u001b[22m\u001b[0m\u001b[1mv\u001b[22me @co\u001b[0m\u001b[1md\u001b[22me_nat\u001b[0m\u001b[1mi\u001b[22m\u001b[0m\u001b[1mv\u001b[22me\n",
      "\n"
     ]
    },
    {
     "data": {
      "text/latex": [
       "\\begin{verbatim}\n",
       "div(x, y)\n",
       "÷(x, y)\n",
       "\\end{verbatim}\n",
       "The quotient from Euclidean (integer) division. Generally equivalent to a mathematical operation x/y without a fractional part.\n",
       "\n",
       "See also: \\href{@ref}{\\texttt{cld}}, \\href{@ref}{\\texttt{fld}}, \\href{@ref}{\\texttt{rem}}, \\href{@ref}{\\texttt{divrem}}.\n",
       "\n",
       "\\section{Examples}\n",
       "\\begin{verbatim}\n",
       "julia> 9 ÷ 4\n",
       "2\n",
       "\n",
       "julia> -5 ÷ 3\n",
       "-1\n",
       "\n",
       "julia> 5.0 ÷ 2\n",
       "2.0\n",
       "\n",
       "julia> div.(-5:5, 3)'\n",
       "1×11 adjoint(::Vector{Int64}) with eltype Int64:\n",
       " -1  -1  -1  0  0  0  0  0  1  1  1\n",
       "\\end{verbatim}\n",
       "\\rule{\\textwidth}{1pt}\n",
       "\\begin{verbatim}\n",
       "div(x, y, r::RoundingMode=RoundToZero)\n",
       "\\end{verbatim}\n",
       "The quotient from Euclidean (integer) division. Computes \\texttt{x / y}, rounded to an integer according to the rounding mode \\texttt{r}. In other words, the quantity\n",
       "\n",
       "\\begin{verbatim}\n",
       "round(x / y, r)\n",
       "\\end{verbatim}\n",
       "without any intermediate rounding.\n",
       "\n",
       "\\begin{quote}\n",
       "\\textbf{compat}\n",
       "\n",
       "Julia 1.4\n",
       "\n",
       "The three-argument method taking a \\texttt{RoundingMode} requires Julia 1.4 or later.\n",
       "\n",
       "\\end{quote}\n",
       "See also \\href{@ref}{\\texttt{fld}} and \\href{@ref}{\\texttt{cld}}, which are special cases of this function.\n",
       "\n",
       "\\begin{quote}\n",
       "\\textbf{compat}\n",
       "\n",
       "Julia 1.9\n",
       "\n",
       "\\texttt{RoundFromZero} requires at least Julia 1.9.\n",
       "\n",
       "\\end{quote}\n",
       "\\section{Examples:}\n",
       "\\begin{verbatim}\n",
       "julia> div(4, 3, RoundDown) # Matches fld(4, 3)\n",
       "1\n",
       "julia> div(4, 3, RoundUp) # Matches cld(4, 3)\n",
       "2\n",
       "julia> div(5, 2, RoundNearest)\n",
       "2\n",
       "julia> div(5, 2, RoundNearestTiesAway)\n",
       "3\n",
       "julia> div(-5, 2, RoundNearest)\n",
       "-2\n",
       "julia> div(-5, 2, RoundNearestTiesAway)\n",
       "-3\n",
       "julia> div(-5, 2, RoundNearestTiesUp)\n",
       "-2\n",
       "julia> div(4, 3, RoundFromZero)\n",
       "2\n",
       "julia> div(-4, 3, RoundFromZero)\n",
       "-2\n",
       "\\end{verbatim}\n"
      ],
      "text/markdown": [
       "```\n",
       "div(x, y)\n",
       "÷(x, y)\n",
       "```\n",
       "\n",
       "The quotient from Euclidean (integer) division. Generally equivalent to a mathematical operation x/y without a fractional part.\n",
       "\n",
       "See also: [`cld`](@ref), [`fld`](@ref), [`rem`](@ref), [`divrem`](@ref).\n",
       "\n",
       "# Examples\n",
       "\n",
       "```jldoctest\n",
       "julia> 9 ÷ 4\n",
       "2\n",
       "\n",
       "julia> -5 ÷ 3\n",
       "-1\n",
       "\n",
       "julia> 5.0 ÷ 2\n",
       "2.0\n",
       "\n",
       "julia> div.(-5:5, 3)'\n",
       "1×11 adjoint(::Vector{Int64}) with eltype Int64:\n",
       " -1  -1  -1  0  0  0  0  0  1  1  1\n",
       "```\n",
       "\n",
       "---\n",
       "\n",
       "```\n",
       "div(x, y, r::RoundingMode=RoundToZero)\n",
       "```\n",
       "\n",
       "The quotient from Euclidean (integer) division. Computes `x / y`, rounded to an integer according to the rounding mode `r`. In other words, the quantity\n",
       "\n",
       "```\n",
       "round(x / y, r)\n",
       "```\n",
       "\n",
       "without any intermediate rounding.\n",
       "\n",
       "!!! compat \"Julia 1.4\"\n",
       "    The three-argument method taking a `RoundingMode` requires Julia 1.4 or later.\n",
       "\n",
       "\n",
       "See also [`fld`](@ref) and [`cld`](@ref), which are special cases of this function.\n",
       "\n",
       "!!! compat \"Julia 1.9\"\n",
       "    `RoundFromZero` requires at least Julia 1.9.\n",
       "\n",
       "\n",
       "# Examples:\n",
       "\n",
       "```jldoctest\n",
       "julia> div(4, 3, RoundDown) # Matches fld(4, 3)\n",
       "1\n",
       "julia> div(4, 3, RoundUp) # Matches cld(4, 3)\n",
       "2\n",
       "julia> div(5, 2, RoundNearest)\n",
       "2\n",
       "julia> div(5, 2, RoundNearestTiesAway)\n",
       "3\n",
       "julia> div(-5, 2, RoundNearest)\n",
       "-2\n",
       "julia> div(-5, 2, RoundNearestTiesAway)\n",
       "-3\n",
       "julia> div(-5, 2, RoundNearestTiesUp)\n",
       "-2\n",
       "julia> div(4, 3, RoundFromZero)\n",
       "2\n",
       "julia> div(-4, 3, RoundFromZero)\n",
       "-2\n",
       "```\n"
      ],
      "text/plain": [
       "\u001b[36m  div(x, y)\u001b[39m\n",
       "\u001b[36m  ÷(x, y)\u001b[39m\n",
       "\n",
       "  The quotient from Euclidean (integer) division. Generally equivalent to a\n",
       "  mathematical operation x/y without a fractional part.\n",
       "\n",
       "  See also: \u001b[36mcld\u001b[39m, \u001b[36mfld\u001b[39m, \u001b[36mrem\u001b[39m, \u001b[36mdivrem\u001b[39m.\n",
       "\n",
       "\u001b[1m  Examples\u001b[22m\n",
       "\u001b[1m  ≡≡≡≡≡≡≡≡\u001b[22m\n",
       "\n",
       "\u001b[36m  julia> 9 ÷ 4\u001b[39m\n",
       "\u001b[36m  2\u001b[39m\n",
       "\u001b[36m  \u001b[39m\n",
       "\u001b[36m  julia> -5 ÷ 3\u001b[39m\n",
       "\u001b[36m  -1\u001b[39m\n",
       "\u001b[36m  \u001b[39m\n",
       "\u001b[36m  julia> 5.0 ÷ 2\u001b[39m\n",
       "\u001b[36m  2.0\u001b[39m\n",
       "\u001b[36m  \u001b[39m\n",
       "\u001b[36m  julia> div.(-5:5, 3)'\u001b[39m\n",
       "\u001b[36m  1×11 adjoint(::Vector{Int64}) with eltype Int64:\u001b[39m\n",
       "\u001b[36m   -1  -1  -1  0  0  0  0  0  1  1  1\u001b[39m\n",
       "\n",
       "  ────────────────────────────────────────────────────────────────────────────\n",
       "\n",
       "\u001b[36m  div(x, y, r::RoundingMode=RoundToZero)\u001b[39m\n",
       "\n",
       "  The quotient from Euclidean (integer) division. Computes \u001b[36mx / y\u001b[39m, rounded to\n",
       "  an integer according to the rounding mode \u001b[36mr\u001b[39m. In other words, the quantity\n",
       "\n",
       "\u001b[36m  round(x / y, r)\u001b[39m\n",
       "\n",
       "  without any intermediate rounding.\n",
       "\n",
       "\u001b[39m\u001b[1m  │ \u001b[22m\u001b[39m\u001b[1mJulia 1.4\u001b[22m\n",
       "\u001b[39m\u001b[1m  │\u001b[22m\n",
       "\u001b[39m\u001b[1m  │\u001b[22m  The three-argument method taking a \u001b[36mRoundingMode\u001b[39m requires Julia 1.4\n",
       "\u001b[39m\u001b[1m  │\u001b[22m  or later.\n",
       "\n",
       "  See also \u001b[36mfld\u001b[39m and \u001b[36mcld\u001b[39m, which are special cases of this function.\n",
       "\n",
       "\u001b[39m\u001b[1m  │ \u001b[22m\u001b[39m\u001b[1mJulia 1.9\u001b[22m\n",
       "\u001b[39m\u001b[1m  │\u001b[22m\n",
       "\u001b[39m\u001b[1m  │\u001b[22m  \u001b[36mRoundFromZero\u001b[39m requires at least Julia 1.9.\n",
       "\n",
       "\u001b[1m  Examples:\u001b[22m\n",
       "\u001b[1m  ≡≡≡≡≡≡≡≡≡\u001b[22m\n",
       "\n",
       "\u001b[36m  julia> div(4, 3, RoundDown) # Matches fld(4, 3)\u001b[39m\n",
       "\u001b[36m  1\u001b[39m\n",
       "\u001b[36m  julia> div(4, 3, RoundUp) # Matches cld(4, 3)\u001b[39m\n",
       "\u001b[36m  2\u001b[39m\n",
       "\u001b[36m  julia> div(5, 2, RoundNearest)\u001b[39m\n",
       "\u001b[36m  2\u001b[39m\n",
       "\u001b[36m  julia> div(5, 2, RoundNearestTiesAway)\u001b[39m\n",
       "\u001b[36m  3\u001b[39m\n",
       "\u001b[36m  julia> div(-5, 2, RoundNearest)\u001b[39m\n",
       "\u001b[36m  -2\u001b[39m\n",
       "\u001b[36m  julia> div(-5, 2, RoundNearestTiesAway)\u001b[39m\n",
       "\u001b[36m  -3\u001b[39m\n",
       "\u001b[36m  julia> div(-5, 2, RoundNearestTiesUp)\u001b[39m\n",
       "\u001b[36m  -2\u001b[39m\n",
       "\u001b[36m  julia> div(4, 3, RoundFromZero)\u001b[39m\n",
       "\u001b[36m  2\u001b[39m\n",
       "\u001b[36m  julia> div(-4, 3, RoundFromZero)\u001b[39m\n",
       "\u001b[36m  -2\u001b[39m"
      ]
     },
     "execution_count": 105,
     "metadata": {},
     "output_type": "execute_result"
    }
   ],
   "source": [
    "? div"
   ]
  },
  {
   "cell_type": "code",
   "execution_count": null,
   "metadata": {},
   "outputs": [],
   "source": [
    "# We import `+`, `-`, `*`, `/` so we can \"overload\" these operations\n",
    "# specifically for `Rat`.\n",
    "import Base: +, -, *, /, ==\n",
    "\n",
    "# The ::Rat means the following version of `==` is only called if both\n",
    "# arguments are Rat.\n",
    "function ==(x::Rat, y::Rat)\n",
    "    # TODO: implement equality, making sure to check the case where\n",
    "    # the numerator/denominator are possibly reducible\n",
    "    # Hint: gcd and div may be useful. Use ? to find out what they do\n",
    "\n",
    "\n",
    "end\n",
    "\n",
    "# We can also support equality when `x isa Rat` and `y isa Int`\n",
    "function ==(x::Rat, y::Int)\n",
    "    # TODO: implement\n",
    "\n",
    "end\n",
    "\n",
    "# TODO: implement ==(x::Int, y::Rat)\n",
    "\n",
    "\n",
    "@test Rat(1, 2) == Rat(2, 4)\n",
    "@test Rat(1, 2) ≠ Rat(1, 3)\n",
    "@test Rat(2,2) == 1\n",
    "@test 1 == Rat(2,2)\n",
    "\n",
    "# TODO: implement +, -, *, and /,\n",
    "\n",
    "\n",
    "@test Rat(1, 2) + Rat(1, 3) == Rat(5, 6)\n",
    "@test Rat(1, 3) - Rat(1, 2) == Rat(-1, 6)\n",
    "@test Rat(2, 3) * Rat(3, 4) == Rat(1, 2)\n",
    "@test Rat(2, 3) / Rat(3, 4) == Rat(8, 9)"
   ]
  },
  {
   "cell_type": "markdown",
   "metadata": {},
   "source": [
    "## 1.3 Arrays"
   ]
  },
  {
   "cell_type": "markdown",
   "metadata": {},
   "source": [
    "One can create arrays in multiple ways. For example, the function `zeros(Int, 10)` creates\n",
    "a 10-element `Vector` whose entries are all `zero(Int) == 0`. Or `fill(x, 10)` creates a\n",
    "10-element `Vector` whose entries are all equal to `x`. Or you can use a comprehension:\n",
    "for example `[k^2 for k = 1:10]` creates a vector whose entries are `[1^2, 2^2, …, 10^2]`.\n",
    "This also works for matrices: `zeros(Int, 10, 5)` creates a 10 × 5 matrix of all zeros,\n",
    "and `[k^2 + j for k=1:3, j=1:4]` creates the following:"
   ]
  },
  {
   "cell_type": "code",
   "execution_count": 128,
   "metadata": {},
   "outputs": [
    {
     "ename": "LoadError",
     "evalue": "MethodError: \u001b[0mCannot `convert` an object of type \u001b[92mFloat64\u001b[39m\u001b[0m to an object of type \u001b[91mRat\u001b[39m\n\n\u001b[0mClosest candidates are:\n\u001b[0m  convert(::Type{T}, \u001b[91m::T\u001b[39m) where T\n\u001b[0m\u001b[90m   @\u001b[39m \u001b[90mBase\u001b[39m \u001b[90m\u001b[4mBase.jl:84\u001b[24m\u001b[39m\n\u001b[0m  Rat(::Any, \u001b[91m::Any\u001b[39m)\n\u001b[0m\u001b[90m   @\u001b[39m \u001b[36mMain\u001b[39m \u001b[90m\u001b[4mIn[91]:2\u001b[24m\u001b[39m\n",
     "output_type": "error",
     "traceback": [
      "MethodError: \u001b[0mCannot `convert` an object of type \u001b[92mFloat64\u001b[39m\u001b[0m to an object of type \u001b[91mRat\u001b[39m\n\n\u001b[0mClosest candidates are:\n\u001b[0m  convert(::Type{T}, \u001b[91m::T\u001b[39m) where T\n\u001b[0m\u001b[90m   @\u001b[39m \u001b[90mBase\u001b[39m \u001b[90m\u001b[4mBase.jl:84\u001b[24m\u001b[39m\n\u001b[0m  Rat(::Any, \u001b[91m::Any\u001b[39m)\n\u001b[0m\u001b[90m   @\u001b[39m \u001b[36mMain\u001b[39m \u001b[90m\u001b[4mIn[91]:2\u001b[24m\u001b[39m\n",
      "",
      "Stacktrace:",
      " [1] setindex!(A::Vector{Rat}, x::Float64, i1::Int64)",
      "   @ Base ./array.jl:1021",
      " [2] top-level scope",
      "   @ In[128]:11"
     ]
    }
   ],
   "source": [
    "import Base: zero\n",
    "zero(::Type{Rat}) = Rat(0,1)\n",
    "\n",
    "r = zeros(5) # default to Float64\n",
    "r = zeros(Int, 6)\n",
    "r = zeros(Rat, 3)\n",
    "\n",
    "r[2] = Rat(1,2)\n",
    "r\n",
    "\n",
    "r[3] = 3.4 # cannot set a vector of Rats to a Float64."
   ]
  },
  {
   "cell_type": "code",
   "execution_count": 137,
   "metadata": {},
   "outputs": [
    {
     "data": {
      "text/plain": [
       "3×1 Matrix{Int64}:\n",
       " 1\n",
       " 2\n",
       " 3"
      ]
     },
     "execution_count": 137,
     "metadata": {},
     "output_type": "execute_result"
    }
   ],
   "source": [
    "[k for k=1:3,j=1:1]"
   ]
  },
  {
   "cell_type": "code",
   "execution_count": 136,
   "metadata": {},
   "outputs": [
    {
     "data": {
      "text/plain": [
       "3-element Vector{Int64}:\n",
       " 1\n",
       " 2\n",
       " 3"
      ]
     },
     "execution_count": 136,
     "metadata": {},
     "output_type": "execute_result"
    }
   ],
   "source": [
    "[1,2,3] # Vector with 3 entries"
   ]
  },
  {
   "cell_type": "code",
   "execution_count": 132,
   "metadata": {},
   "outputs": [
    {
     "data": {
      "text/plain": [
       "9×2 Matrix{Float64}:\n",
       " 0.5       1.0\n",
       " 0.333333  0.666667\n",
       " 0.25      0.5\n",
       " 0.2       0.4\n",
       " 0.166667  0.333333\n",
       " 0.142857  0.285714\n",
       " 0.125     0.25\n",
       " 0.111111  0.222222\n",
       " 0.1       0.2"
      ]
     },
     "execution_count": 132,
     "metadata": {},
     "output_type": "execute_result"
    }
   ],
   "source": [
    "[j/k for k=2:10, j=1:2]"
   ]
  },
  {
   "cell_type": "markdown",
   "metadata": {},
   "source": [
    "Note sometimes it is best to create a vector/matrix and populate it. For example, the\n",
    "previous matrix could also been constructed as follows:"
   ]
  },
  {
   "cell_type": "code",
   "execution_count": 143,
   "metadata": {},
   "outputs": [
    {
     "data": {
      "text/plain": [
       "9×2×3 Array{Float64, 3}:\n",
       "[:, :, 1] =\n",
       " 1.5      2.0\n",
       " 1.33333  1.66667\n",
       " 1.25     1.5\n",
       " 1.2      1.4\n",
       " 1.16667  1.33333\n",
       " 1.14286  1.28571\n",
       " 1.125    1.25\n",
       " 1.11111  1.22222\n",
       " 1.1      1.2\n",
       "\n",
       "[:, :, 2] =\n",
       " 2.5      3.0\n",
       " 2.33333  2.66667\n",
       " 2.25     2.5\n",
       " 2.2      2.4\n",
       " 2.16667  2.33333\n",
       " 2.14286  2.28571\n",
       " 2.125    2.25\n",
       " 2.11111  2.22222\n",
       " 2.1      2.2\n",
       "\n",
       "[:, :, 3] =\n",
       " 3.5      4.0\n",
       " 3.33333  3.66667\n",
       " 3.25     3.5\n",
       " 3.2      3.4\n",
       " 3.16667  3.33333\n",
       " 3.14286  3.28571\n",
       " 3.125    3.25\n",
       " 3.11111  3.22222\n",
       " 3.1      3.2"
      ]
     },
     "execution_count": 143,
     "metadata": {},
     "output_type": "execute_result"
    }
   ],
   "source": [
    "A = zeros(Float64, 9, 2, 3)\n",
    "for k = 1:size(A,1), j = 1:size(A,2), l=1:size(A,3)\n",
    "    A[k,j,l] = j/(k+1)+l\n",
    "end\n",
    "A"
   ]
  },
  {
   "cell_type": "markdown",
   "metadata": {},
   "source": [
    "**Remark** Julia uses 1-based indexing where the first index of a vector/matrix\n",
    "is 1. This is standard in all mathematical programming languages (Fortran, Maple, Matlab, Mathematica)\n",
    "whereas those designed for computer science use 0-based indexing (C, Python, Rust)."
   ]
  },
  {
   "cell_type": "markdown",
   "metadata": {},
   "source": [
    "Be careful: a `Matrix` or `Vector` can only ever contain entries of the right\n",
    "type. It will attempt to convert an assignment to the right type but will throw\n",
    "an error if not successful:"
   ]
  },
  {
   "cell_type": "code",
   "execution_count": null,
   "metadata": {},
   "outputs": [],
   "source": [
    "#"
   ]
  },
  {
   "cell_type": "markdown",
   "metadata": {},
   "source": [
    "------\n",
    "**Problem 5(a)** Create a 5×6 matrix whose entries are `Int` which is\n",
    "one in all entries. Hint: use a for-loop, `ones`, `fill`, or a comprehension."
   ]
  },
  {
   "cell_type": "code",
   "execution_count": null,
   "metadata": {},
   "outputs": [],
   "source": [
    "# TODO: Create a matrix of ones, 4 different ways"
   ]
  },
  {
   "cell_type": "markdown",
   "metadata": {},
   "source": [
    "**Problem 5(b)** Create a 1 × 5 `Matrix{Int}` with entries `A[k,j] = j`. Hint: use a for-loop or a comprehension."
   ]
  },
  {
   "cell_type": "code",
   "execution_count": null,
   "metadata": {},
   "outputs": [],
   "source": [
    "# TODO: Create a 1 × 5  matrix whose entries equal the column, 2 different ways"
   ]
  },
  {
   "cell_type": "markdown",
   "metadata": {},
   "source": [
    "-------\n",
    "### Transposes and adjoints"
   ]
  },
  {
   "cell_type": "markdown",
   "metadata": {},
   "source": [
    "We can also transpose a matrix `A` via `transpose(A)`\n",
    "or compute the adjoint (conjugate-transpose) via `A'` (which is\n",
    "equivalent to a transpose when the entries are real).\n",
    "This is done _lazily_: they return custom types `Transpose` or\n",
    "`Adjoint` that just wrap the input array and reinterpret the entries.\n",
    "Here is a simple example:"
   ]
  },
  {
   "cell_type": "code",
   "execution_count": 150,
   "metadata": {},
   "outputs": [
    {
     "data": {
      "text/plain": [
       "3×2 adjoint(::Matrix{Float64}) with eltype Float64:\n",
       " 2.27007   -0.10729\n",
       " 0.050646  -0.698105\n",
       " 0.989368   0.0979213"
      ]
     },
     "execution_count": 150,
     "metadata": {},
     "output_type": "execute_result"
    }
   ],
   "source": [
    "A = randn(2,3)\n",
    "B = A'"
   ]
  },
  {
   "cell_type": "code",
   "execution_count": 152,
   "metadata": {},
   "outputs": [
    {
     "data": {
      "text/plain": [
       "2×3 Matrix{Float64}:\n",
       "  2.27007   2.0       0.989368\n",
       " -0.10729  -0.698105  0.0979213"
      ]
     },
     "execution_count": 152,
     "metadata": {},
     "output_type": "execute_result"
    }
   ],
   "source": [
    "B[2,1] = 2\n",
    "B\n",
    "A"
   ]
  },
  {
   "cell_type": "code",
   "execution_count": 153,
   "metadata": {},
   "outputs": [
    {
     "data": {
      "text/plain": [
       "LinearAlgebra.Adjoint{Float64, Matrix{Float64}}"
      ]
     },
     "execution_count": 153,
     "metadata": {},
     "output_type": "execute_result"
    }
   ],
   "source": [
    "typeof(B)"
   ]
  },
  {
   "cell_type": "code",
   "execution_count": 180,
   "metadata": {},
   "outputs": [
    {
     "data": {
      "text/plain": [
       "2×3 Matrix{Float64}:\n",
       "  0.311242    3.0       -0.0338389\n",
       " -0.0383633  -0.985443   0.283443"
      ]
     },
     "execution_count": 180,
     "metadata": {},
     "output_type": "execute_result"
    }
   ],
   "source": [
    "function foo!(A) # Julia is pass by reference. \n",
    "    # ! is like a letter in a function name\n",
    "    # convention is functions end in ! if they modify their input\n",
    "    A[1,2] = 3\n",
    "    A\n",
    "end\n",
    "\n",
    "function foo(A) # Julia is pass by reference. \n",
    "    B = Array(A) # makes a copy, or Matrix(A)\n",
    "    foo!(B)\n",
    "end\n",
    "\n",
    "\n",
    "A = randn(2,3)\n",
    "foo(A)"
   ]
  },
  {
   "cell_type": "code",
   "execution_count": 181,
   "metadata": {},
   "outputs": [
    {
     "data": {
      "text/plain": [
       "3×2 Matrix{Float64}:\n",
       "  0.311242   -0.0383633\n",
       " -0.177781   -0.985443\n",
       " -0.0338389   0.283443"
      ]
     },
     "execution_count": 181,
     "metadata": {},
     "output_type": "execute_result"
    }
   ],
   "source": [
    "A' # just wraps A in another type\n",
    "Matrix(A') # makes new matrix with same entries as A'"
   ]
  },
  {
   "cell_type": "code",
   "execution_count": 176,
   "metadata": {},
   "outputs": [
    {
     "data": {
      "text/plain": [
       "AbstractVector{Int64}\u001b[90m (alias for \u001b[39m\u001b[90mAbstractArray{Int64, 1}\u001b[39m\u001b[90m)\u001b[39m"
      ]
     },
     "execution_count": 176,
     "metadata": {},
     "output_type": "execute_result"
    }
   ],
   "source": [
    "x = 1:3 # this is like a vector\n",
    "supertype(supertype(supertype(supertype(typeof(x)))))"
   ]
  },
  {
   "cell_type": "code",
   "execution_count": 179,
   "metadata": {},
   "outputs": [
    {
     "data": {
      "text/plain": [
       "1:3"
      ]
     },
     "execution_count": 179,
     "metadata": {},
     "output_type": "execute_result"
    }
   ],
   "source": [
    "copy(x) # For immutable types, copy just returns the same thing"
   ]
  },
  {
   "cell_type": "code",
   "execution_count": 178,
   "metadata": {},
   "outputs": [
    {
     "ename": "LoadError",
     "evalue": "CanonicalIndexError: setindex! not defined for UnitRange{Int64}",
     "output_type": "error",
     "traceback": [
      "CanonicalIndexError: setindex! not defined for UnitRange{Int64}",
      "",
      "Stacktrace:",
      " [1] error_if_canonical_setindex(::IndexLinear, A::UnitRange{Int64}, ::Int64)",
      "   @ Base ./abstractarray.jl:1404",
      " [2] setindex!(A::UnitRange{Int64}, v::Int64, I::Int64)",
      "   @ Base ./abstractarray.jl:1395",
      " [3] top-level scope",
      "   @ In[178]:1"
     ]
    }
   ],
   "source": [
    "x[2] = 3"
   ]
  },
  {
   "cell_type": "code",
   "execution_count": 185,
   "metadata": {},
   "outputs": [
    {
     "data": {
      "text/plain": [
       "LinearAlgebra.Adjoint{Float64, Matrix{Float64}}"
      ]
     },
     "execution_count": 185,
     "metadata": {},
     "output_type": "execute_result"
    }
   ],
   "source": [
    "typeof(A')"
   ]
  },
  {
   "cell_type": "code",
   "execution_count": null,
   "metadata": {},
   "outputs": [],
   "source": [
    "copy("
   ]
  },
  {
   "cell_type": "code",
   "execution_count": 158,
   "metadata": {},
   "outputs": [
    {
     "data": {
      "text/plain": [
       "2×3 Matrix{Float64}:\n",
       "  2.27007   3.0       0.989368\n",
       " -0.10729  -0.698105  0.0979213"
      ]
     },
     "execution_count": 158,
     "metadata": {},
     "output_type": "execute_result"
    }
   ],
   "source": [
    "foo!(A)"
   ]
  },
  {
   "cell_type": "code",
   "execution_count": 159,
   "metadata": {},
   "outputs": [
    {
     "data": {
      "text/plain": [
       "2×3 Matrix{Float64}:\n",
       "  2.27007   3.0       0.989368\n",
       " -0.10729  -0.698105  0.0979213"
      ]
     },
     "execution_count": 159,
     "metadata": {},
     "output_type": "execute_result"
    }
   ],
   "source": [
    "A"
   ]
  },
  {
   "cell_type": "markdown",
   "metadata": {},
   "source": [
    "If we change entries of `A'` it actually changes entries of `A` too since\n",
    "they are pointing to the same locations in memory, just interpreting the data differently:"
   ]
  },
  {
   "cell_type": "code",
   "execution_count": null,
   "metadata": {},
   "outputs": [],
   "source": [
    "#"
   ]
  },
  {
   "cell_type": "markdown",
   "metadata": {},
   "source": [
    "Note vector adjoints/transposes behave differently than 1 × n matrices: they are\n",
    "more like row-vectors. For example the following computes the dot product of two vectors:"
   ]
  },
  {
   "cell_type": "code",
   "execution_count": null,
   "metadata": {},
   "outputs": [],
   "source": [
    "#"
   ]
  },
  {
   "cell_type": "markdown",
   "metadata": {},
   "source": [
    "### Broadcasting"
   ]
  },
  {
   "cell_type": "markdown",
   "metadata": {},
   "source": [
    "_Broadcasting_ is a powerful and convenient way to create matrices or vectors,\n",
    "where a function is applied to every entry of a vector or matrix.\n",
    "By adding `.` to the end of a function we \"broadcast\" the function over\n",
    "a vector:"
   ]
  },
  {
   "cell_type": "code",
   "execution_count": 197,
   "metadata": {},
   "outputs": [
    {
     "data": {
      "text/plain": [
       "3×2 Matrix{Float64}:\n",
       "   2.71828    7.38906\n",
       "  20.0855    54.5982\n",
       " 148.413    403.429"
      ]
     },
     "execution_count": 197,
     "metadata": {},
     "output_type": "execute_result"
    }
   ],
   "source": [
    "x = [1,2,3]\n",
    "f = x -> exp(x^2)\n",
    "f.(x) # [exp(x[k]) for k = 1:length(x)]\n",
    "A = [1 2; 3 4; 5 6]\n",
    "exp.(A)"
   ]
  },
  {
   "cell_type": "markdown",
   "metadata": {},
   "source": [
    "Broadcasting has some interesting behaviour for matrices.\n",
    "If one dimension of a matrix (or vector) is `1`, it automatically\n",
    "repeats the matrix (or vector) to match the size of another example.\n",
    "In the following we use broadcasting to pointwise-multiply a column and row\n",
    "vector to make a matrix:"
   ]
  },
  {
   "cell_type": "code",
   "execution_count": 201,
   "metadata": {},
   "outputs": [
    {
     "data": {
      "text/plain": [
       "3×2 Matrix{Float64}:\n",
       "   3.84854   12.339\n",
       "  18.1968   113.854\n",
       " 347.191    900.922"
      ]
     },
     "execution_count": 201,
     "metadata": {},
     "output_type": "execute_result"
    }
   ],
   "source": [
    "f = (x,y) -> exp(x + cos(y))\n",
    "A\n",
    "B = randn(3,2)\n",
    "f.(A, B)"
   ]
  },
  {
   "cell_type": "code",
   "execution_count": 202,
   "metadata": {},
   "outputs": [
    {
     "data": {
      "text/plain": [
       "3.848536018476063"
      ]
     },
     "execution_count": 202,
     "metadata": {},
     "output_type": "execute_result"
    }
   ],
   "source": [
    "f(A[1,1], B[1,1]) # first entry in f.(A, B)"
   ]
  },
  {
   "cell_type": "code",
   "execution_count": 206,
   "metadata": {},
   "outputs": [
    {
     "data": {
      "text/plain": [
       "3×2 Matrix{Float64}:\n",
       "  1.79293    4.8737\n",
       "  7.46337   20.2876\n",
       " 77.1967   209.842"
      ]
     },
     "execution_count": 206,
     "metadata": {},
     "output_type": "execute_result"
    }
   ],
   "source": [
    "x = [2,3,4]\n",
    "f.(A, x) # it is the same as f.(A, [x x])"
   ]
  },
  {
   "cell_type": "code",
   "execution_count": 211,
   "metadata": {},
   "outputs": [
    {
     "data": {
      "text/plain": [
       "3×2 Matrix{Float64}:\n",
       " 12.6835   4.8737\n",
       " 34.4773  13.2481\n",
       " 93.7191  36.012"
      ]
     },
     "execution_count": 211,
     "metadata": {},
     "output_type": "execute_result"
    }
   ],
   "source": [
    "y = [1,2]\n",
    "y'\n",
    "f.(x, y') # same as f.([x x], [y'; y'; y']) but without making extra matrices"
   ]
  },
  {
   "cell_type": "code",
   "execution_count": 214,
   "metadata": {},
   "outputs": [
    {
     "name": "stdout",
     "output_type": "stream",
     "text": [
      "x = [2, 3, 4]\n",
      "y = [1, 2]\n"
     ]
    },
    {
     "data": {
      "text/plain": [
       "3×2 Matrix{Int64}:\n",
       " 2  4\n",
       " 3  6\n",
       " 4  8"
      ]
     },
     "execution_count": 214,
     "metadata": {},
     "output_type": "execute_result"
    }
   ],
   "source": [
    "# infix operations: +, -, *. Broadcasting put the . before the name of the function\n",
    "@show x\n",
    "@show y\n",
    "x .* y'"
   ]
  },
  {
   "cell_type": "markdown",
   "metadata": {},
   "source": [
    "Since `size([1,2,3],2) == 1` it repeats the same vector to match the size\n",
    "`size([4,5]',2) == 2`. Similarly, `[4,5]'` is repeated 3 times. So the\n",
    "above is equivalent to:"
   ]
  },
  {
   "cell_type": "code",
   "execution_count": null,
   "metadata": {},
   "outputs": [],
   "source": [
    "#"
   ]
  },
  {
   "cell_type": "markdown",
   "metadata": {},
   "source": [
    "Note we can also use matrix broadcasting with our own functions:"
   ]
  },
  {
   "cell_type": "code",
   "execution_count": null,
   "metadata": {},
   "outputs": [],
   "source": [
    "#"
   ]
  },
  {
   "cell_type": "markdown",
   "metadata": {},
   "source": [
    "### Ranges"
   ]
  },
  {
   "cell_type": "markdown",
   "metadata": {},
   "source": [
    "_Ranges_ are another useful example of vectors, but where the entries are defined \"lazily\" instead of\n",
    "actually created in memory.\n",
    "We have already seen that we can represent a range of integers via `a:b`. Note we can\n",
    "convert it to a `Vector` as follows:"
   ]
  },
  {
   "cell_type": "code",
   "execution_count": 216,
   "metadata": {},
   "outputs": [
    {
     "data": {
      "text/plain": [
       "5-element Vector{Int64}:\n",
       " 2\n",
       " 3\n",
       " 4\n",
       " 5\n",
       " 6"
      ]
     },
     "execution_count": 216,
     "metadata": {},
     "output_type": "execute_result"
    }
   ],
   "source": [
    "Vector(2:6)"
   ]
  },
  {
   "cell_type": "markdown",
   "metadata": {},
   "source": [
    "We can also specify a step:"
   ]
  },
  {
   "cell_type": "code",
   "execution_count": 217,
   "metadata": {},
   "outputs": [
    {
     "data": {
      "text/plain": [
       "3-element Vector{Int64}:\n",
       " 2\n",
       " 4\n",
       " 6"
      ]
     },
     "execution_count": 217,
     "metadata": {},
     "output_type": "execute_result"
    }
   ],
   "source": [
    "Vector(2:2:6)"
   ]
  },
  {
   "cell_type": "markdown",
   "metadata": {},
   "source": [
    "Finally, the `range` function gives more functionality, for example, we can create 4 evenly\n",
    "spaced points between `-1` and `1`:"
   ]
  },
  {
   "cell_type": "code",
   "execution_count": 221,
   "metadata": {},
   "outputs": [
    {
     "data": {
      "text/plain": [
       "5-element Vector{Float64}:\n",
       " -1.0\n",
       " -0.5\n",
       "  0.0\n",
       "  0.5\n",
       "  1.0"
      ]
     },
     "execution_count": 221,
     "metadata": {},
     "output_type": "execute_result"
    }
   ],
   "source": [
    "Vector(range(-1, 1; length=5))"
   ]
  },
  {
   "cell_type": "code",
   "execution_count": 230,
   "metadata": {},
   "outputs": [
    {
     "data": {
      "text/plain": [
       "5×1 Matrix{Float64}:\n",
       " -1.0\n",
       " -0.5\n",
       "  0.0\n",
       "  0.5\n",
       "  1.0"
      ]
     },
     "execution_count": 230,
     "metadata": {},
     "output_type": "execute_result"
    }
   ],
   "source": [
    "# make a 5 x 1 matrix\n",
    "range(-1, 1; length=5) .* ones(1,1)\n",
    "x = reshape(range(-1, 1; length=5), 5, 1) # reshape is \"lazy\": it doesn't make a copy by default\n",
    "x = reshape(Vector(range(-1, 1; length=5)), 5, 1)\n",
    "\n",
    "[x ;;] # matrix concatenation"
   ]
  },
  {
   "cell_type": "code",
   "execution_count": 231,
   "metadata": {},
   "outputs": [
    {
     "data": {
      "text/plain": [
       "5-element Vector{Float64}:\n",
       "  0.5403023058681398\n",
       " -0.4161468365471424\n",
       " -0.9899924966004454\n",
       " -0.6536436208636119\n",
       "  0.28366218546322625"
      ]
     },
     "execution_count": 231,
     "metadata": {},
     "output_type": "execute_result"
    }
   ],
   "source": [
    "cos.(1:5)"
   ]
  },
  {
   "cell_type": "markdown",
   "metadata": {},
   "source": [
    "Note that `Vector` is mutable but a range is not:"
   ]
  },
  {
   "cell_type": "code",
   "execution_count": null,
   "metadata": {},
   "outputs": [],
   "source": [
    "#"
   ]
  },
  {
   "cell_type": "markdown",
   "metadata": {},
   "source": [
    "Both ranges `Vector` are subtypes of `AbstractVector`, whilst `Matrix` is a subtype of `AbstractMatrix`."
   ]
  },
  {
   "cell_type": "markdown",
   "metadata": {},
   "source": [
    "-----"
   ]
  },
  {
   "cell_type": "markdown",
   "metadata": {},
   "source": [
    "**Problem 5(c)** Create a vector of length 5 whose entries are `Float64`\n",
    "approximations of `exp(-k)`. Hint: use a for-loop, broadcasting `f.(x)` notation, or a comprehension."
   ]
  },
  {
   "cell_type": "code",
   "execution_count": null,
   "metadata": {},
   "outputs": [],
   "source": [
    "# TODO: Create a vector whose entries are exp(-k), 3 different ways"
   ]
  },
  {
   "cell_type": "markdown",
   "metadata": {},
   "source": [
    "### Linear algebra"
   ]
  },
  {
   "cell_type": "markdown",
   "metadata": {},
   "source": [
    "Matrix-vector multiplication works as expected because `*` is overloaded:"
   ]
  },
  {
   "cell_type": "code",
   "execution_count": 232,
   "metadata": {},
   "outputs": [
    {
     "data": {
      "text/plain": [
       "3×2 Matrix{Int64}:\n",
       " 1  2\n",
       " 3  4\n",
       " 5  6"
      ]
     },
     "execution_count": 232,
     "metadata": {},
     "output_type": "execute_result"
    }
   ],
   "source": [
    "A = [1 2; 3 4; 5 6]"
   ]
  },
  {
   "cell_type": "markdown",
   "metadata": {},
   "source": [
    "We can also solve least squares problems using `\\`:"
   ]
  },
  {
   "cell_type": "code",
   "execution_count": 234,
   "metadata": {},
   "outputs": [
    {
     "data": {
      "text/plain": [
       "3-element Vector{Int64}:\n",
       "  5\n",
       " 11\n",
       " 17"
      ]
     },
     "execution_count": 234,
     "metadata": {},
     "output_type": "execute_result"
    }
   ],
   "source": [
    "x = [1,2]\n",
    "A*x # matrix multiplication"
   ]
  },
  {
   "cell_type": "code",
   "execution_count": 249,
   "metadata": {},
   "outputs": [
    {
     "ename": "LoadError",
     "evalue": "DimensionMismatch: arguments must have the same number of rows",
     "output_type": "error",
     "traceback": [
      "DimensionMismatch: arguments must have the same number of rows",
      "",
      "Stacktrace:",
      " [1] ldiv(F::LinearAlgebra.QRPivoted{Float64, Matrix{Float64}, Vector{Float64}, Vector{Int64}}, B::Vector{Float64})",
      "   @ LinearAlgebra ~/Projects/julia-1.10/usr/share/julia/stdlib/v1.10/LinearAlgebra/src/LinearAlgebra.jl:555",
      " [2] \\",
      "   @ ~/Projects/julia-1.10/usr/share/julia/stdlib/v1.10/LinearAlgebra/src/LinearAlgebra.jl:547 [inlined]",
      " [3] \\(A::Matrix{Int64}, B::Vector{Float64})",
      "   @ LinearAlgebra ~/Projects/julia-1.10/usr/share/julia/stdlib/v1.10/LinearAlgebra/src/generic.jl:1126",
      " [4] top-level scope",
      "   @ In[249]:2"
     ]
    }
   ],
   "source": [
    "b = [1,2,3]\n",
    "x = A \\randn(5)  # least squares via QR"
   ]
  },
  {
   "cell_type": "code",
   "execution_count": 242,
   "metadata": {},
   "outputs": [
    {
     "data": {
      "text/plain": [
       "zero (generic function with 25 methods)"
      ]
     },
     "execution_count": 242,
     "metadata": {},
     "output_type": "execute_result"
    }
   ],
   "source": [
    "import Base: *, zero\n",
    "*(x::Rat, y::Rat) = Rat(x.p * y.p, x.q * y.q)\n",
    "zero(::Rat) = Rat(0,1)"
   ]
  },
  {
   "cell_type": "code",
   "execution_count": 243,
   "metadata": {},
   "outputs": [
    {
     "data": {
      "text/plain": [
       "3-element Vector{Rat}:\n",
       " Rat(5, 1)\n",
       " Rat(11, 1)\n",
       " Rat(17, 1)"
      ]
     },
     "execution_count": 243,
     "metadata": {},
     "output_type": "execute_result"
    }
   ],
   "source": [
    "x = [1,2]\n",
    "Rat.(A) * Rat.(x)"
   ]
  },
  {
   "cell_type": "markdown",
   "metadata": {},
   "source": [
    "When a matrix is square, `\\` reduces to a linear solve."
   ]
  },
  {
   "cell_type": "code",
   "execution_count": 250,
   "metadata": {},
   "outputs": [
    {
     "ename": "LoadError",
     "evalue": "DimensionMismatch: arrays could not be broadcast to a common size; got a dimension with lengths 2 and 3",
     "output_type": "error",
     "traceback": [
      "DimensionMismatch: arrays could not be broadcast to a common size; got a dimension with lengths 2 and 3",
      "",
      "Stacktrace:",
      " [1] _bcs1",
      "   @ ./broadcast.jl:555 [inlined]",
      " [2] _bcs",
      "   @ ./broadcast.jl:549 [inlined]",
      " [3] broadcast_shape",
      "   @ ./broadcast.jl:543 [inlined]",
      " [4] combine_axes",
      "   @ ./broadcast.jl:524 [inlined]",
      " [5] instantiate",
      "   @ ./broadcast.jl:306 [inlined]",
      " [6] materialize(bc::Base.Broadcast.Broadcasted{Base.Broadcast.DefaultArrayStyle{2}, Nothing, typeof(*), Tuple{Matrix{Float64}, Matrix{Float64}}})",
      "   @ Base.Broadcast ./broadcast.jl:903",
      " [7] top-level scope",
      "   @ In[250]:1"
     ]
    }
   ],
   "source": [
    "randn(2,3) .* randn(3,4)"
   ]
  },
  {
   "cell_type": "code",
   "execution_count": 252,
   "metadata": {},
   "outputs": [
    {
     "data": {
      "text/plain": [
       "2×1×5 Array{Float64, 3}:\n",
       "[:, :, 1] =\n",
       " -0.6781096312993325\n",
       "  0.3956462898785999\n",
       "\n",
       "[:, :, 2] =\n",
       "  0.10025060216097663\n",
       " -0.05849169068294429\n",
       "\n",
       "[:, :, 3] =\n",
       "  0.7875911122350363\n",
       " -0.4595237806902667\n",
       "\n",
       "[:, :, 4] =\n",
       " -1.3983638537586107\n",
       "  0.8158820419344779\n",
       "\n",
       "[:, :, 5] =\n",
       " -1.0911115168002214\n",
       "  0.636614204459308"
      ]
     },
     "execution_count": 252,
     "metadata": {},
     "output_type": "execute_result"
    }
   ],
   "source": [
    "randn(2,1,1) .* randn(1,1,5)"
   ]
  },
  {
   "cell_type": "markdown",
   "metadata": {},
   "source": [
    "---\n",
    "\n",
    "*This notebook was generated using [Literate.jl](https://github.com/fredrikekre/Literate.jl).*"
   ]
  }
 ],
 "metadata": {
  "kernelspec": {
   "display_name": "Julia 1.10.0",
   "language": "julia",
   "name": "julia-1.10"
  },
  "language_info": {
   "file_extension": ".jl",
   "mimetype": "application/julia",
   "name": "julia",
   "version": "1.10.2"
  }
 },
 "nbformat": 4,
 "nbformat_minor": 4
}
