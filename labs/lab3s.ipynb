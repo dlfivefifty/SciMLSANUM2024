{
 "cells": [
  {
   "cell_type": "markdown",
   "metadata": {},
   "source": [
    "# SciML SANUM2024\n",
    "# Lab 3: Reverse-mode automatic differentiation and Zygote.jl"
   ]
  },
  {
   "cell_type": "markdown",
   "metadata": {},
   "source": [
    "When the number of unknowns becomes large forward-mode automatic differentiation as\n",
    "implemented in ForwardDiff.jl becomes prohibitively expensive for computing gradients and instead we need to\n",
    "use reverse-mode automatic differentiation: this is best thought of as implementing the chain-rule\n",
    "in an automatic fashion, with a specific choice of multiplying the underlying Jacobians."
   ]
  },
  {
   "cell_type": "markdown",
   "metadata": {},
   "source": [
    "Computing gradients is important for solving optimisation problems, which is what ultimately what training a neural network\n",
    "is. Therefore we also look at solving some\n",
    "simple optimissation problems, using Optimsation.jl"
   ]
  },
  {
   "cell_type": "markdown",
   "metadata": {},
   "source": [
    "**Learning Outcomes**\n",
    "\n",
    "1. Computing gradients and derivatives with Zygote.jl\n",
    "2. Basics of reverse-mode automatic differentiation and pullbacks.\n",
    "3. Forward-mode automatic differentiation via pushforwards.\n",
    "4. Using automatic differentiation for implementing gradient descent.\n",
    "5. Solving optimisation with gradient descent and via Optimsation.jl"
   ]
  },
  {
   "cell_type": "markdown",
   "metadata": {},
   "source": [
    "## 3.1 Using Zygote.jl for differentiation"
   ]
  },
  {
   "cell_type": "markdown",
   "metadata": {},
   "source": [
    "We begin with a simple demonstration of Zygote.jl, which can be thought of as a replacement for ForwardDiff.jl that\n",
    "uses reverse-mode differentiation under the hood. We can differentiate scalar functions, but unlike ForwardDiff.jl it\n",
    "overloads the `'` syntax to mean differentiation:"
   ]
  },
  {
   "cell_type": "code",
   "execution_count": 1,
   "metadata": {},
   "outputs": [
    {
     "data": {
      "text/plain": [
       "\u001b[32m\u001b[1mTest Passed\u001b[22m\u001b[39m"
      ]
     },
     "metadata": {},
     "output_type": "display_data"
    }
   ],
   "source": [
    "using Zygote, LinearAlgebra, Test\n",
    "\n",
    "@test cos'(0.1) ≈ -sin(0.1) # Differentiates cos using reverse-mode autodiff"
   ]
  },
  {
   "cell_type": "markdown",
   "metadata": {},
   "source": [
    "The real power of Zygote.jl is computing gradients (or more generally, Jacobians\n",
    "of $f : ℝ^m → ℝ^n$ where $n ≪ m$). We can compute a gradient of the function we considered before as follows:"
   ]
  },
  {
   "cell_type": "code",
   "execution_count": 2,
   "metadata": {},
   "outputs": [
    {
     "data": {
      "text/plain": [
       "([-0.4153988184102436, 0.7141918274112526, -0.6109201316205297, 0.7035159969539719, -0.19552131321028607],)"
      ]
     },
     "metadata": {},
     "output_type": "display_data"
    }
   ],
   "source": [
    "f = function(x)\n",
    "    ret = zero(eltype(x))\n",
    "    for k = 1:length(x)-1\n",
    "        ret += x[k]*x[k+1]\n",
    "    end\n",
    "    ret\n",
    "end\n",
    "\n",
    "\n",
    "x = randn(5)\n",
    "Zygote.gradient(f,x)"
   ]
  },
  {
   "cell_type": "markdown",
   "metadata": {},
   "source": [
    "Unlike ForwardDiff.jl, the gradient returns a tuple since multiple arguments are supported in addition\n",
    "to vector inputs, eg:"
   ]
  },
  {
   "cell_type": "code",
   "execution_count": 3,
   "metadata": {},
   "outputs": [
    {
     "data": {
      "text/plain": [
       "\u001b[32m\u001b[1mTest Passed\u001b[22m\u001b[39m"
      ]
     },
     "metadata": {},
     "output_type": "display_data"
    }
   ],
   "source": [
    "x,y = 0.1, 0.2\n",
    "@test all(Zygote.gradient((x,y) -> cos(x*exp(y)), x, y) .≈ [-sin(x*exp(y))*exp(y), -sin(x*exp(y))*x*exp(y)])"
   ]
  },
  {
   "cell_type": "markdown",
   "metadata": {},
   "source": [
    "Now differentiating this function is not particularly faster than ForwardDiff.jl:"
   ]
  },
  {
   "cell_type": "code",
   "execution_count": 4,
   "metadata": {},
   "outputs": [
    {
     "name": "stdout",
     "output_type": "stream",
     "text": [
      "  0.001480 seconds (26.06 k allocations: 8.699 MiB)\n",
      "  0.116824 seconds (270.08 k allocations: 773.212 MiB, 27.81% gc time)\n"
     ]
    }
   ],
   "source": [
    "x = randn(1000)\n",
    "@time Zygote.gradient(f, x);\n",
    "x = randn(10_000)\n",
    "@time Zygote.gradient(f, x); # roughly 200x slower"
   ]
  },
  {
   "cell_type": "markdown",
   "metadata": {},
   "source": [
    "It also uses more memory the larger the computation. Take for example\n",
    "the Taylor series for the exponential from Lab 1:"
   ]
  },
  {
   "cell_type": "code",
   "execution_count": 5,
   "metadata": {},
   "outputs": [
    {
     "data": {
      "text/plain": [
       "exp_t (generic function with 1 method)"
      ]
     },
     "metadata": {},
     "output_type": "display_data"
    }
   ],
   "source": [
    "function exp_t(z, n)\n",
    "    ret = 1.0\n",
    "    s = 1.0\n",
    "    for k = 1:n\n",
    "        s = s/k * z\n",
    "        ret = ret + s\n",
    "    end\n",
    "    ret\n",
    "end"
   ]
  },
  {
   "cell_type": "markdown",
   "metadata": {},
   "source": [
    "The more terms we take the more memory is used, despite the function itself\n",
    "using no memory:"
   ]
  },
  {
   "cell_type": "code",
   "execution_count": 6,
   "metadata": {},
   "outputs": [
    {
     "name": "stdout",
     "output_type": "stream",
     "text": [
      "  0.000033 seconds (303 allocations: 10.094 KiB)\n",
      "  0.000520 seconds (25.08 k allocations: 763.594 KiB)\n",
      "  0.076536 seconds (2.50 M allocations: 72.306 MiB, 27.91% gc time)\n"
     ]
    },
    {
     "data": {
      "text/plain": [
       "(2.718281828459045, nothing)"
      ]
     },
     "metadata": {},
     "output_type": "display_data"
    }
   ],
   "source": [
    "Zygote.gradient(exp_t, 1.0, 10) # compile\n",
    "@time Zygote.gradient(exp_t, 1.0, 10) # uses 10KiB of memory\n",
    "@time Zygote.gradient(exp_t, 1.0, 1000) # uses 763KiB of memory\n",
    "@time Zygote.gradient(exp_t, 1.0, 100_000) # uses 72MiB of memory"
   ]
  },
  {
   "cell_type": "markdown",
   "metadata": {},
   "source": [
    "Another catch is Zygote.jl doesn't support functions that mutate arrays. Here's an example:"
   ]
  },
  {
   "cell_type": "code",
   "execution_count": 7,
   "metadata": {},
   "outputs": [
    {
     "ename": "ErrorException",
     "evalue": "Mutating arrays is not supported -- called setindex!(Vector{Float64}, ...)\nThis error occurs when you ask Zygote to differentiate operations that change\nthe elements of arrays in place (e.g. setting values with x .= ...)\n\nPossible fixes:\n- avoid mutating operations (preferred)\n- or read the documentation and solutions for this error\n  https://fluxml.ai/Zygote.jl/latest/limitations\n",
     "output_type": "error",
     "traceback": [
      "Mutating arrays is not supported -- called setindex!(Vector{Float64}, ...)\n",
      "This error occurs when you ask Zygote to differentiate operations that change\n",
      "the elements of arrays in place (e.g. setting values with x .= ...)\n",
      "\n",
      "Possible fixes:\n",
      "- avoid mutating operations (preferred)\n",
      "- or read the documentation and solutions for this error\n",
      "  https://fluxml.ai/Zygote.jl/latest/limitations\n",
      "\n",
      "\n",
      "Stacktrace:\n",
      " [1] error(s::String)\n",
      "   @ Base ./error.jl:35\n",
      " [2] _throw_mutation_error(f::Function, args::Vector{Float64})\n",
      "   @ Zygote ~/.julia/packages/Zygote/jxHJc/src/lib/array.jl:70\n",
      " [3] (::Zygote.var\"#539#540\"{Vector{Float64}})(::Nothing)\n",
      "   @ Zygote ~/.julia/packages/Zygote/jxHJc/src/lib/array.jl:82\n",
      " [4] (::Zygote.var\"#2623#back#541\"{Zygote.var\"#539#540\"{Vector{Float64}}})(Δ::Nothing)\n",
      "   @ Zygote ~/.julia/packages/ZygoteRules/M4xmc/src/adjoint.jl:72\n",
      " [5] #13\n",
      "   @ ~/Projects/SciMLSANUM2024/labs/lab3s.ipynb:5 [inlined]\n",
      " [6] (::Zygote.Pullback{Tuple{var\"#13#14\", Vector{Float64}}, Any})(Δ::Float64)\n",
      "   @ Zygote ~/.julia/packages/Zygote/jxHJc/src/compiler/interface2.jl:0\n",
      " [7] (::Zygote.var\"#75#76\"{Zygote.Pullback{Tuple{var\"#13#14\", Vector{Float64}}, Any}})(Δ::Float64)\n",
      "   @ Zygote ~/.julia/packages/Zygote/jxHJc/src/compiler/interface.jl:91\n",
      " [8] gradient(f::Function, args::Vector{Float64})\n",
      "   @ Zygote ~/.julia/packages/Zygote/jxHJc/src/compiler/interface.jl:148\n",
      " [9] top-level scope\n",
      "   @ ~/Projects/SciMLSANUM2024/labs/lab3s.ipynb:10"
     ]
    }
   ],
   "source": [
    "f! = function(x)\n",
    "    n = length(x)\n",
    "    ret = zeros(eltype(x), n)\n",
    "    for k = 1:n-1\n",
    "        ret[k] = x[k]*x[k+1] # modifies the vector ret\n",
    "    end\n",
    "    sum(ret)\n",
    "end\n",
    "x = randn(5)\n",
    "Zygote.gradient(f!,x) # errors out"
   ]
  },
  {
   "cell_type": "markdown",
   "metadata": {},
   "source": [
    "This is unlike `ForwardDiff.gradient` which works fine for differentiating `f!`."
   ]
  },
  {
   "cell_type": "markdown",
   "metadata": {},
   "source": [
    "So why do we use reverse-mode automatic differentiation when it has so many weaknesses\n",
    "compared to forward-mode?\n",
    "Because if we write code in just the right way it becomes extremely fast.\n",
    "For example, if we rewrite `f` in a vectorised form we see a huge improvement over\n",
    "ForwardDiff.jl:"
   ]
  },
  {
   "cell_type": "code",
   "execution_count": 8,
   "metadata": {},
   "outputs": [
    {
     "name": "stdout",
     "output_type": "stream",
     "text": [
      "  0.000130 seconds (33 allocations: 1.223 MiB)\n"
     ]
    }
   ],
   "source": [
    "f_vec = x -> sum(x[1:end-1] .* x[2:end]) # a vectorised version of the previus function\n",
    "x = randn(20_000)\n",
    "Zygote.gradient(f_vec, x) # compile\n",
    "@time Zygote.gradient(f_vec, x); #  1500x faster 🤩"
   ]
  },
  {
   "cell_type": "markdown",
   "metadata": {},
   "source": [
    "**Conclusion**: Zygote.jl is much more brittle, sometimes fails outright, requires\n",
    "writing functions in a specific way, uses a lot more memory to record complicated operations, but when it works\n",
    "well it is _extremely_ fast. Thus when we get to neural networks it is paramount that\n",
    "we design our representations of neural networks in a way that is ameniable to reverse-mode\n",
    "automatic differentiation, as implemented in Zygote.jl."
   ]
  },
  {
   "cell_type": "markdown",
   "metadata": {},
   "source": [
    "------"
   ]
  },
  {
   "cell_type": "markdown",
   "metadata": {},
   "source": [
    "## 3.2 Pullbacks and back-propagation for scalar functions"
   ]
  },
  {
   "cell_type": "markdown",
   "metadata": {},
   "source": [
    "We now peek a little under-the-hood to get some intuition on how Zygote.jl is computing\n",
    "derivatives, and to understand why its so much faster than ForwardDiff.jl in certain situations. Underlying automatic\n",
    "differentiation in Zygote.jl are so-called \"pullback\"s. In the scalar\n",
    "case these are very close to the notion of a derivative. However, rather than\n",
    "the derivative being a single constant, it's a linear map representing the derivative:\n",
    "eg, if the derivative of $f(x)$ is denoted $f'(x)$ then the pullback is a linear map\n",
    "$$\n",
    "t ↦ f'(x)t.\n",
    "$$\n",
    "We can compute pullbacks using the `pullback` routine:"
   ]
  },
  {
   "cell_type": "code",
   "execution_count": 9,
   "metadata": {},
   "outputs": [
    {
     "data": {
      "text/plain": [
       "(0.09983341664682815, Zygote.var\"#75#76\"{Zygote.ZBack{ChainRules.var\"#sin_pullback#1289\"{Float64}}}(Zygote.ZBack{ChainRules.var\"#sin_pullback#1289\"{Float64}}(ChainRules.var\"#sin_pullback#1289\"{Float64}(0.9950041652780258))))"
      ]
     },
     "metadata": {},
     "output_type": "display_data"
    }
   ],
   "source": [
    "s, p_sin = pullback(sin, 0.1)"
   ]
  },
  {
   "cell_type": "markdown",
   "metadata": {},
   "source": [
    "`p_sin` contains the map $t ↦ \\cos(0.1) t$. Since pullbacks support multiple arguments\n",
    "it actually returns a tuple with a single entry:"
   ]
  },
  {
   "cell_type": "code",
   "execution_count": 10,
   "metadata": {},
   "outputs": [
    {
     "data": {
      "text/plain": [
       "(0.9950041652780258,)"
      ]
     },
     "metadata": {},
     "output_type": "display_data"
    }
   ],
   "source": [
    "p_sin(1)"
   ]
  },
  {
   "cell_type": "markdown",
   "metadata": {},
   "source": [
    "Thus to get out the value we use the following:"
   ]
  },
  {
   "cell_type": "code",
   "execution_count": 11,
   "metadata": {},
   "outputs": [
    {
     "data": {
      "text/plain": [
       "\u001b[32m\u001b[1mTest Passed\u001b[22m\u001b[39m"
      ]
     },
     "metadata": {},
     "output_type": "display_data"
    }
   ],
   "source": [
    "@test p_sin(1)[1] == cos(0.1)\n",
    "@test p_sin(2)[1] == 2cos(0.1)"
   ]
  },
  {
   "cell_type": "markdown",
   "metadata": {},
   "source": [
    "The reason its a map instead of just a scalar becomes important for the vector-valued case\n",
    "where Jacobians can often be applied to vectors much faster than constructing the Jacobian matrix and\n",
    "performing a matrix-vector multiplication."
   ]
  },
  {
   "cell_type": "markdown",
   "metadata": {},
   "source": [
    "Pullbacks can be used for determining more complicated derivatives. Consider a composition of three functions\n",
    "$h ∘ g ∘ f$ where from the Chain Rule we know:\n",
    "$$\n",
    "{{\\rm d} \\over {\\rm d} x}[f(g(h(x))] = f'(g(h(x)) g'(h(x)) h'(x)\n",
    "$$\n",
    "Essentially we have three pullbacks: the first is the pullback of $f$ evaluated\n",
    "at $x$, the second corresponding to $g$ evaluated at $f(x)$, and the third\n",
    "corresponding to $h$ evaluated at $g(f(x))$, that is:\n",
    "$$\n",
    "\\begin{align*}\n",
    " p_1(t) &= f'(x) t  \\\\\n",
    " p_2(t) &= g'(f(x)) t  \\\\\n",
    " p_3(t) &= h'(g(f(x))t\n",
    "\\end{align*}\n",
    "$$\n",
    "Thus the derivative is given by either the _forward_ or _reverse_ composition of these functions:\n",
    "$$\n",
    " p_3(p_2(p_1(1))) = p_1(p_2(p_3(1))) = h'(g(f(x))g'(f(x))f'(x).\n",
    "$$\n",
    "The first version is called _forward-propagation_ and the second called _back-propagation_.\n",
    "Forward-propagation is a version of forward-mode automatic differentiation and is essentially equivalent to using dual numbers.\n",
    "We will see later in the vector case that forward- and back-propagation are not the same,\n",
    "and that back-propagation is much more efficient provided the output is scalar (or small dimensional)."
   ]
  },
  {
   "cell_type": "markdown",
   "metadata": {},
   "source": [
    "Let's see pullbacks in action for computing the derivative of $\\cos\\sqrt{{\\rm e}^x}$:"
   ]
  },
  {
   "cell_type": "code",
   "execution_count": 12,
   "metadata": {},
   "outputs": [
    {
     "data": {
      "text/plain": [
       "\u001b[32m\u001b[1mTest Passed\u001b[22m\u001b[39m"
      ]
     },
     "metadata": {},
     "output_type": "display_data"
    }
   ],
   "source": [
    "x = 0.1 # point we want to differentiate\n",
    "y,p₁ = pullback(exp, x)\n",
    "z,p₂ = pullback(sqrt, y) # y is exp(x)\n",
    "w,p₃ = pullback(cos, z) # z is sqrt(exp(x))\n",
    "\n",
    "@test w == cos(sqrt(exp(x)))\n",
    "\n",
    "@test p₁(p₂(p₃(1)...)...)[1] ≈ p₃(p₂(p₁(1)...)...)[1] ≈ -sin(sqrt(exp(x)))*exp(x)/(2sqrt(exp(x)))"
   ]
  },
  {
   "cell_type": "markdown",
   "metadata": {},
   "source": [
    "We can see how this can lead to an approach for automatic differentiation.\n",
    "For example, consider the following function composing `sin` over and over:"
   ]
  },
  {
   "cell_type": "code",
   "execution_count": 13,
   "metadata": {},
   "outputs": [
    {
     "data": {
      "text/plain": [
       "manysin (generic function with 1 method)"
      ]
     },
     "metadata": {},
     "output_type": "display_data"
    }
   ],
   "source": [
    "function manysin(n, x)\n",
    "    r = x\n",
    "    for k = 1:n\n",
    "        r = sin(r)\n",
    "    end\n",
    "    r\n",
    "end"
   ]
  },
  {
   "cell_type": "markdown",
   "metadata": {},
   "source": [
    "Now, we would need `n` pullbacks as each time `sin` is called at a different value.\n",
    "But the number of such pullbacks grows only linearly so this is acceptable. So thus\n",
    "at a high-level we can think of Zygote as running through and computing all the pullbacks:"
   ]
  },
  {
   "cell_type": "code",
   "execution_count": 14,
   "metadata": {},
   "outputs": [
    {
     "data": {
      "text/plain": [
       "0.0991753231269109"
      ]
     },
     "metadata": {},
     "output_type": "display_data"
    }
   ],
   "source": [
    "n = 5\n",
    "x = 0.1 # input\n",
    "\n",
    "pullbacks = Any[] # a vector where we store the pull backs\n",
    "r = x\n",
    "for k = 1:n\n",
    "    r,pₖ = pullback(sin, r) # new pullback\n",
    "    push!(pullbacks, pₖ)\n",
    "end\n",
    "r # value"
   ]
  },
  {
   "cell_type": "markdown",
   "metadata": {},
   "source": [
    "To deduce the derivative we need can either do forward- or back-propogation by looping through our pullbacks\n",
    "either in forward- or in reverse-order. Here we implement back-propagation:"
   ]
  },
  {
   "cell_type": "code",
   "execution_count": 15,
   "metadata": {},
   "outputs": [
    {
     "data": {
      "text/plain": [
       "\u001b[32m\u001b[1mTest Passed\u001b[22m\u001b[39m"
      ]
     },
     "metadata": {},
     "output_type": "display_data"
    }
   ],
   "source": [
    "reverse_der = 1 # we always initialise with the trivial scaling\n",
    "for k = n:-1:1\n",
    "    reverse_der = pullbacks[k](reverse_der)[1]\n",
    "end\n",
    "@test reverse_der ≈ (x -> manysin(n, x))'(x)"
   ]
  },
  {
   "cell_type": "markdown",
   "metadata": {},
   "source": [
    "Zygote constructs code that is equivalent to this loop automatically,\n",
    "constructing a high-performance version of this back-propogation loop at compile time using something called source-to-source\n",
    "differentiation. But there's no getting around the fact that it needs to record the pullbacks so it does use more memory the larger\n",
    "the computation:"
   ]
  },
  {
   "cell_type": "code",
   "execution_count": 16,
   "metadata": {},
   "outputs": [
    {
     "name": "stdout",
     "output_type": "stream",
     "text": [
      "  0.000027 seconds (107 allocations: 4.297 KiB)\n",
      "  0.000236 seconds (6.07 k allocations: 235.359 KiB)\n",
      "  0.020699 seconds (600.09 k allocations: 21.347 MiB)\n"
     ]
    },
    {
     "data": {
      "text/plain": [
       "(nothing, 1.2550135986172326e-7)"
      ]
     },
     "metadata": {},
     "output_type": "display_data"
    }
   ],
   "source": [
    "Zygote.gradient(manysin, 10, 1.0) # compile\n",
    "@time Zygote.gradient(manysin, 10, 1.0) # uses 4KiB of memory\n",
    "@time Zygote.gradient(manysin, 1000, 1.0) # uses 235KiB of memory\n",
    "@time Zygote.gradient(manysin, 100_000, 1.0) # uses 21MiB of memory"
   ]
  },
  {
   "cell_type": "markdown",
   "metadata": {},
   "source": [
    "------"
   ]
  },
  {
   "cell_type": "markdown",
   "metadata": {},
   "source": [
    "**Problem 1** Compute the derivative of `manysin` using forward-propagation, by looping through the pull-backs\n",
    "in the forward direction."
   ]
  },
  {
   "cell_type": "code",
   "execution_count": 17,
   "metadata": {},
   "outputs": [
    {
     "data": {
      "text/plain": [
       "\u001b[32m\u001b[1mTest Passed\u001b[22m\u001b[39m"
      ]
     },
     "metadata": {},
     "output_type": "display_data"
    }
   ],
   "source": [
    "# TODO: loop through pullbacks in order to compute the derivative.\n",
    "# SOLUTION\n",
    "forward_der = 1 # we always initialise with the trivial scaling\n",
    "for k = 1:n\n",
    "    forward_der = pullbacks[k](forward_der)[1]\n",
    "end\n",
    "\n",
    "@test reverse_der ≈ (x -> manysin(n, x))'(x)\n",
    "\n",
    "# END"
   ]
  },
  {
   "cell_type": "markdown",
   "metadata": {},
   "source": [
    "## 3.3 Pullbacks with multiple arguments"
   ]
  },
  {
   "cell_type": "markdown",
   "metadata": {},
   "source": [
    "Things become more complicated when we have a function with multiple arguments, even in the\n",
    "scalar case. Consider now the function $f(g(x), h(x))$. The chain rule tells us that\n",
    "$$\n",
    "{{\\rm d} \\over {\\rm d} x}[f(g(x), h(x))] = f_x(g(x), h(x)) g'(x) + f_y(g(x), h(x)) h'(x)\n",
    "$$\n",
    "Now we have three pullbacks:\n",
    "$$\n",
    "\\begin{align*}\n",
    "p_1(t) &= g'(x) t\\\\\n",
    "p_2(t) &= h'(x) t\\\\\n",
    "p_3(t) &= [f_x(g(x), h(x))t, f_y(g(x), h(x))t]\n",
    "\\end{align*}\n",
    "$$\n",
    "In this case the derivative can be recovered via back-propagation via:\n",
    "$$\n",
    "p_1(p_3(1)[1]) + p_2(p_3(1)[2]).\n",
    "$$\n",
    "Here we see a simple example:"
   ]
  },
  {
   "cell_type": "code",
   "execution_count": 18,
   "metadata": {},
   "outputs": [
    {
     "data": {
      "text/plain": [
       "\u001b[32m\u001b[1mTest Passed\u001b[22m\u001b[39m"
      ]
     },
     "metadata": {},
     "output_type": "display_data"
    }
   ],
   "source": [
    "f = (x,y) -> cos(x*exp(y))\n",
    "g = sqrt\n",
    "h = sin\n",
    "F = x -> f(g(x), h(x))\n",
    "\n",
    "x = 0.1\n",
    "gx, p₁ = pullback(g, x)\n",
    "hx, p₂ = pullback(h, x)\n",
    "z, p₃ = pullback(f, gx, hx)\n",
    "\n",
    "@test p₁(p₃(1)[1])[1] + p₂(p₃(1)[2])[1] ≈ F'(0.1)"
   ]
  },
  {
   "cell_type": "markdown",
   "metadata": {},
   "source": [
    "Doing more complicated calculations or indeed algorithms becomes\n",
    "quite complicated if there are interdependencecies, eg, $f(g(r(x)), h(r(x)))$.\n",
    "This explains why our first version of a function summing over products of its arguments\n",
    "was so slow.\n",
    "Fortunately, there is an alternative: we can focus on composing vector functions.\n",
    "Eg, such a function can be thought of as composition:\n",
    "$$\n",
    "f ∘ 𝐠 ∘ r\n",
    "$$\n",
    "where $𝐠(x) = [g(x),h(x)]$. This is a special case of what we discuss in the next section."
   ]
  },
  {
   "cell_type": "markdown",
   "metadata": {},
   "source": [
    "------"
   ]
  },
  {
   "cell_type": "markdown",
   "metadata": {},
   "source": [
    "## 3.4 Gradients and pullbacks\n",
    "\n",
    "Now we consider computing gradients of functions that are compositions\n",
    "of vector functions, which neural networks fall into.\n",
    "Again, we denote the Jacobian as\n",
    "$$\n",
    " J_f = \\begin{bmatrix} {∂ f_1 \\over ∂x_1} & ⋯ & {∂ f_1 \\over ∂x_ℓ} \\\\\n",
    "      ⋮ & ⋱ & ⋮ \\\\\n",
    "      {∂ f_m \\over ∂x_1} & ⋯ & {∂ f_m \\over ∂x_ℓ}\n",
    "\\end{bmatrix}\n",
    "$$\n",
    "Note that gradients are the transpose of Jacobians: $∇h = J_h^⊤$.\n",
    "For a scalar-valued function $f : ℝ^n → ℝ$ the pullback represents the linear map\n",
    "$p_{f,𝐱} : ℝ → ℝ^n$ corresponding to scaling the gradient:\n",
    "$$\n",
    "p_{f,𝐱}(t) = J_f(𝐱)^⊤t = ∇f(𝐱) t\n",
    "$$\n",
    "Here we see an example:"
   ]
  },
  {
   "cell_type": "code",
   "execution_count": 19,
   "metadata": {},
   "outputs": [
    {
     "data": {
      "text/plain": [
       "\u001b[32m\u001b[1mTest Passed\u001b[22m\u001b[39m"
      ]
     },
     "metadata": {},
     "output_type": "display_data"
    }
   ],
   "source": [
    "f = (𝐱) -> ((x,y) = 𝐱;  exp(x*cos(y)))\n",
    "x,y = (0.1,0.2)\n",
    "f_v, f_pb = Zygote.pullback(f, [x,y])\n",
    "@test f_pb(1)[1] ≈ [exp(x*cos(y))*cos(y), -exp(x*cos(y))*x*sin(y)]"
   ]
  },
  {
   "cell_type": "markdown",
   "metadata": {},
   "source": [
    "For a function $f : ℝ^n → ℝ^m$ the the pullback represents the linear map $p_{f,𝐱} : ℝ^m → ℝ^n$ given by\n",
    "$$\n",
    "p_{f,𝐱}(t) = J_f(𝐱)^⊤𝐭\n",
    "$$\n",
    "Here is a simple example:"
   ]
  },
  {
   "cell_type": "code",
   "execution_count": 20,
   "metadata": {},
   "outputs": [
    {
     "data": {
      "text/plain": [
       "\u001b[32m\u001b[1mTest Passed\u001b[22m\u001b[39m"
      ]
     },
     "metadata": {},
     "output_type": "display_data"
    }
   ],
   "source": [
    "f = function(𝐱)\n",
    "    x,y,z = 𝐱\n",
    "    [exp(x*y*z),cos(x*y+z)]\n",
    "end\n",
    "\n",
    "\n",
    "𝐱 = [0.1,0.2,0.3]\n",
    "f_x, p_f =  pullback(f, 𝐱) # returns the value and pullback\n",
    "\n",
    "J_f = function(𝐱)\n",
    "    x,y,z = 𝐱\n",
    "    [y*z*exp(x*y*z) x*z*exp(x*y*z) x*y*exp(x*y*z);\n",
    "    -y*sin(x*y+z) -x*sin(x*y+z) -sin(x*y+z)]\n",
    "end\n",
    "\n",
    "𝐲 = [1,2]\n",
    "@test J_f(𝐱)'*𝐲 ≈ p_f(𝐲)[1]"
   ]
  },
  {
   "cell_type": "markdown",
   "metadata": {},
   "source": [
    "Consider a composition $f : ℝ^n → ℝ^m$, $g : ℝ^m → ℝ^ℓ$ and $h : ℝ^ℓ → ℝ$, that is,\n",
    "we want to compute the gradient of $h ∘ g ∘ f : ℝ^n → ℝ$. The Chain rule tells us that\n",
    "$$\n",
    " J_{h ∘ g ∘ f}(𝐱) = J_h(g(f(𝐱)) J_g(f(𝐱)) J_f(𝐱)\n",
    "$$\n",
    "Put another way, the gradiant of $h ∘ g ∘ f$\n",
    "is given by the transposes of Jacobians:\n",
    "$$\n",
    "   ∇[{h ∘ g ∘ f}](𝐱) = J_f(𝐱)^⊤ J_g(f(𝐱))^⊤  ∇h(g(f(𝐱))\n",
    "$$\n",
    "Thus we have three pullbacks $p_1 : ℝ^m → ℝ^n$, $p_2 : ℝ^ℓ → ℝ^m$ and $p_3 : ℝ → ℝ^ℓ$ given by\n",
    "\\begin{align*}\n",
    " p_1(𝐭) &= J_f(𝐱)^⊤ 𝐭  \\\\\n",
    " p_2(𝐭) &= J_g(f(x))^⊤ 𝐭  \\\\\n",
    " p_3(t) &= ∇h(g(f(𝐱)) t\n",
    "\\end{align*}\n",
    "The gradient is given by _back-propagation_:\n",
    "$$\n",
    " p_1(p_2(p_3(1))) = J_f(𝐱)^⊤ J_g(f(𝐱))^⊤  ∇h(g(f(𝐱)).\n",
    "$$\n",
    "Here the \"right\" order to do the multiplications is clear: matrix-matrix multiplications are expensive\n",
    "so its best to do it reverse order so that we only ever have matrix-vector multiplications.\n",
    "Also, the pullback doesn't give us enough information to implement forward-propagation:\n",
    "we don't have access to the Jacobian matrices, or their application."
   ]
  },
  {
   "cell_type": "markdown",
   "metadata": {},
   "source": [
    "As an example consider computing the gradient of an iteration a simple map like:\n",
    "$$\n",
    "𝐟(x,y,z) = \\begin{bmatrix} \\cos(xy)+z\\\\ zy-\\exp(x)\\\\ x + y + z \\end{bmatrix}\n",
    "$$\n",
    "and summing over the result, eg. computing $[1,1,1]^⊤(\\underbrace{𝐟 ∘ ⋯ ∘ 𝐟}_{n\\hbox{ times}})(𝐱)$.\n",
    "We implement this with a general function `iteratef`:"
   ]
  },
  {
   "cell_type": "code",
   "execution_count": 21,
   "metadata": {},
   "outputs": [
    {
     "data": {
      "text/plain": [
       "3-element Vector{Float64}:\n",
       " -6.5923400545604744\n",
       " 43.51048331198635\n",
       " 86.81831662174272"
      ]
     },
     "metadata": {},
     "output_type": "display_data"
    }
   ],
   "source": [
    "𝐟 = function(𝐱)\n",
    "    (x,y,z) = 𝐱\n",
    "    [cos(x*y)+z, z*y-sin(x), x + y + z]\n",
    "end\n",
    "\n",
    "function iteratef(𝐱, 𝐟, n)\n",
    "    for k = 1:n\n",
    "        𝐱 = 𝐟(𝐱)\n",
    "    end\n",
    "    sum(𝐱)\n",
    "end\n",
    "\n",
    "gradient(iteratef, [0.1,0.2,0.3] , 𝐟, 5)[1] # computes the gradient of 5 iterations"
   ]
  },
  {
   "cell_type": "markdown",
   "metadata": {},
   "source": [
    "To get an idea how this works behind the scenes we can again accumulate the pullbacks:"
   ]
  },
  {
   "cell_type": "code",
   "execution_count": 22,
   "metadata": {},
   "outputs": [
    {
     "data": {
      "text/plain": [
       "-13.783399764711769"
      ]
     },
     "metadata": {},
     "output_type": "display_data"
    }
   ],
   "source": [
    "pullbacks = Any[] # a vector where we store the pull backs\n",
    "r = [0.1,0.2, 0.3]\n",
    "n = 5\n",
    "for k = 1:n\n",
    "    r,pₖ = pullback(𝐟, r) # new pullback\n",
    "    push!(pullbacks, pₖ)\n",
    "end\n",
    "\n",
    "ret,sumpullback = pullback(sum, r)\n",
    "ret # value"
   ]
  },
  {
   "cell_type": "markdown",
   "metadata": {},
   "source": [
    "We can recover the gradient by back-propogation:"
   ]
  },
  {
   "cell_type": "code",
   "execution_count": 23,
   "metadata": {},
   "outputs": [
    {
     "data": {
      "text/plain": [
       "3-element Vector{Float64}:\n",
       " -6.5923400545604744\n",
       " 43.51048331198635\n",
       " 86.81831662174272"
      ]
     },
     "metadata": {},
     "output_type": "display_data"
    }
   ],
   "source": [
    "reverse_grad = 1\n",
    "reverse_grad = sumpullback(reverse_grad)[1] # now a 3-vector\n",
    "for k = n:-1:1\n",
    "    reverse_grad = pullbacks[k](reverse_grad)[1]\n",
    "end\n",
    "reverse_grad"
   ]
  },
  {
   "cell_type": "markdown",
   "metadata": {},
   "source": [
    "Indeed we match the gradient as computed with Zygote.jl:"
   ]
  },
  {
   "cell_type": "code",
   "execution_count": 24,
   "metadata": {},
   "outputs": [
    {
     "data": {
      "text/plain": [
       "\u001b[32m\u001b[1mTest Passed\u001b[22m\u001b[39m"
      ]
     },
     "metadata": {},
     "output_type": "display_data"
    }
   ],
   "source": [
    "@test reverse_grad == gradient(iteratef, [0.1,0.2,0.3] , 𝐟, n)[1]"
   ]
  },
  {
   "cell_type": "markdown",
   "metadata": {},
   "source": [
    "**Problem 2** The function `pushforward` represent the map $𝐭 ↦ J_f(𝐱) 𝐭$.\n",
    "Compute the gradient of `iteratef` as above with forward-mode automatic differentiation by using `pushforward`.\n",
    "Do so without creating a vector of pushforwards.\n",
    "Hint: We need to run the pushforward iteration with the identity matrix as the initial value,\n",
    "but the result of  `pushforward` only works on vectors. So we need to apply it to each column of the matrix manually."
   ]
  },
  {
   "cell_type": "code",
   "execution_count": 25,
   "metadata": {},
   "outputs": [
    {
     "data": {
      "text/plain": [
       "\u001b[32m\u001b[1mTest Passed\u001b[22m\u001b[39m"
      ]
     },
     "metadata": {},
     "output_type": "display_data"
    }
   ],
   "source": [
    "# TODO: Compute the gradient as above but using pushforward\n",
    "# SOLUTION\n",
    "\n",
    "r = [0.1,0.2, 0.3]\n",
    "X = Matrix(1.0I, 3, 3)\n",
    "n = 5\n",
    "for k = 1:n\n",
    "    pₖ = pushforward(𝐟, r) # new pushforward\n",
    "    for j = 1:3\n",
    "        X[:,j] = pₖ(X[:,j])\n",
    "    end\n",
    "    r = 𝐟(r)\n",
    "end\n",
    "sumpushforward = pushforward(sum, r)\n",
    "\n",
    "grad = [sumpushforward(X[:,j]) for j = 1:3]\n",
    "\n",
    "\n",
    "@test grad ≈ gradient(iteratef, [0.1,0.2,0.3] , 𝐟, n)[1]\n",
    "\n",
    "# END"
   ]
  },
  {
   "cell_type": "markdown",
   "metadata": {},
   "source": [
    "**Problem 3** Consider a simple forward Euler method approximating the solution to the Pendulum equation with friction:\n",
    "$$\n",
    "u'' = τ u' - \\sin u\n",
    "$$\n",
    "which we can rewrite as a first order system:\n",
    "$$\n",
    "\\begin{bmatrix}\n",
    "   u' \\\\\n",
    "   v'\n",
    "   \\end{bmatrix} = \\begin{bmatrix} v \\\\ -τ*v - \\sin u \\end{bmatrix}\n",
    "$$\n",
    "That is, we want to implement the iteration\n",
    "$$\n",
    "𝐮_{k+1} = 𝐮_k + h*\\begin{bmatrix} 𝐮_k[2] \\\\ -τ 𝐮_k[2] - \\sin 𝐮_k[1] \\end{bmatrix}\n",
    "$$\n",
    "with a specified initial condition $𝐮_0$. For $N = 100$, $h = 0.1$ and $𝐮_0 = [0.1,0.2]$, differentiate\n",
    "the solution with-respect to $τ$ at $τ = 1$ by creating a vector of pullbacks and implementing back-propagation.\n",
    "Hint: Forward Euler is a variant of `iteratef` above so you can modify the subsequent pullback construction. Add $τ$ to the vector\n",
    "of values to capture the relevant dependencies and verify your result by comparing to `gradient`."
   ]
  },
  {
   "cell_type": "code",
   "execution_count": 26,
   "metadata": {},
   "outputs": [
    {
     "data": {
      "text/plain": [
       "\u001b[32m\u001b[1mTest Passed\u001b[22m\u001b[39m"
      ]
     },
     "metadata": {},
     "output_type": "display_data"
    }
   ],
   "source": [
    "# SOLUTION\n",
    "𝐟 = function(h, 𝐱)\n",
    "    (τ,u,v) = 𝐱\n",
    "    [τ,u + h*v, v + h*(-τ*v - sin(u))]\n",
    "end\n",
    "\n",
    "function forwardeuler(τ, 𝐮₀, 𝐟, h, n)\n",
    "    𝐱 = [τ; 𝐮₀]\n",
    "    for k = 1:n\n",
    "        𝐱 = 𝐟(h, 𝐱)\n",
    "    end\n",
    "    𝐱[2]\n",
    "end\n",
    "\n",
    "\n",
    "forwardeuler(1.0,[0.1,0.2], 𝐟, 0.1, 100)\n",
    "\n",
    "pullbacks = Any[] # a vector where we store the pull backs\n",
    "𝐱 = [1.0,0.1, 0.2]\n",
    "n = 100\n",
    "h = 0.1\n",
    "for k = 1:n\n",
    "    𝐱,pₖ = pullback(𝐟, h, 𝐱) # new pullback\n",
    "    push!(pullbacks, pₖ)\n",
    "end\n",
    "\n",
    "ret,firstpullback = pullback(getindex, 𝐱, 2)\n",
    "ret # value\n",
    "\n",
    "# We can recover the gradient by back-propogation:\n",
    "\n",
    "reverse_grad = 1\n",
    "reverse_grad = firstpullback(reverse_grad)[1] # now a 3-vector\n",
    "for k = n:-1:1\n",
    "    reverse_grad = pullbacks[k](reverse_grad)[2]\n",
    "end\n",
    "@test reverse_grad[1] ≈ gradient(forwardeuler, 1.0, [0.1,0.2], 𝐟, 0.1, 100)[1]\n",
    "\n",
    "\n",
    "\n",
    "# END"
   ]
  },
  {
   "cell_type": "markdown",
   "metadata": {},
   "source": [
    "## 3.5 Optimisation"
   ]
  },
  {
   "cell_type": "markdown",
   "metadata": {},
   "source": [
    "A key place where reverse-mode automatic differentiation is essential is large scale optimisation.\n",
    "As a  simple example we will look at the classic optimisation problem\n",
    "that solves $A 𝐱 = 𝐛$ where $A$ is symmetric positive definite: find $𝐱$ that minimises\n",
    "$$\n",
    "f_{A,𝐛}(𝐱) = 𝐱^⊤ A 𝐱 - 2𝐱^⊤ 𝐛.\n",
    "$$.\n",
    "Of course we can use tried-and-true techniques implemented in `\\` but here we want\n",
    "to emphasise we can also solve this with simple optimsation algorithms like gradient desecent\n",
    "which do not know the structure of the problem. We consider a matrix where we know gradient descent\n",
    "will converge fast:\n",
    "$$\n",
    "A = \\begin{bmatrix} 1 & 1/2^α \\\\ 1/2^α & 1 & ⋱ \\\\ &  ⋱ & ⋱ & 1/n^α \\\\ && 1/n^α & 1 \\end{bmatrix}\n",
    "$$\n",
    "In other words we want to minimise the functional (or the _loss function_)\n",
    "$$\n",
    "f_{A,𝐛}(𝐱) = ∑_{k=1}^n x_k^2 + ∑_{k=2}^n x_{k-1} x_k/k^α - ∑_{k=1}^n x_k b_k.\n",
    "$$\n",
    "For simplicity we will take $𝐛$ to be the vector with all ones."
   ]
  },
  {
   "cell_type": "markdown",
   "metadata": {},
   "source": [
    "Owing to the constraints of Zygote.jl, we need to write this in a vectorised way to ensure Zygote is sufficiently fast.\n",
    "Here we see that when we do this we can efficiently\n",
    "compute gradients even\n",
    "with a million degrees of freedom, way beyond what could ever be done with forward-mode automatic differentiation:"
   ]
  },
  {
   "cell_type": "code",
   "execution_count": 27,
   "metadata": {},
   "outputs": [
    {
     "name": "stdout",
     "output_type": "stream",
     "text": [
      "  0.076552 seconds (69 allocations: 190.740 MiB, 50.35% gc time)\n"
     ]
    },
    {
     "data": {
      "text/plain": [
       "([0.8564960243735, -0.006597422401593223, -2.9808844016506977, -0.985804043899627, -2.8496578047272254, -2.050175408044869, 0.758154640175773, -5.656049871738037, -3.277035866349385, -2.322260547534478  …  -4.163766934791895, 1.1811047478124492, -2.9096425375908685, -0.18349856329529424, 0.823768424727426, -0.41077605452382016, -4.4472705517349596, 0.6165520872247123, -3.770912845975559, 0.8137235226593682], 0.06064915143418548)"
      ]
     },
     "metadata": {},
     "output_type": "display_data"
    }
   ],
   "source": [
    "n = 1_000_000\n",
    "f = (x,α) -> (x'x + 2x[1:end-1]'*(x[2:end] ./ (2:length(x)).^α)) - 2sum(x)\n",
    "\n",
    "\n",
    "\n",
    "x = randn(n) # initial guess\n",
    "Zygote.gradient(f, x, 2) # compile\n",
    "@time Zygote.gradient(f, x, 2)"
   ]
  },
  {
   "cell_type": "markdown",
   "metadata": {},
   "source": [
    "For concreteness we first implement our own version of a quick-and-dirty gradient descent:\n",
    "$$\n",
    "x_{k+1} = x_k - γ_k ∇f(x_k)\n",
    "$$\n",
    "where $γ_k$ is the learning rate. To choose $γ_k$ we just halve\n",
    "the learning rate until we see decrease in the loss function."
   ]
  },
  {
   "cell_type": "code",
   "execution_count": 28,
   "metadata": {},
   "outputs": [
    {
     "name": "stdout",
     "output_type": "stream",
     "text": [
      "(γ, f(x, α)) = (0.5, -999998.8681733937)\n",
      "(γ, f(x, α)) = (0.5, -999998.9054389772)\n",
      "(γ, f(x, α)) = (0.5, -999998.9059419464)\n",
      "(γ, f(x, α)) = (0.5, -999998.9059709456)\n",
      "(γ, f(x, α)) = (0.5, -999998.9059730918)\n",
      "(γ, f(x, α)) = (0.5, -999998.9059732538)\n",
      "(γ, f(x, α)) = (0.5, -999998.9059732661)\n",
      "(γ, f(x, α)) = (0.5, -999998.9059732668)\n",
      "(γ, f(x, α)) = (1, -999998.9059732668)\n",
      "(γ, f(x, α)) = (1, -999998.9059732668)\n",
      "(γ, f(x, α)) = (0.5, -999998.9059732669)\n",
      "(γ, f(x, α)) = (0.5, -999998.9059732672)\n",
      "(γ, f(x, α)) = (1, -999998.9059732672)\n",
      "(γ, f(x, α)) = (0.125, -999998.9059732673)\n",
      "(γ, f(x, α)) = (1.9073486328125e-6, -999998.9059732673)\n",
      "(γ, f(x, α)) = (9.5367431640625e-7, -999998.9059732673)\n",
      "(γ, f(x, α)) = (2.384185791015625e-7, -999998.9059732673)\n",
      "(γ, f(x, α)) = (5.960464477539063e-8, -999998.9059732673)\n",
      "(γ, f(x, α)) = (7.450580596923828e-9, -999998.9059732673)\n",
      "(γ, f(x, α)) = (3.725290298461914e-9, -999998.9059732673)\n"
     ]
    }
   ],
   "source": [
    "α = 2\n",
    "for k = 1:20\n",
    "    γ = 1\n",
    "    y = x - γ*Zygote.gradient(f, x, α)[1]\n",
    "    while f(x,α) < f(y,α)\n",
    "        γ /= 2 # half the learning rate\n",
    "        y = x - γ*Zygote.gradient(f, x, α)[1]\n",
    "    end\n",
    "    x = y\n",
    "    @show γ,f(x,α)\n",
    "end"
   ]
  },
  {
   "cell_type": "markdown",
   "metadata": {},
   "source": [
    "We can compare this with the \"true\" solution:"
   ]
  },
  {
   "cell_type": "code",
   "execution_count": 29,
   "metadata": {},
   "outputs": [
    {
     "data": {
      "text/plain": [
       "\u001b[32m\u001b[1mTest Passed\u001b[22m\u001b[39m"
      ]
     },
     "metadata": {},
     "output_type": "display_data"
    }
   ],
   "source": [
    "A = SymTridiagonal(ones(n), (2:n) .^ (-2))\n",
    "@test x ≈ A\\ones(n)"
   ]
  },
  {
   "cell_type": "markdown",
   "metadata": {},
   "source": [
    "In practice its better to use inbuilt optimsation routines and packages. Here we see how we can solve the same problem with\n",
    "the Optimization.jl package, combined with OptimizationOptimisers.jl that has gradient-based optimisation methods,\n",
    "in particular `Adam`."
   ]
  },
  {
   "cell_type": "code",
   "execution_count": 30,
   "metadata": {},
   "outputs": [
    {
     "name": "stdout",
     "output_type": "stream",
     "text": [
      "  9.865280 seconds (5.89 M allocations: 24.425 GiB, 26.19% gc time, 13.98% compilation time)\n"
     ]
    },
    {
     "data": {
      "text/plain": [
       "\u001b[32m\u001b[1mTest Passed\u001b[22m\u001b[39m"
      ]
     },
     "metadata": {},
     "output_type": "display_data"
    }
   ],
   "source": [
    "using Optimization, OptimizationOptimisers\n",
    "\n",
    "x = randn(n) # initial guess\n",
    "prob = OptimizationProblem(OptimizationFunction(f, Optimization.AutoZygote()), x, n)\n",
    "@time y = solve(prob, Adam(0.03), maxiters=100)\n",
    "\n",
    "@test y.u ≈ x"
   ]
  },
  {
   "cell_type": "markdown",
   "metadata": {},
   "source": [
    "**Problem 4** This problem considers an example that will connect with  neural networks.\n",
    "Define ${\\rm relu}(x) := \\max(0,x)$ and consider an approximation of the form:\n",
    "$$\n",
    "p_{𝐚,𝐛}(x) := ∑_{k=1}^n {\\rm relu}(a_k x + b_k)\n",
    "$$\n",
    "where $𝐚,𝐛 ∈ ℝ^n$. This is a sum of positive convex functions hence consider regression for a positive convex function\n",
    "like $f(x) =  \\exp x$. For $n = 100$,  approximate $𝐚,𝐛$ that minimises $\\|p_{𝐚,𝐛}.(𝐱) - f.(𝐱)\\|$ where $𝐱$ is a vector containing\n",
    "100 evenly spaced points between $-1$ and $1$ (inclusive). Compare your regression with $f$ by plotting the two functions."
   ]
  },
  {
   "cell_type": "code",
   "execution_count": 31,
   "metadata": {},
   "outputs": [
    {
     "name": "stdout",
     "output_type": "stream",
     "text": [
      "  1.286180 seconds (4.63 M allocations: 1014.643 MiB, 8.13% gc time, 89.47% compilation time)\n"
     ]
    },
    {
     "data": {
      "image/png": "[encoded data removed]",
      "image/svg+xml": [
       "<?xml version=\"1.0\" encoding=\"utf-8\"?>\n",
       "<svg xmlns=\"http://www.w3.org/2000/svg\" xmlns:xlink=\"http://www.w3.org/1999/xlink\" width=\"600\" height=\"400\" viewBox=\"0 0 2400 1600\">\n",
       "<defs>\n",
       "  <clipPath id=\"clip370\">\n",
       "    <rect x=\"0\" y=\"0\" width=\"2400\" height=\"1600\"/>\n",
       "  </clipPath>\n",
       "</defs>\n",
       "<path clip-path=\"url(#clip370)\" d=\"M0 1600 L2400 1600 L2400 8.88178e-14 L0 8.88178e-14  Z\" fill=\"#ffffff\" fill-rule=\"evenodd\" fill-opacity=\"1\"/>\n",
       "<defs>\n",
       "  <clipPath id=\"clip371\">\n",
       "    <rect x=\"480\" y=\"0\" width=\"1681\" height=\"1600\"/>\n",
       "  </clipPath>\n",
       "</defs>\n",
       "<path clip-path=\"url(#clip370)\" d=\"M155.765 1486.45 L2352.76 1486.45 L2352.76 47.2441 L155.765 47.2441  Z\" fill=\"#ffffff\" fill-rule=\"evenodd\" fill-opacity=\"1\"/>\n",
       "<defs>\n",
       "  <clipPath id=\"clip372\">\n",
       "    <rect x=\"155\" y=\"47\" width=\"2198\" height=\"1440\"/>\n",
       "  </clipPath>\n",
       "</defs>\n",
       "<polyline clip-path=\"url(#clip372)\" style=\"stroke:#000000; stroke-linecap:round; stroke-linejoin:round; stroke-width:2; stroke-opacity:0.1; fill:none\" points=\"217.944,1486.45 217.944,47.2441 \"/>\n",
       "<polyline clip-path=\"url(#clip372)\" style=\"stroke:#000000; stroke-linecap:round; stroke-linejoin:round; stroke-width:2; stroke-opacity:0.1; fill:none\" points=\"736.102,1486.45 736.102,47.2441 \"/>\n",
       "<polyline clip-path=\"url(#clip372)\" style=\"stroke:#000000; stroke-linecap:round; stroke-linejoin:round; stroke-width:2; stroke-opacity:0.1; fill:none\" points=\"1254.26,1486.45 1254.26,47.2441 \"/>\n",
       "<polyline clip-path=\"url(#clip372)\" style=\"stroke:#000000; stroke-linecap:round; stroke-linejoin:round; stroke-width:2; stroke-opacity:0.1; fill:none\" points=\"1772.42,1486.45 1772.42,47.2441 \"/>\n",
       "<polyline clip-path=\"url(#clip372)\" style=\"stroke:#000000; stroke-linecap:round; stroke-linejoin:round; stroke-width:2; stroke-opacity:0.1; fill:none\" points=\"2290.58,1486.45 2290.58,47.2441 \"/>\n",
       "<polyline clip-path=\"url(#clip370)\" style=\"stroke:#000000; stroke-linecap:round; stroke-linejoin:round; stroke-width:4; stroke-opacity:1; fill:none\" points=\"155.765,1486.45 2352.76,1486.45 \"/>\n",
       "<polyline clip-path=\"url(#clip370)\" style=\"stroke:#000000; stroke-linecap:round; stroke-linejoin:round; stroke-width:4; stroke-opacity:1; fill:none\" points=\"217.944,1486.45 217.944,1467.55 \"/>\n",
       "<polyline clip-path=\"url(#clip370)\" style=\"stroke:#000000; stroke-linecap:round; stroke-linejoin:round; stroke-width:4; stroke-opacity:1; fill:none\" points=\"736.102,1486.45 736.102,1467.55 \"/>\n",
       "<polyline clip-path=\"url(#clip370)\" style=\"stroke:#000000; stroke-linecap:round; stroke-linejoin:round; stroke-width:4; stroke-opacity:1; fill:none\" points=\"1254.26,1486.45 1254.26,1467.55 \"/>\n",
       "<polyline clip-path=\"url(#clip370)\" style=\"stroke:#000000; stroke-linecap:round; stroke-linejoin:round; stroke-width:4; stroke-opacity:1; fill:none\" points=\"1772.42,1486.45 1772.42,1467.55 \"/>\n",
       "<polyline clip-path=\"url(#clip370)\" style=\"stroke:#000000; stroke-linecap:round; stroke-linejoin:round; stroke-width:4; stroke-opacity:1; fill:none\" points=\"2290.58,1486.45 2290.58,1467.55 \"/>\n",
       "<path clip-path=\"url(#clip370)\" d=\"M164.472 1532.02 L194.148 1532.02 L194.148 1535.95 L164.472 1535.95 L164.472 1532.02 Z\" fill=\"#000000\" fill-rule=\"nonzero\" fill-opacity=\"1\" /><path clip-path=\"url(#clip370)\" d=\"M205.05 1544.91 L212.689 1544.91 L212.689 1518.55 L204.379 1520.21 L204.379 1515.95 L212.643 1514.29 L217.319 1514.29 L217.319 1544.91 L224.958 1544.91 L224.958 1548.85 L205.05 1548.85 L205.05 1544.91 Z\" fill=\"#000000\" fill-rule=\"nonzero\" fill-opacity=\"1\" /><path clip-path=\"url(#clip370)\" d=\"M234.402 1542.97 L239.286 1542.97 L239.286 1548.85 L234.402 1548.85 L234.402 1542.97 Z\" fill=\"#000000\" fill-rule=\"nonzero\" fill-opacity=\"1\" /><path clip-path=\"url(#clip370)\" d=\"M259.471 1517.37 Q255.86 1517.37 254.032 1520.93 Q252.226 1524.47 252.226 1531.6 Q252.226 1538.71 254.032 1542.27 Q255.86 1545.82 259.471 1545.82 Q263.106 1545.82 264.911 1542.27 Q266.74 1538.71 266.74 1531.6 Q266.74 1524.47 264.911 1520.93 Q263.106 1517.37 259.471 1517.37 M259.471 1513.66 Q265.282 1513.66 268.337 1518.27 Q271.416 1522.85 271.416 1531.6 Q271.416 1540.33 268.337 1544.94 Q265.282 1549.52 259.471 1549.52 Q253.661 1549.52 250.583 1544.94 Q247.527 1540.33 247.527 1531.6 Q247.527 1522.85 250.583 1518.27 Q253.661 1513.66 259.471 1513.66 Z\" fill=\"#000000\" fill-rule=\"nonzero\" fill-opacity=\"1\" /><path clip-path=\"url(#clip370)\" d=\"M683.128 1532.02 L712.804 1532.02 L712.804 1535.95 L683.128 1535.95 L683.128 1532.02 Z\" fill=\"#000000\" fill-rule=\"nonzero\" fill-opacity=\"1\" /><path clip-path=\"url(#clip370)\" d=\"M732.896 1517.37 Q729.285 1517.37 727.456 1520.93 Q725.651 1524.47 725.651 1531.6 Q725.651 1538.71 727.456 1542.27 Q729.285 1545.82 732.896 1545.82 Q736.53 1545.82 738.336 1542.27 Q740.165 1538.71 740.165 1531.6 Q740.165 1524.47 738.336 1520.93 Q736.53 1517.37 732.896 1517.37 M732.896 1513.66 Q738.706 1513.66 741.762 1518.27 Q744.841 1522.85 744.841 1531.6 Q744.841 1540.33 741.762 1544.94 Q738.706 1549.52 732.896 1549.52 Q727.086 1549.52 724.007 1544.94 Q720.952 1540.33 720.952 1531.6 Q720.952 1522.85 724.007 1518.27 Q727.086 1513.66 732.896 1513.66 Z\" fill=\"#000000\" fill-rule=\"nonzero\" fill-opacity=\"1\" /><path clip-path=\"url(#clip370)\" d=\"M753.058 1542.97 L757.942 1542.97 L757.942 1548.85 L753.058 1548.85 L753.058 1542.97 Z\" fill=\"#000000\" fill-rule=\"nonzero\" fill-opacity=\"1\" /><path clip-path=\"url(#clip370)\" d=\"M768.174 1514.29 L786.53 1514.29 L786.53 1518.22 L772.456 1518.22 L772.456 1526.7 Q773.475 1526.35 774.493 1526.19 Q775.512 1526 776.53 1526 Q782.317 1526 785.697 1529.17 Q789.076 1532.34 789.076 1537.76 Q789.076 1543.34 785.604 1546.44 Q782.132 1549.52 775.813 1549.52 Q773.637 1549.52 771.368 1549.15 Q769.123 1548.78 766.715 1548.04 L766.715 1543.34 Q768.799 1544.47 771.021 1545.03 Q773.243 1545.58 775.72 1545.58 Q779.725 1545.58 782.063 1543.48 Q784.401 1541.37 784.401 1537.76 Q784.401 1534.15 782.063 1532.04 Q779.725 1529.94 775.72 1529.94 Q773.845 1529.94 771.97 1530.35 Q770.118 1530.77 768.174 1531.65 L768.174 1514.29 Z\" fill=\"#000000\" fill-rule=\"nonzero\" fill-opacity=\"1\" /><path clip-path=\"url(#clip370)\" d=\"M1231.64 1517.37 Q1228.03 1517.37 1226.21 1520.93 Q1224.4 1524.47 1224.4 1531.6 Q1224.4 1538.71 1226.21 1542.27 Q1228.03 1545.82 1231.64 1545.82 Q1235.28 1545.82 1237.08 1542.27 Q1238.91 1538.71 1238.91 1531.6 Q1238.91 1524.47 1237.08 1520.93 Q1235.28 1517.37 1231.64 1517.37 M1231.64 1513.66 Q1237.45 1513.66 1240.51 1518.27 Q1243.59 1522.85 1243.59 1531.6 Q1243.59 1540.33 1240.51 1544.94 Q1237.45 1549.52 1231.64 1549.52 Q1225.83 1549.52 1222.76 1544.94 Q1219.7 1540.33 1219.7 1531.6 Q1219.7 1522.85 1222.76 1518.27 Q1225.83 1513.66 1231.64 1513.66 Z\" fill=\"#000000\" fill-rule=\"nonzero\" fill-opacity=\"1\" /><path clip-path=\"url(#clip370)\" d=\"M1251.81 1542.97 L1256.69 1542.97 L1256.69 1548.85 L1251.81 1548.85 L1251.81 1542.97 Z\" fill=\"#000000\" fill-rule=\"nonzero\" fill-opacity=\"1\" /><path clip-path=\"url(#clip370)\" d=\"M1276.88 1517.37 Q1273.26 1517.37 1271.44 1520.93 Q1269.63 1524.47 1269.63 1531.6 Q1269.63 1538.71 1271.44 1542.27 Q1273.26 1545.82 1276.88 1545.82 Q1280.51 1545.82 1282.32 1542.27 Q1284.14 1538.71 1284.14 1531.6 Q1284.14 1524.47 1282.32 1520.93 Q1280.51 1517.37 1276.88 1517.37 M1276.88 1513.66 Q1282.69 1513.66 1285.74 1518.27 Q1288.82 1522.85 1288.82 1531.6 Q1288.82 1540.33 1285.74 1544.94 Q1282.69 1549.52 1276.88 1549.52 Q1271.07 1549.52 1267.99 1544.94 Q1264.93 1540.33 1264.93 1531.6 Q1264.93 1522.85 1267.99 1518.27 Q1271.07 1513.66 1276.88 1513.66 Z\" fill=\"#000000\" fill-rule=\"nonzero\" fill-opacity=\"1\" /><path clip-path=\"url(#clip370)\" d=\"M1750.3 1517.37 Q1746.69 1517.37 1744.86 1520.93 Q1743.06 1524.47 1743.06 1531.6 Q1743.06 1538.71 1744.86 1542.27 Q1746.69 1545.82 1750.3 1545.82 Q1753.93 1545.82 1755.74 1542.27 Q1757.57 1538.71 1757.57 1531.6 Q1757.57 1524.47 1755.74 1520.93 Q1753.93 1517.37 1750.3 1517.37 M1750.3 1513.66 Q1756.11 1513.66 1759.17 1518.27 Q1762.25 1522.85 1762.25 1531.6 Q1762.25 1540.33 1759.17 1544.94 Q1756.11 1549.52 1750.3 1549.52 Q1744.49 1549.52 1741.41 1544.94 Q1738.36 1540.33 1738.36 1531.6 Q1738.36 1522.85 1741.41 1518.27 Q1744.49 1513.66 1750.3 1513.66 Z\" fill=\"#000000\" fill-rule=\"nonzero\" fill-opacity=\"1\" /><path clip-path=\"url(#clip370)\" d=\"M1770.46 1542.97 L1775.35 1542.97 L1775.35 1548.85 L1770.46 1548.85 L1770.46 1542.97 Z\" fill=\"#000000\" fill-rule=\"nonzero\" fill-opacity=\"1\" /><path clip-path=\"url(#clip370)\" d=\"M1785.58 1514.29 L1803.93 1514.29 L1803.93 1518.22 L1789.86 1518.22 L1789.86 1526.7 Q1790.88 1526.35 1791.9 1526.19 Q1792.92 1526 1793.93 1526 Q1799.72 1526 1803.1 1529.17 Q1806.48 1532.34 1806.48 1537.76 Q1806.48 1543.34 1803.01 1546.44 Q1799.54 1549.52 1793.22 1549.52 Q1791.04 1549.52 1788.77 1549.15 Q1786.53 1548.78 1784.12 1548.04 L1784.12 1543.34 Q1786.2 1544.47 1788.43 1545.03 Q1790.65 1545.58 1793.12 1545.58 Q1797.13 1545.58 1799.47 1543.48 Q1801.81 1541.37 1801.81 1537.76 Q1801.81 1534.15 1799.47 1532.04 Q1797.13 1529.94 1793.12 1529.94 Q1791.25 1529.94 1789.37 1530.35 Q1787.52 1530.77 1785.58 1531.65 L1785.58 1514.29 Z\" fill=\"#000000\" fill-rule=\"nonzero\" fill-opacity=\"1\" /><path clip-path=\"url(#clip370)\" d=\"M2257.73 1544.91 L2265.37 1544.91 L2265.37 1518.55 L2257.06 1520.21 L2257.06 1515.95 L2265.32 1514.29 L2270 1514.29 L2270 1544.91 L2277.64 1544.91 L2277.64 1548.85 L2257.73 1548.85 L2257.73 1544.91 Z\" fill=\"#000000\" fill-rule=\"nonzero\" fill-opacity=\"1\" /><path clip-path=\"url(#clip370)\" d=\"M2287.08 1542.97 L2291.97 1542.97 L2291.97 1548.85 L2287.08 1548.85 L2287.08 1542.97 Z\" fill=\"#000000\" fill-rule=\"nonzero\" fill-opacity=\"1\" /><path clip-path=\"url(#clip370)\" d=\"M2312.15 1517.37 Q2308.54 1517.37 2306.71 1520.93 Q2304.91 1524.47 2304.91 1531.6 Q2304.91 1538.71 2306.71 1542.27 Q2308.54 1545.82 2312.15 1545.82 Q2315.79 1545.82 2317.59 1542.27 Q2319.42 1538.71 2319.42 1531.6 Q2319.42 1524.47 2317.59 1520.93 Q2315.79 1517.37 2312.15 1517.37 M2312.15 1513.66 Q2317.96 1513.66 2321.02 1518.27 Q2324.1 1522.85 2324.1 1531.6 Q2324.1 1540.33 2321.02 1544.94 Q2317.96 1549.52 2312.15 1549.52 Q2306.34 1549.52 2303.26 1544.94 Q2300.21 1540.33 2300.21 1531.6 Q2300.21 1522.85 2303.26 1518.27 Q2306.34 1513.66 2312.15 1513.66 Z\" fill=\"#000000\" fill-rule=\"nonzero\" fill-opacity=\"1\" /><polyline clip-path=\"url(#clip372)\" style=\"stroke:#000000; stroke-linecap:round; stroke-linejoin:round; stroke-width:2; stroke-opacity:0.1; fill:none\" points=\"155.765,1369.39 2352.76,1369.39 \"/>\n",
       "<polyline clip-path=\"url(#clip372)\" style=\"stroke:#000000; stroke-linecap:round; stroke-linejoin:round; stroke-width:2; stroke-opacity:0.1; fill:none\" points=\"155.765,1080.56 2352.76,1080.56 \"/>\n",
       "<polyline clip-path=\"url(#clip372)\" style=\"stroke:#000000; stroke-linecap:round; stroke-linejoin:round; stroke-width:2; stroke-opacity:0.1; fill:none\" points=\"155.765,791.732 2352.76,791.732 \"/>\n",
       "<polyline clip-path=\"url(#clip372)\" style=\"stroke:#000000; stroke-linecap:round; stroke-linejoin:round; stroke-width:2; stroke-opacity:0.1; fill:none\" points=\"155.765,502.901 2352.76,502.901 \"/>\n",
       "<polyline clip-path=\"url(#clip372)\" style=\"stroke:#000000; stroke-linecap:round; stroke-linejoin:round; stroke-width:2; stroke-opacity:0.1; fill:none\" points=\"155.765,214.07 2352.76,214.07 \"/>\n",
       "<polyline clip-path=\"url(#clip370)\" style=\"stroke:#000000; stroke-linecap:round; stroke-linejoin:round; stroke-width:4; stroke-opacity:1; fill:none\" points=\"155.765,1486.45 155.765,47.2441 \"/>\n",
       "<polyline clip-path=\"url(#clip370)\" style=\"stroke:#000000; stroke-linecap:round; stroke-linejoin:round; stroke-width:4; stroke-opacity:1; fill:none\" points=\"155.765,1369.39 174.663,1369.39 \"/>\n",
       "<polyline clip-path=\"url(#clip370)\" style=\"stroke:#000000; stroke-linecap:round; stroke-linejoin:round; stroke-width:4; stroke-opacity:1; fill:none\" points=\"155.765,1080.56 174.663,1080.56 \"/>\n",
       "<polyline clip-path=\"url(#clip370)\" style=\"stroke:#000000; stroke-linecap:round; stroke-linejoin:round; stroke-width:4; stroke-opacity:1; fill:none\" points=\"155.765,791.732 174.663,791.732 \"/>\n",
       "<polyline clip-path=\"url(#clip370)\" style=\"stroke:#000000; stroke-linecap:round; stroke-linejoin:round; stroke-width:4; stroke-opacity:1; fill:none\" points=\"155.765,502.901 174.663,502.901 \"/>\n",
       "<polyline clip-path=\"url(#clip370)\" style=\"stroke:#000000; stroke-linecap:round; stroke-linejoin:round; stroke-width:4; stroke-opacity:1; fill:none\" points=\"155.765,214.07 174.663,214.07 \"/>\n",
       "<path clip-path=\"url(#clip370)\" d=\"M63.5847 1355.19 Q59.9736 1355.19 58.1449 1358.76 Q56.3393 1362.3 56.3393 1369.43 Q56.3393 1376.54 58.1449 1380.1 Q59.9736 1383.64 63.5847 1383.64 Q67.2189 1383.64 69.0244 1380.1 Q70.8531 1376.54 70.8531 1369.43 Q70.8531 1362.3 69.0244 1358.76 Q67.2189 1355.19 63.5847 1355.19 M63.5847 1351.49 Q69.3948 1351.49 72.4503 1356.1 Q75.529 1360.68 75.529 1369.43 Q75.529 1378.16 72.4503 1382.76 Q69.3948 1387.35 63.5847 1387.35 Q57.7745 1387.35 54.6958 1382.76 Q51.6403 1378.16 51.6403 1369.43 Q51.6403 1360.68 54.6958 1356.1 Q57.7745 1351.49 63.5847 1351.49 Z\" fill=\"#000000\" fill-rule=\"nonzero\" fill-opacity=\"1\" /><path clip-path=\"url(#clip370)\" d=\"M83.7466 1380.79 L88.6308 1380.79 L88.6308 1386.67 L83.7466 1386.67 L83.7466 1380.79 Z\" fill=\"#000000\" fill-rule=\"nonzero\" fill-opacity=\"1\" /><path clip-path=\"url(#clip370)\" d=\"M98.8622 1352.11 L117.219 1352.11 L117.219 1356.05 L103.145 1356.05 L103.145 1364.52 Q104.163 1364.17 105.182 1364.01 Q106.2 1363.83 107.219 1363.83 Q113.006 1363.83 116.385 1367 Q119.765 1370.17 119.765 1375.59 Q119.765 1381.17 116.293 1384.27 Q112.82 1387.35 106.501 1387.35 Q104.325 1387.35 102.057 1386.98 Q99.8113 1386.61 97.4039 1385.86 L97.4039 1381.17 Q99.4872 1382.3 101.709 1382.86 Q103.932 1383.41 106.408 1383.41 Q110.413 1383.41 112.751 1381.3 Q115.089 1379.2 115.089 1375.59 Q115.089 1371.98 112.751 1369.87 Q110.413 1367.76 106.408 1367.76 Q104.534 1367.76 102.659 1368.18 Q100.807 1368.6 98.8622 1369.48 L98.8622 1352.11 Z\" fill=\"#000000\" fill-rule=\"nonzero\" fill-opacity=\"1\" /><path clip-path=\"url(#clip370)\" d=\"M53.3995 1093.91 L61.0384 1093.91 L61.0384 1067.54 L52.7282 1069.21 L52.7282 1064.95 L60.9921 1063.28 L65.668 1063.28 L65.668 1093.91 L73.3068 1093.91 L73.3068 1097.84 L53.3995 1097.84 L53.3995 1093.91 Z\" fill=\"#000000\" fill-rule=\"nonzero\" fill-opacity=\"1\" /><path clip-path=\"url(#clip370)\" d=\"M82.7512 1091.96 L87.6354 1091.96 L87.6354 1097.84 L82.7512 1097.84 L82.7512 1091.96 Z\" fill=\"#000000\" fill-rule=\"nonzero\" fill-opacity=\"1\" /><path clip-path=\"url(#clip370)\" d=\"M107.821 1066.36 Q104.209 1066.36 102.381 1069.93 Q100.575 1073.47 100.575 1080.6 Q100.575 1087.7 102.381 1091.27 Q104.209 1094.81 107.821 1094.81 Q111.455 1094.81 113.26 1091.27 Q115.089 1087.7 115.089 1080.6 Q115.089 1073.47 113.26 1069.93 Q111.455 1066.36 107.821 1066.36 M107.821 1062.66 Q113.631 1062.66 116.686 1067.26 Q119.765 1071.85 119.765 1080.6 Q119.765 1089.32 116.686 1093.93 Q113.631 1098.51 107.821 1098.51 Q102.01 1098.51 98.9317 1093.93 Q95.8761 1089.32 95.8761 1080.6 Q95.8761 1071.85 98.9317 1067.26 Q102.01 1062.66 107.821 1062.66 Z\" fill=\"#000000\" fill-rule=\"nonzero\" fill-opacity=\"1\" /><path clip-path=\"url(#clip370)\" d=\"M54.3949 805.077 L62.0337 805.077 L62.0337 778.711 L53.7236 780.378 L53.7236 776.119 L61.9874 774.452 L66.6633 774.452 L66.6633 805.077 L74.3022 805.077 L74.3022 809.012 L54.3949 809.012 L54.3949 805.077 Z\" fill=\"#000000\" fill-rule=\"nonzero\" fill-opacity=\"1\" /><path clip-path=\"url(#clip370)\" d=\"M83.7466 803.132 L88.6308 803.132 L88.6308 809.012 L83.7466 809.012 L83.7466 803.132 Z\" fill=\"#000000\" fill-rule=\"nonzero\" fill-opacity=\"1\" /><path clip-path=\"url(#clip370)\" d=\"M98.8622 774.452 L117.219 774.452 L117.219 778.387 L103.145 778.387 L103.145 786.859 Q104.163 786.512 105.182 786.35 Q106.2 786.165 107.219 786.165 Q113.006 786.165 116.385 789.336 Q119.765 792.508 119.765 797.924 Q119.765 803.503 116.293 806.605 Q112.82 809.683 106.501 809.683 Q104.325 809.683 102.057 809.313 Q99.8113 808.943 97.4039 808.202 L97.4039 803.503 Q99.4872 804.637 101.709 805.193 Q103.932 805.748 106.408 805.748 Q110.413 805.748 112.751 803.642 Q115.089 801.535 115.089 797.924 Q115.089 794.313 112.751 792.207 Q110.413 790.1 106.408 790.1 Q104.534 790.1 102.659 790.517 Q100.807 790.933 98.8622 791.813 L98.8622 774.452 Z\" fill=\"#000000\" fill-rule=\"nonzero\" fill-opacity=\"1\" /><path clip-path=\"url(#clip370)\" d=\"M56.6171 516.246 L72.9365 516.246 L72.9365 520.181 L50.9921 520.181 L50.9921 516.246 Q53.6541 513.491 58.2375 508.861 Q62.8439 504.209 64.0245 502.866 Q66.2698 500.343 67.1494 498.607 Q68.0522 496.848 68.0522 495.158 Q68.0522 492.403 66.1078 490.667 Q64.1865 488.931 61.0847 488.931 Q58.8856 488.931 56.4319 489.695 Q54.0014 490.459 51.2236 492.01 L51.2236 487.287 Q54.0477 486.153 56.5014 485.574 Q58.955 484.996 60.9921 484.996 Q66.3624 484.996 69.5568 487.681 Q72.7513 490.366 72.7513 494.857 Q72.7513 496.986 71.9411 498.908 Q71.1541 500.806 69.0476 503.398 Q68.4689 504.07 65.367 507.287 Q62.2652 510.482 56.6171 516.246 Z\" fill=\"#000000\" fill-rule=\"nonzero\" fill-opacity=\"1\" /><path clip-path=\"url(#clip370)\" d=\"M82.7512 514.301 L87.6354 514.301 L87.6354 520.181 L82.7512 520.181 L82.7512 514.301 Z\" fill=\"#000000\" fill-rule=\"nonzero\" fill-opacity=\"1\" /><path clip-path=\"url(#clip370)\" d=\"M107.821 488.699 Q104.209 488.699 102.381 492.264 Q100.575 495.806 100.575 502.936 Q100.575 510.042 102.381 513.607 Q104.209 517.148 107.821 517.148 Q111.455 517.148 113.26 513.607 Q115.089 510.042 115.089 502.936 Q115.089 495.806 113.26 492.264 Q111.455 488.699 107.821 488.699 M107.821 484.996 Q113.631 484.996 116.686 489.602 Q119.765 494.186 119.765 502.936 Q119.765 511.662 116.686 516.269 Q113.631 520.852 107.821 520.852 Q102.01 520.852 98.9317 516.269 Q95.8761 511.662 95.8761 502.936 Q95.8761 494.186 98.9317 489.602 Q102.01 484.996 107.821 484.996 Z\" fill=\"#000000\" fill-rule=\"nonzero\" fill-opacity=\"1\" /><path clip-path=\"url(#clip370)\" d=\"M57.6125 227.414 L73.9318 227.414 L73.9318 231.35 L51.9875 231.35 L51.9875 227.414 Q54.6495 224.66 59.2328 220.03 Q63.8393 215.377 65.0198 214.035 Q67.2652 211.512 68.1448 209.776 Q69.0476 208.016 69.0476 206.326 Q69.0476 203.572 67.1032 201.836 Q65.1819 200.1 62.08 200.1 Q59.881 200.1 57.4273 200.864 Q54.9967 201.627 52.219 203.178 L52.219 198.456 Q55.043 197.322 57.4967 196.743 Q59.9504 196.165 61.9874 196.165 Q67.3578 196.165 70.5522 198.85 Q73.7466 201.535 73.7466 206.026 Q73.7466 208.155 72.9365 210.076 Q72.1494 211.975 70.0429 214.567 Q69.4642 215.238 66.3624 218.456 Q63.2606 221.65 57.6125 227.414 Z\" fill=\"#000000\" fill-rule=\"nonzero\" fill-opacity=\"1\" /><path clip-path=\"url(#clip370)\" d=\"M83.7466 225.47 L88.6308 225.47 L88.6308 231.35 L83.7466 231.35 L83.7466 225.47 Z\" fill=\"#000000\" fill-rule=\"nonzero\" fill-opacity=\"1\" /><path clip-path=\"url(#clip370)\" d=\"M98.8622 196.79 L117.219 196.79 L117.219 200.725 L103.145 200.725 L103.145 209.197 Q104.163 208.85 105.182 208.688 Q106.2 208.502 107.219 208.502 Q113.006 208.502 116.385 211.674 Q119.765 214.845 119.765 220.262 Q119.765 225.84 116.293 228.942 Q112.82 232.021 106.501 232.021 Q104.325 232.021 102.057 231.65 Q99.8113 231.28 97.4039 230.539 L97.4039 225.84 Q99.4872 226.975 101.709 227.53 Q103.932 228.086 106.408 228.086 Q110.413 228.086 112.751 225.979 Q115.089 223.873 115.089 220.262 Q115.089 216.651 112.751 214.544 Q110.413 212.438 106.408 212.438 Q104.534 212.438 102.659 212.854 Q100.807 213.271 98.8622 214.151 L98.8622 196.79 Z\" fill=\"#000000\" fill-rule=\"nonzero\" fill-opacity=\"1\" /><polyline clip-path=\"url(#clip372)\" style=\"stroke:#009af9; stroke-linecap:round; stroke-linejoin:round; stroke-width:4; stroke-opacity:1; fill:none\" points=\"217.944,1445.72 238.88,1441.38 259.815,1436.95 280.751,1432.44 301.687,1427.83 322.622,1423.13 343.558,1418.33 364.494,1413.44 385.429,1408.44 406.365,1403.34 427.301,1398.14 448.236,1392.83 469.172,1387.42 490.108,1381.89 511.044,1376.25 531.979,1370.5 552.915,1364.62 573.851,1358.63 594.786,1352.52 615.722,1346.28 636.658,1339.91 657.593,1333.42 678.529,1326.79 699.465,1320.03 720.4,1313.12 741.336,1306.08 762.272,1298.9 783.207,1291.56 804.143,1284.08 825.079,1276.44 846.015,1268.65 866.95,1260.7 887.886,1252.59 908.822,1244.31 929.757,1235.87 950.693,1227.25 971.629,1218.45 992.564,1209.48 1013.5,1200.32 1034.44,1190.97 1055.37,1181.44 1076.31,1171.71 1097.24,1161.78 1118.18,1151.65 1139.11,1141.31 1160.05,1130.76 1180.99,1120 1201.92,1109.01 1222.86,1097.81 1243.79,1086.37 1264.73,1074.7 1285.66,1062.79 1306.6,1050.64 1327.54,1038.24 1348.47,1025.59 1369.41,1012.68 1390.34,999.503 1411.28,986.06 1432.21,972.343 1453.15,958.346 1474.09,944.063 1495.02,929.489 1515.96,914.617 1536.89,899.442 1557.83,883.957 1578.76,868.156 1599.7,852.033 1620.63,835.58 1641.57,818.792 1662.51,801.662 1683.44,784.181 1704.38,766.344 1725.31,748.143 1746.25,729.571 1767.18,710.619 1788.12,691.281 1809.06,671.548 1829.99,651.413 1850.93,630.866 1871.86,609.9 1892.8,588.507 1913.73,566.676 1934.67,544.401 1955.61,521.67 1976.54,498.476 1997.48,474.809 2018.41,450.658 2039.35,426.015 2060.28,400.868 2081.22,375.209 2102.16,349.026 2123.09,322.308 2144.03,295.046 2164.96,267.226 2185.9,238.84 2206.83,209.874 2227.77,180.316 2248.71,150.156 2269.64,119.38 2290.58,87.9763 \"/>\n",
       "<polyline clip-path=\"url(#clip372)\" style=\"stroke:#e26f46; stroke-linecap:round; stroke-linejoin:round; stroke-width:4; stroke-opacity:1; fill:none\" points=\"217.944,1436.85 238.88,1438.23 259.815,1439.62 280.751,1441.01 301.687,1436.2 322.622,1429.88 343.558,1423.56 364.494,1417.24 385.429,1410.92 406.365,1404.6 427.301,1398.28 448.236,1391.97 469.172,1385.65 490.108,1379.33 511.044,1373.01 531.979,1366.69 552.915,1360.37 573.851,1354.05 594.786,1347.73 615.722,1341.41 636.658,1335.09 657.593,1328.77 678.529,1322.45 699.465,1316.13 720.4,1309.81 741.336,1303.49 762.272,1297.17 783.207,1290.85 804.143,1284.53 825.079,1278.21 846.015,1271.89 866.95,1265.57 887.886,1259.25 908.822,1252.93 929.757,1245.8 950.693,1234.86 971.629,1223.91 992.564,1212.97 1013.5,1202.03 1034.44,1191.08 1055.37,1180.14 1076.31,1169.2 1097.24,1158.25 1118.18,1147.31 1139.11,1136.37 1160.05,1125.42 1180.99,1114.48 1201.92,1103.54 1222.86,1092.59 1243.79,1081.65 1264.73,1070.71 1285.66,1059.77 1306.6,1048.82 1327.54,1037.88 1348.47,1026.94 1369.41,1015.99 1390.34,1005.05 1411.28,994.107 1432.21,983.164 1453.15,969.166 1474.09,951.751 1495.02,934.337 1515.96,916.922 1536.89,899.507 1557.83,882.093 1578.76,864.678 1599.7,847.263 1620.63,829.849 1641.57,812.434 1662.51,795.02 1683.44,777.605 1704.38,760.19 1725.31,742.776 1746.25,725.361 1767.18,707.946 1788.12,690.532 1809.06,673.117 1829.99,655.703 1850.93,638.288 1871.86,620.873 1892.8,603.459 1913.73,582.597 1934.67,555.876 1955.61,529.155 1976.54,502.434 1997.48,475.713 2018.41,448.991 2039.35,422.27 2060.28,395.549 2081.22,368.828 2102.16,342.107 2123.09,315.386 2144.03,288.664 2164.96,261.943 2185.9,235.222 2206.83,208.501 2227.77,181.78 2248.71,155.059 2269.64,128.337 2290.58,101.616 \"/>\n",
       "<path clip-path=\"url(#clip370)\" d=\"M228.998 250.738 L501.127 250.738 L501.127 95.2176 L228.998 95.2176  Z\" fill=\"#ffffff\" fill-rule=\"evenodd\" fill-opacity=\"1\"/>\n",
       "<polyline clip-path=\"url(#clip370)\" style=\"stroke:#000000; stroke-linecap:round; stroke-linejoin:round; stroke-width:4; stroke-opacity:1; fill:none\" points=\"228.998,250.738 501.127,250.738 501.127,95.2176 228.998,95.2176 228.998,250.738 \"/>\n",
       "<polyline clip-path=\"url(#clip370)\" style=\"stroke:#009af9; stroke-linecap:round; stroke-linejoin:round; stroke-width:4; stroke-opacity:1; fill:none\" points=\"253.409,147.058 399.875,147.058 \"/>\n",
       "<path clip-path=\"url(#clip370)\" d=\"M438.129 166.745 Q436.323 171.375 434.61 172.787 Q432.897 174.199 430.027 174.199 L426.624 174.199 L426.624 170.634 L429.124 170.634 Q430.883 170.634 431.855 169.8 Q432.828 168.967 434.008 165.865 L434.772 163.921 L424.286 138.412 L428.8 138.412 L436.902 158.689 L445.004 138.412 L449.517 138.412 L438.129 166.745 Z\" fill=\"#000000\" fill-rule=\"nonzero\" fill-opacity=\"1\" /><path clip-path=\"url(#clip370)\" d=\"M456.809 160.402 L464.448 160.402 L464.448 134.037 L456.138 135.703 L456.138 131.444 L464.402 129.778 L469.077 129.778 L469.077 160.402 L476.716 160.402 L476.716 164.338 L456.809 164.338 L456.809 160.402 Z\" fill=\"#000000\" fill-rule=\"nonzero\" fill-opacity=\"1\" /><polyline clip-path=\"url(#clip370)\" style=\"stroke:#e26f46; stroke-linecap:round; stroke-linejoin:round; stroke-width:4; stroke-opacity:1; fill:none\" points=\"253.409,198.898 399.875,198.898 \"/>\n",
       "<path clip-path=\"url(#clip370)\" d=\"M438.129 218.585 Q436.323 223.215 434.61 224.627 Q432.897 226.039 430.027 226.039 L426.624 226.039 L426.624 222.474 L429.124 222.474 Q430.883 222.474 431.855 221.64 Q432.828 220.807 434.008 217.705 L434.772 215.761 L424.286 190.252 L428.8 190.252 L436.902 210.529 L445.004 190.252 L449.517 190.252 L438.129 218.585 Z\" fill=\"#000000\" fill-rule=\"nonzero\" fill-opacity=\"1\" /><path clip-path=\"url(#clip370)\" d=\"M460.027 212.242 L476.346 212.242 L476.346 216.178 L454.402 216.178 L454.402 212.242 Q457.064 209.488 461.647 204.858 Q466.253 200.205 467.434 198.863 Q469.679 196.34 470.559 194.604 Q471.462 192.844 471.462 191.155 Q471.462 188.4 469.517 186.664 Q467.596 184.928 464.494 184.928 Q462.295 184.928 459.841 185.692 Q457.411 186.455 454.633 188.006 L454.633 183.284 Q457.457 182.15 459.911 181.571 Q462.365 180.993 464.402 180.993 Q469.772 180.993 472.966 183.678 Q476.161 186.363 476.161 190.854 Q476.161 192.983 475.351 194.905 Q474.564 196.803 472.457 199.395 Q471.878 200.067 468.777 203.284 Q465.675 206.479 460.027 212.242 Z\" fill=\"#000000\" fill-rule=\"nonzero\" fill-opacity=\"1\" /></svg>\n"
      ],
      "text/html": [
       "<?xml version=\"1.0\" encoding=\"utf-8\"?>\n",
       "<svg xmlns=\"http://www.w3.org/2000/svg\" xmlns:xlink=\"http://www.w3.org/1999/xlink\" width=\"600\" height=\"400\" viewBox=\"0 0 2400 1600\">\n",
       "<defs>\n",
       "  <clipPath id=\"clip420\">\n",
       "    <rect x=\"0\" y=\"0\" width=\"2400\" height=\"1600\"/>\n",
       "  </clipPath>\n",
       "</defs>\n",
       "<path clip-path=\"url(#clip420)\" d=\"M0 1600 L2400 1600 L2400 8.88178e-14 L0 8.88178e-14  Z\" fill=\"#ffffff\" fill-rule=\"evenodd\" fill-opacity=\"1\"/>\n",
       "<defs>\n",
       "  <clipPath id=\"clip421\">\n",
       "    <rect x=\"480\" y=\"0\" width=\"1681\" height=\"1600\"/>\n",
       "  </clipPath>\n",
       "</defs>\n",
       "<path clip-path=\"url(#clip420)\" d=\"M155.765 1486.45 L2352.76 1486.45 L2352.76 47.2441 L155.765 47.2441  Z\" fill=\"#ffffff\" fill-rule=\"evenodd\" fill-opacity=\"1\"/>\n",
       "<defs>\n",
       "  <clipPath id=\"clip422\">\n",
       "    <rect x=\"155\" y=\"47\" width=\"2198\" height=\"1440\"/>\n",
       "  </clipPath>\n",
       "</defs>\n",
       "<polyline clip-path=\"url(#clip422)\" style=\"stroke:#000000; stroke-linecap:round; stroke-linejoin:round; stroke-width:2; stroke-opacity:0.1; fill:none\" points=\"217.944,1486.45 217.944,47.2441 \"/>\n",
       "<polyline clip-path=\"url(#clip422)\" style=\"stroke:#000000; stroke-linecap:round; stroke-linejoin:round; stroke-width:2; stroke-opacity:0.1; fill:none\" points=\"736.102,1486.45 736.102,47.2441 \"/>\n",
       "<polyline clip-path=\"url(#clip422)\" style=\"stroke:#000000; stroke-linecap:round; stroke-linejoin:round; stroke-width:2; stroke-opacity:0.1; fill:none\" points=\"1254.26,1486.45 1254.26,47.2441 \"/>\n",
       "<polyline clip-path=\"url(#clip422)\" style=\"stroke:#000000; stroke-linecap:round; stroke-linejoin:round; stroke-width:2; stroke-opacity:0.1; fill:none\" points=\"1772.42,1486.45 1772.42,47.2441 \"/>\n",
       "<polyline clip-path=\"url(#clip422)\" style=\"stroke:#000000; stroke-linecap:round; stroke-linejoin:round; stroke-width:2; stroke-opacity:0.1; fill:none\" points=\"2290.58,1486.45 2290.58,47.2441 \"/>\n",
       "<polyline clip-path=\"url(#clip420)\" style=\"stroke:#000000; stroke-linecap:round; stroke-linejoin:round; stroke-width:4; stroke-opacity:1; fill:none\" points=\"155.765,1486.45 2352.76,1486.45 \"/>\n",
       "<polyline clip-path=\"url(#clip420)\" style=\"stroke:#000000; stroke-linecap:round; stroke-linejoin:round; stroke-width:4; stroke-opacity:1; fill:none\" points=\"217.944,1486.45 217.944,1467.55 \"/>\n",
       "<polyline clip-path=\"url(#clip420)\" style=\"stroke:#000000; stroke-linecap:round; stroke-linejoin:round; stroke-width:4; stroke-opacity:1; fill:none\" points=\"736.102,1486.45 736.102,1467.55 \"/>\n",
       "<polyline clip-path=\"url(#clip420)\" style=\"stroke:#000000; stroke-linecap:round; stroke-linejoin:round; stroke-width:4; stroke-opacity:1; fill:none\" points=\"1254.26,1486.45 1254.26,1467.55 \"/>\n",
       "<polyline clip-path=\"url(#clip420)\" style=\"stroke:#000000; stroke-linecap:round; stroke-linejoin:round; stroke-width:4; stroke-opacity:1; fill:none\" points=\"1772.42,1486.45 1772.42,1467.55 \"/>\n",
       "<polyline clip-path=\"url(#clip420)\" style=\"stroke:#000000; stroke-linecap:round; stroke-linejoin:round; stroke-width:4; stroke-opacity:1; fill:none\" points=\"2290.58,1486.45 2290.58,1467.55 \"/>\n",
       "<path clip-path=\"url(#clip420)\" d=\"M164.472 1532.02 L194.148 1532.02 L194.148 1535.95 L164.472 1535.95 L164.472 1532.02 Z\" fill=\"#000000\" fill-rule=\"nonzero\" fill-opacity=\"1\" /><path clip-path=\"url(#clip420)\" d=\"M205.05 1544.91 L212.689 1544.91 L212.689 1518.55 L204.379 1520.21 L204.379 1515.95 L212.643 1514.29 L217.319 1514.29 L217.319 1544.91 L224.958 1544.91 L224.958 1548.85 L205.05 1548.85 L205.05 1544.91 Z\" fill=\"#000000\" fill-rule=\"nonzero\" fill-opacity=\"1\" /><path clip-path=\"url(#clip420)\" d=\"M234.402 1542.97 L239.286 1542.97 L239.286 1548.85 L234.402 1548.85 L234.402 1542.97 Z\" fill=\"#000000\" fill-rule=\"nonzero\" fill-opacity=\"1\" /><path clip-path=\"url(#clip420)\" d=\"M259.471 1517.37 Q255.86 1517.37 254.032 1520.93 Q252.226 1524.47 252.226 1531.6 Q252.226 1538.71 254.032 1542.27 Q255.86 1545.82 259.471 1545.82 Q263.106 1545.82 264.911 1542.27 Q266.74 1538.71 266.74 1531.6 Q266.74 1524.47 264.911 1520.93 Q263.106 1517.37 259.471 1517.37 M259.471 1513.66 Q265.282 1513.66 268.337 1518.27 Q271.416 1522.85 271.416 1531.6 Q271.416 1540.33 268.337 1544.94 Q265.282 1549.52 259.471 1549.52 Q253.661 1549.52 250.583 1544.94 Q247.527 1540.33 247.527 1531.6 Q247.527 1522.85 250.583 1518.27 Q253.661 1513.66 259.471 1513.66 Z\" fill=\"#000000\" fill-rule=\"nonzero\" fill-opacity=\"1\" /><path clip-path=\"url(#clip420)\" d=\"M683.128 1532.02 L712.804 1532.02 L712.804 1535.95 L683.128 1535.95 L683.128 1532.02 Z\" fill=\"#000000\" fill-rule=\"nonzero\" fill-opacity=\"1\" /><path clip-path=\"url(#clip420)\" d=\"M732.896 1517.37 Q729.285 1517.37 727.456 1520.93 Q725.651 1524.47 725.651 1531.6 Q725.651 1538.71 727.456 1542.27 Q729.285 1545.82 732.896 1545.82 Q736.53 1545.82 738.336 1542.27 Q740.165 1538.71 740.165 1531.6 Q740.165 1524.47 738.336 1520.93 Q736.53 1517.37 732.896 1517.37 M732.896 1513.66 Q738.706 1513.66 741.762 1518.27 Q744.841 1522.85 744.841 1531.6 Q744.841 1540.33 741.762 1544.94 Q738.706 1549.52 732.896 1549.52 Q727.086 1549.52 724.007 1544.94 Q720.952 1540.33 720.952 1531.6 Q720.952 1522.85 724.007 1518.27 Q727.086 1513.66 732.896 1513.66 Z\" fill=\"#000000\" fill-rule=\"nonzero\" fill-opacity=\"1\" /><path clip-path=\"url(#clip420)\" d=\"M753.058 1542.97 L757.942 1542.97 L757.942 1548.85 L753.058 1548.85 L753.058 1542.97 Z\" fill=\"#000000\" fill-rule=\"nonzero\" fill-opacity=\"1\" /><path clip-path=\"url(#clip420)\" d=\"M768.174 1514.29 L786.53 1514.29 L786.53 1518.22 L772.456 1518.22 L772.456 1526.7 Q773.475 1526.35 774.493 1526.19 Q775.512 1526 776.53 1526 Q782.317 1526 785.697 1529.17 Q789.076 1532.34 789.076 1537.76 Q789.076 1543.34 785.604 1546.44 Q782.132 1549.52 775.813 1549.52 Q773.637 1549.52 771.368 1549.15 Q769.123 1548.78 766.715 1548.04 L766.715 1543.34 Q768.799 1544.47 771.021 1545.03 Q773.243 1545.58 775.72 1545.58 Q779.725 1545.58 782.063 1543.48 Q784.401 1541.37 784.401 1537.76 Q784.401 1534.15 782.063 1532.04 Q779.725 1529.94 775.72 1529.94 Q773.845 1529.94 771.97 1530.35 Q770.118 1530.77 768.174 1531.65 L768.174 1514.29 Z\" fill=\"#000000\" fill-rule=\"nonzero\" fill-opacity=\"1\" /><path clip-path=\"url(#clip420)\" d=\"M1231.64 1517.37 Q1228.03 1517.37 1226.21 1520.93 Q1224.4 1524.47 1224.4 1531.6 Q1224.4 1538.71 1226.21 1542.27 Q1228.03 1545.82 1231.64 1545.82 Q1235.28 1545.82 1237.08 1542.27 Q1238.91 1538.71 1238.91 1531.6 Q1238.91 1524.47 1237.08 1520.93 Q1235.28 1517.37 1231.64 1517.37 M1231.64 1513.66 Q1237.45 1513.66 1240.51 1518.27 Q1243.59 1522.85 1243.59 1531.6 Q1243.59 1540.33 1240.51 1544.94 Q1237.45 1549.52 1231.64 1549.52 Q1225.83 1549.52 1222.76 1544.94 Q1219.7 1540.33 1219.7 1531.6 Q1219.7 1522.85 1222.76 1518.27 Q1225.83 1513.66 1231.64 1513.66 Z\" fill=\"#000000\" fill-rule=\"nonzero\" fill-opacity=\"1\" /><path clip-path=\"url(#clip420)\" d=\"M1251.81 1542.97 L1256.69 1542.97 L1256.69 1548.85 L1251.81 1548.85 L1251.81 1542.97 Z\" fill=\"#000000\" fill-rule=\"nonzero\" fill-opacity=\"1\" /><path clip-path=\"url(#clip420)\" d=\"M1276.88 1517.37 Q1273.26 1517.37 1271.44 1520.93 Q1269.63 1524.47 1269.63 1531.6 Q1269.63 1538.71 1271.44 1542.27 Q1273.26 1545.82 1276.88 1545.82 Q1280.51 1545.82 1282.32 1542.27 Q1284.14 1538.71 1284.14 1531.6 Q1284.14 1524.47 1282.32 1520.93 Q1280.51 1517.37 1276.88 1517.37 M1276.88 1513.66 Q1282.69 1513.66 1285.74 1518.27 Q1288.82 1522.85 1288.82 1531.6 Q1288.82 1540.33 1285.74 1544.94 Q1282.69 1549.52 1276.88 1549.52 Q1271.07 1549.52 1267.99 1544.94 Q1264.93 1540.33 1264.93 1531.6 Q1264.93 1522.85 1267.99 1518.27 Q1271.07 1513.66 1276.88 1513.66 Z\" fill=\"#000000\" fill-rule=\"nonzero\" fill-opacity=\"1\" /><path clip-path=\"url(#clip420)\" d=\"M1750.3 1517.37 Q1746.69 1517.37 1744.86 1520.93 Q1743.06 1524.47 1743.06 1531.6 Q1743.06 1538.71 1744.86 1542.27 Q1746.69 1545.82 1750.3 1545.82 Q1753.93 1545.82 1755.74 1542.27 Q1757.57 1538.71 1757.57 1531.6 Q1757.57 1524.47 1755.74 1520.93 Q1753.93 1517.37 1750.3 1517.37 M1750.3 1513.66 Q1756.11 1513.66 1759.17 1518.27 Q1762.25 1522.85 1762.25 1531.6 Q1762.25 1540.33 1759.17 1544.94 Q1756.11 1549.52 1750.3 1549.52 Q1744.49 1549.52 1741.41 1544.94 Q1738.36 1540.33 1738.36 1531.6 Q1738.36 1522.85 1741.41 1518.27 Q1744.49 1513.66 1750.3 1513.66 Z\" fill=\"#000000\" fill-rule=\"nonzero\" fill-opacity=\"1\" /><path clip-path=\"url(#clip420)\" d=\"M1770.46 1542.97 L1775.35 1542.97 L1775.35 1548.85 L1770.46 1548.85 L1770.46 1542.97 Z\" fill=\"#000000\" fill-rule=\"nonzero\" fill-opacity=\"1\" /><path clip-path=\"url(#clip420)\" d=\"M1785.58 1514.29 L1803.93 1514.29 L1803.93 1518.22 L1789.86 1518.22 L1789.86 1526.7 Q1790.88 1526.35 1791.9 1526.19 Q1792.92 1526 1793.93 1526 Q1799.72 1526 1803.1 1529.17 Q1806.48 1532.34 1806.48 1537.76 Q1806.48 1543.34 1803.01 1546.44 Q1799.54 1549.52 1793.22 1549.52 Q1791.04 1549.52 1788.77 1549.15 Q1786.53 1548.78 1784.12 1548.04 L1784.12 1543.34 Q1786.2 1544.47 1788.43 1545.03 Q1790.65 1545.58 1793.12 1545.58 Q1797.13 1545.58 1799.47 1543.48 Q1801.81 1541.37 1801.81 1537.76 Q1801.81 1534.15 1799.47 1532.04 Q1797.13 1529.94 1793.12 1529.94 Q1791.25 1529.94 1789.37 1530.35 Q1787.52 1530.77 1785.58 1531.65 L1785.58 1514.29 Z\" fill=\"#000000\" fill-rule=\"nonzero\" fill-opacity=\"1\" /><path clip-path=\"url(#clip420)\" d=\"M2257.73 1544.91 L2265.37 1544.91 L2265.37 1518.55 L2257.06 1520.21 L2257.06 1515.95 L2265.32 1514.29 L2270 1514.29 L2270 1544.91 L2277.64 1544.91 L2277.64 1548.85 L2257.73 1548.85 L2257.73 1544.91 Z\" fill=\"#000000\" fill-rule=\"nonzero\" fill-opacity=\"1\" /><path clip-path=\"url(#clip420)\" d=\"M2287.08 1542.97 L2291.97 1542.97 L2291.97 1548.85 L2287.08 1548.85 L2287.08 1542.97 Z\" fill=\"#000000\" fill-rule=\"nonzero\" fill-opacity=\"1\" /><path clip-path=\"url(#clip420)\" d=\"M2312.15 1517.37 Q2308.54 1517.37 2306.71 1520.93 Q2304.91 1524.47 2304.91 1531.6 Q2304.91 1538.71 2306.71 1542.27 Q2308.54 1545.82 2312.15 1545.82 Q2315.79 1545.82 2317.59 1542.27 Q2319.42 1538.71 2319.42 1531.6 Q2319.42 1524.47 2317.59 1520.93 Q2315.79 1517.37 2312.15 1517.37 M2312.15 1513.66 Q2317.96 1513.66 2321.02 1518.27 Q2324.1 1522.85 2324.1 1531.6 Q2324.1 1540.33 2321.02 1544.94 Q2317.96 1549.52 2312.15 1549.52 Q2306.34 1549.52 2303.26 1544.94 Q2300.21 1540.33 2300.21 1531.6 Q2300.21 1522.85 2303.26 1518.27 Q2306.34 1513.66 2312.15 1513.66 Z\" fill=\"#000000\" fill-rule=\"nonzero\" fill-opacity=\"1\" /><polyline clip-path=\"url(#clip422)\" style=\"stroke:#000000; stroke-linecap:round; stroke-linejoin:round; stroke-width:2; stroke-opacity:0.1; fill:none\" points=\"155.765,1369.39 2352.76,1369.39 \"/>\n",
       "<polyline clip-path=\"url(#clip422)\" style=\"stroke:#000000; stroke-linecap:round; stroke-linejoin:round; stroke-width:2; stroke-opacity:0.1; fill:none\" points=\"155.765,1080.56 2352.76,1080.56 \"/>\n",
       "<polyline clip-path=\"url(#clip422)\" style=\"stroke:#000000; stroke-linecap:round; stroke-linejoin:round; stroke-width:2; stroke-opacity:0.1; fill:none\" points=\"155.765,791.732 2352.76,791.732 \"/>\n",
       "<polyline clip-path=\"url(#clip422)\" style=\"stroke:#000000; stroke-linecap:round; stroke-linejoin:round; stroke-width:2; stroke-opacity:0.1; fill:none\" points=\"155.765,502.901 2352.76,502.901 \"/>\n",
       "<polyline clip-path=\"url(#clip422)\" style=\"stroke:#000000; stroke-linecap:round; stroke-linejoin:round; stroke-width:2; stroke-opacity:0.1; fill:none\" points=\"155.765,214.07 2352.76,214.07 \"/>\n",
       "<polyline clip-path=\"url(#clip420)\" style=\"stroke:#000000; stroke-linecap:round; stroke-linejoin:round; stroke-width:4; stroke-opacity:1; fill:none\" points=\"155.765,1486.45 155.765,47.2441 \"/>\n",
       "<polyline clip-path=\"url(#clip420)\" style=\"stroke:#000000; stroke-linecap:round; stroke-linejoin:round; stroke-width:4; stroke-opacity:1; fill:none\" points=\"155.765,1369.39 174.663,1369.39 \"/>\n",
       "<polyline clip-path=\"url(#clip420)\" style=\"stroke:#000000; stroke-linecap:round; stroke-linejoin:round; stroke-width:4; stroke-opacity:1; fill:none\" points=\"155.765,1080.56 174.663,1080.56 \"/>\n",
       "<polyline clip-path=\"url(#clip420)\" style=\"stroke:#000000; stroke-linecap:round; stroke-linejoin:round; stroke-width:4; stroke-opacity:1; fill:none\" points=\"155.765,791.732 174.663,791.732 \"/>\n",
       "<polyline clip-path=\"url(#clip420)\" style=\"stroke:#000000; stroke-linecap:round; stroke-linejoin:round; stroke-width:4; stroke-opacity:1; fill:none\" points=\"155.765,502.901 174.663,502.901 \"/>\n",
       "<polyline clip-path=\"url(#clip420)\" style=\"stroke:#000000; stroke-linecap:round; stroke-linejoin:round; stroke-width:4; stroke-opacity:1; fill:none\" points=\"155.765,214.07 174.663,214.07 \"/>\n",
       "<path clip-path=\"url(#clip420)\" d=\"M63.5847 1355.19 Q59.9736 1355.19 58.1449 1358.76 Q56.3393 1362.3 56.3393 1369.43 Q56.3393 1376.54 58.1449 1380.1 Q59.9736 1383.64 63.5847 1383.64 Q67.2189 1383.64 69.0244 1380.1 Q70.8531 1376.54 70.8531 1369.43 Q70.8531 1362.3 69.0244 1358.76 Q67.2189 1355.19 63.5847 1355.19 M63.5847 1351.49 Q69.3948 1351.49 72.4503 1356.1 Q75.529 1360.68 75.529 1369.43 Q75.529 1378.16 72.4503 1382.76 Q69.3948 1387.35 63.5847 1387.35 Q57.7745 1387.35 54.6958 1382.76 Q51.6403 1378.16 51.6403 1369.43 Q51.6403 1360.68 54.6958 1356.1 Q57.7745 1351.49 63.5847 1351.49 Z\" fill=\"#000000\" fill-rule=\"nonzero\" fill-opacity=\"1\" /><path clip-path=\"url(#clip420)\" d=\"M83.7466 1380.79 L88.6308 1380.79 L88.6308 1386.67 L83.7466 1386.67 L83.7466 1380.79 Z\" fill=\"#000000\" fill-rule=\"nonzero\" fill-opacity=\"1\" /><path clip-path=\"url(#clip420)\" d=\"M98.8622 1352.11 L117.219 1352.11 L117.219 1356.05 L103.145 1356.05 L103.145 1364.52 Q104.163 1364.17 105.182 1364.01 Q106.2 1363.83 107.219 1363.83 Q113.006 1363.83 116.385 1367 Q119.765 1370.17 119.765 1375.59 Q119.765 1381.17 116.293 1384.27 Q112.82 1387.35 106.501 1387.35 Q104.325 1387.35 102.057 1386.98 Q99.8113 1386.61 97.4039 1385.86 L97.4039 1381.17 Q99.4872 1382.3 101.709 1382.86 Q103.932 1383.41 106.408 1383.41 Q110.413 1383.41 112.751 1381.3 Q115.089 1379.2 115.089 1375.59 Q115.089 1371.98 112.751 1369.87 Q110.413 1367.76 106.408 1367.76 Q104.534 1367.76 102.659 1368.18 Q100.807 1368.6 98.8622 1369.48 L98.8622 1352.11 Z\" fill=\"#000000\" fill-rule=\"nonzero\" fill-opacity=\"1\" /><path clip-path=\"url(#clip420)\" d=\"M53.3995 1093.91 L61.0384 1093.91 L61.0384 1067.54 L52.7282 1069.21 L52.7282 1064.95 L60.9921 1063.28 L65.668 1063.28 L65.668 1093.91 L73.3068 1093.91 L73.3068 1097.84 L53.3995 1097.84 L53.3995 1093.91 Z\" fill=\"#000000\" fill-rule=\"nonzero\" fill-opacity=\"1\" /><path clip-path=\"url(#clip420)\" d=\"M82.7512 1091.96 L87.6354 1091.96 L87.6354 1097.84 L82.7512 1097.84 L82.7512 1091.96 Z\" fill=\"#000000\" fill-rule=\"nonzero\" fill-opacity=\"1\" /><path clip-path=\"url(#clip420)\" d=\"M107.821 1066.36 Q104.209 1066.36 102.381 1069.93 Q100.575 1073.47 100.575 1080.6 Q100.575 1087.7 102.381 1091.27 Q104.209 1094.81 107.821 1094.81 Q111.455 1094.81 113.26 1091.27 Q115.089 1087.7 115.089 1080.6 Q115.089 1073.47 113.26 1069.93 Q111.455 1066.36 107.821 1066.36 M107.821 1062.66 Q113.631 1062.66 116.686 1067.26 Q119.765 1071.85 119.765 1080.6 Q119.765 1089.32 116.686 1093.93 Q113.631 1098.51 107.821 1098.51 Q102.01 1098.51 98.9317 1093.93 Q95.8761 1089.32 95.8761 1080.6 Q95.8761 1071.85 98.9317 1067.26 Q102.01 1062.66 107.821 1062.66 Z\" fill=\"#000000\" fill-rule=\"nonzero\" fill-opacity=\"1\" /><path clip-path=\"url(#clip420)\" d=\"M54.3949 805.077 L62.0337 805.077 L62.0337 778.711 L53.7236 780.378 L53.7236 776.119 L61.9874 774.452 L66.6633 774.452 L66.6633 805.077 L74.3022 805.077 L74.3022 809.012 L54.3949 809.012 L54.3949 805.077 Z\" fill=\"#000000\" fill-rule=\"nonzero\" fill-opacity=\"1\" /><path clip-path=\"url(#clip420)\" d=\"M83.7466 803.132 L88.6308 803.132 L88.6308 809.012 L83.7466 809.012 L83.7466 803.132 Z\" fill=\"#000000\" fill-rule=\"nonzero\" fill-opacity=\"1\" /><path clip-path=\"url(#clip420)\" d=\"M98.8622 774.452 L117.219 774.452 L117.219 778.387 L103.145 778.387 L103.145 786.859 Q104.163 786.512 105.182 786.35 Q106.2 786.165 107.219 786.165 Q113.006 786.165 116.385 789.336 Q119.765 792.508 119.765 797.924 Q119.765 803.503 116.293 806.605 Q112.82 809.683 106.501 809.683 Q104.325 809.683 102.057 809.313 Q99.8113 808.943 97.4039 808.202 L97.4039 803.503 Q99.4872 804.637 101.709 805.193 Q103.932 805.748 106.408 805.748 Q110.413 805.748 112.751 803.642 Q115.089 801.535 115.089 797.924 Q115.089 794.313 112.751 792.207 Q110.413 790.1 106.408 790.1 Q104.534 790.1 102.659 790.517 Q100.807 790.933 98.8622 791.813 L98.8622 774.452 Z\" fill=\"#000000\" fill-rule=\"nonzero\" fill-opacity=\"1\" /><path clip-path=\"url(#clip420)\" d=\"M56.6171 516.246 L72.9365 516.246 L72.9365 520.181 L50.9921 520.181 L50.9921 516.246 Q53.6541 513.491 58.2375 508.861 Q62.8439 504.209 64.0245 502.866 Q66.2698 500.343 67.1494 498.607 Q68.0522 496.848 68.0522 495.158 Q68.0522 492.403 66.1078 490.667 Q64.1865 488.931 61.0847 488.931 Q58.8856 488.931 56.4319 489.695 Q54.0014 490.459 51.2236 492.01 L51.2236 487.287 Q54.0477 486.153 56.5014 485.574 Q58.955 484.996 60.9921 484.996 Q66.3624 484.996 69.5568 487.681 Q72.7513 490.366 72.7513 494.857 Q72.7513 496.986 71.9411 498.908 Q71.1541 500.806 69.0476 503.398 Q68.4689 504.07 65.367 507.287 Q62.2652 510.482 56.6171 516.246 Z\" fill=\"#000000\" fill-rule=\"nonzero\" fill-opacity=\"1\" /><path clip-path=\"url(#clip420)\" d=\"M82.7512 514.301 L87.6354 514.301 L87.6354 520.181 L82.7512 520.181 L82.7512 514.301 Z\" fill=\"#000000\" fill-rule=\"nonzero\" fill-opacity=\"1\" /><path clip-path=\"url(#clip420)\" d=\"M107.821 488.699 Q104.209 488.699 102.381 492.264 Q100.575 495.806 100.575 502.936 Q100.575 510.042 102.381 513.607 Q104.209 517.148 107.821 517.148 Q111.455 517.148 113.26 513.607 Q115.089 510.042 115.089 502.936 Q115.089 495.806 113.26 492.264 Q111.455 488.699 107.821 488.699 M107.821 484.996 Q113.631 484.996 116.686 489.602 Q119.765 494.186 119.765 502.936 Q119.765 511.662 116.686 516.269 Q113.631 520.852 107.821 520.852 Q102.01 520.852 98.9317 516.269 Q95.8761 511.662 95.8761 502.936 Q95.8761 494.186 98.9317 489.602 Q102.01 484.996 107.821 484.996 Z\" fill=\"#000000\" fill-rule=\"nonzero\" fill-opacity=\"1\" /><path clip-path=\"url(#clip420)\" d=\"M57.6125 227.414 L73.9318 227.414 L73.9318 231.35 L51.9875 231.35 L51.9875 227.414 Q54.6495 224.66 59.2328 220.03 Q63.8393 215.377 65.0198 214.035 Q67.2652 211.512 68.1448 209.776 Q69.0476 208.016 69.0476 206.326 Q69.0476 203.572 67.1032 201.836 Q65.1819 200.1 62.08 200.1 Q59.881 200.1 57.4273 200.864 Q54.9967 201.627 52.219 203.178 L52.219 198.456 Q55.043 197.322 57.4967 196.743 Q59.9504 196.165 61.9874 196.165 Q67.3578 196.165 70.5522 198.85 Q73.7466 201.535 73.7466 206.026 Q73.7466 208.155 72.9365 210.076 Q72.1494 211.975 70.0429 214.567 Q69.4642 215.238 66.3624 218.456 Q63.2606 221.65 57.6125 227.414 Z\" fill=\"#000000\" fill-rule=\"nonzero\" fill-opacity=\"1\" /><path clip-path=\"url(#clip420)\" d=\"M83.7466 225.47 L88.6308 225.47 L88.6308 231.35 L83.7466 231.35 L83.7466 225.47 Z\" fill=\"#000000\" fill-rule=\"nonzero\" fill-opacity=\"1\" /><path clip-path=\"url(#clip420)\" d=\"M98.8622 196.79 L117.219 196.79 L117.219 200.725 L103.145 200.725 L103.145 209.197 Q104.163 208.85 105.182 208.688 Q106.2 208.502 107.219 208.502 Q113.006 208.502 116.385 211.674 Q119.765 214.845 119.765 220.262 Q119.765 225.84 116.293 228.942 Q112.82 232.021 106.501 232.021 Q104.325 232.021 102.057 231.65 Q99.8113 231.28 97.4039 230.539 L97.4039 225.84 Q99.4872 226.975 101.709 227.53 Q103.932 228.086 106.408 228.086 Q110.413 228.086 112.751 225.979 Q115.089 223.873 115.089 220.262 Q115.089 216.651 112.751 214.544 Q110.413 212.438 106.408 212.438 Q104.534 212.438 102.659 212.854 Q100.807 213.271 98.8622 214.151 L98.8622 196.79 Z\" fill=\"#000000\" fill-rule=\"nonzero\" fill-opacity=\"1\" /><polyline clip-path=\"url(#clip422)\" style=\"stroke:#009af9; stroke-linecap:round; stroke-linejoin:round; stroke-width:4; stroke-opacity:1; fill:none\" points=\"217.944,1445.72 238.88,1441.38 259.815,1436.95 280.751,1432.44 301.687,1427.83 322.622,1423.13 343.558,1418.33 364.494,1413.44 385.429,1408.44 406.365,1403.34 427.301,1398.14 448.236,1392.83 469.172,1387.42 490.108,1381.89 511.044,1376.25 531.979,1370.5 552.915,1364.62 573.851,1358.63 594.786,1352.52 615.722,1346.28 636.658,1339.91 657.593,1333.42 678.529,1326.79 699.465,1320.03 720.4,1313.12 741.336,1306.08 762.272,1298.9 783.207,1291.56 804.143,1284.08 825.079,1276.44 846.015,1268.65 866.95,1260.7 887.886,1252.59 908.822,1244.31 929.757,1235.87 950.693,1227.25 971.629,1218.45 992.564,1209.48 1013.5,1200.32 1034.44,1190.97 1055.37,1181.44 1076.31,1171.71 1097.24,1161.78 1118.18,1151.65 1139.11,1141.31 1160.05,1130.76 1180.99,1120 1201.92,1109.01 1222.86,1097.81 1243.79,1086.37 1264.73,1074.7 1285.66,1062.79 1306.6,1050.64 1327.54,1038.24 1348.47,1025.59 1369.41,1012.68 1390.34,999.503 1411.28,986.06 1432.21,972.343 1453.15,958.346 1474.09,944.063 1495.02,929.489 1515.96,914.617 1536.89,899.442 1557.83,883.957 1578.76,868.156 1599.7,852.033 1620.63,835.58 1641.57,818.792 1662.51,801.662 1683.44,784.181 1704.38,766.344 1725.31,748.143 1746.25,729.571 1767.18,710.619 1788.12,691.281 1809.06,671.548 1829.99,651.413 1850.93,630.866 1871.86,609.9 1892.8,588.507 1913.73,566.676 1934.67,544.401 1955.61,521.67 1976.54,498.476 1997.48,474.809 2018.41,450.658 2039.35,426.015 2060.28,400.868 2081.22,375.209 2102.16,349.026 2123.09,322.308 2144.03,295.046 2164.96,267.226 2185.9,238.84 2206.83,209.874 2227.77,180.316 2248.71,150.156 2269.64,119.38 2290.58,87.9763 \"/>\n",
       "<polyline clip-path=\"url(#clip422)\" style=\"stroke:#e26f46; stroke-linecap:round; stroke-linejoin:round; stroke-width:4; stroke-opacity:1; fill:none\" points=\"217.944,1436.85 238.88,1438.23 259.815,1439.62 280.751,1441.01 301.687,1436.2 322.622,1429.88 343.558,1423.56 364.494,1417.24 385.429,1410.92 406.365,1404.6 427.301,1398.28 448.236,1391.97 469.172,1385.65 490.108,1379.33 511.044,1373.01 531.979,1366.69 552.915,1360.37 573.851,1354.05 594.786,1347.73 615.722,1341.41 636.658,1335.09 657.593,1328.77 678.529,1322.45 699.465,1316.13 720.4,1309.81 741.336,1303.49 762.272,1297.17 783.207,1290.85 804.143,1284.53 825.079,1278.21 846.015,1271.89 866.95,1265.57 887.886,1259.25 908.822,1252.93 929.757,1245.8 950.693,1234.86 971.629,1223.91 992.564,1212.97 1013.5,1202.03 1034.44,1191.08 1055.37,1180.14 1076.31,1169.2 1097.24,1158.25 1118.18,1147.31 1139.11,1136.37 1160.05,1125.42 1180.99,1114.48 1201.92,1103.54 1222.86,1092.59 1243.79,1081.65 1264.73,1070.71 1285.66,1059.77 1306.6,1048.82 1327.54,1037.88 1348.47,1026.94 1369.41,1015.99 1390.34,1005.05 1411.28,994.107 1432.21,983.164 1453.15,969.166 1474.09,951.751 1495.02,934.337 1515.96,916.922 1536.89,899.507 1557.83,882.093 1578.76,864.678 1599.7,847.263 1620.63,829.849 1641.57,812.434 1662.51,795.02 1683.44,777.605 1704.38,760.19 1725.31,742.776 1746.25,725.361 1767.18,707.946 1788.12,690.532 1809.06,673.117 1829.99,655.703 1850.93,638.288 1871.86,620.873 1892.8,603.459 1913.73,582.597 1934.67,555.876 1955.61,529.155 1976.54,502.434 1997.48,475.713 2018.41,448.991 2039.35,422.27 2060.28,395.549 2081.22,368.828 2102.16,342.107 2123.09,315.386 2144.03,288.664 2164.96,261.943 2185.9,235.222 2206.83,208.501 2227.77,181.78 2248.71,155.059 2269.64,128.337 2290.58,101.616 \"/>\n",
       "<path clip-path=\"url(#clip420)\" d=\"M228.998 250.738 L501.127 250.738 L501.127 95.2176 L228.998 95.2176  Z\" fill=\"#ffffff\" fill-rule=\"evenodd\" fill-opacity=\"1\"/>\n",
       "<polyline clip-path=\"url(#clip420)\" style=\"stroke:#000000; stroke-linecap:round; stroke-linejoin:round; stroke-width:4; stroke-opacity:1; fill:none\" points=\"228.998,250.738 501.127,250.738 501.127,95.2176 228.998,95.2176 228.998,250.738 \"/>\n",
       "<polyline clip-path=\"url(#clip420)\" style=\"stroke:#009af9; stroke-linecap:round; stroke-linejoin:round; stroke-width:4; stroke-opacity:1; fill:none\" points=\"253.409,147.058 399.875,147.058 \"/>\n",
       "<path clip-path=\"url(#clip420)\" d=\"M438.129 166.745 Q436.323 171.375 434.61 172.787 Q432.897 174.199 430.027 174.199 L426.624 174.199 L426.624 170.634 L429.124 170.634 Q430.883 170.634 431.855 169.8 Q432.828 168.967 434.008 165.865 L434.772 163.921 L424.286 138.412 L428.8 138.412 L436.902 158.689 L445.004 138.412 L449.517 138.412 L438.129 166.745 Z\" fill=\"#000000\" fill-rule=\"nonzero\" fill-opacity=\"1\" /><path clip-path=\"url(#clip420)\" d=\"M456.809 160.402 L464.448 160.402 L464.448 134.037 L456.138 135.703 L456.138 131.444 L464.402 129.778 L469.077 129.778 L469.077 160.402 L476.716 160.402 L476.716 164.338 L456.809 164.338 L456.809 160.402 Z\" fill=\"#000000\" fill-rule=\"nonzero\" fill-opacity=\"1\" /><polyline clip-path=\"url(#clip420)\" style=\"stroke:#e26f46; stroke-linecap:round; stroke-linejoin:round; stroke-width:4; stroke-opacity:1; fill:none\" points=\"253.409,198.898 399.875,198.898 \"/>\n",
       "<path clip-path=\"url(#clip420)\" d=\"M438.129 218.585 Q436.323 223.215 434.61 224.627 Q432.897 226.039 430.027 226.039 L426.624 226.039 L426.624 222.474 L429.124 222.474 Q430.883 222.474 431.855 221.64 Q432.828 220.807 434.008 217.705 L434.772 215.761 L424.286 190.252 L428.8 190.252 L436.902 210.529 L445.004 190.252 L449.517 190.252 L438.129 218.585 Z\" fill=\"#000000\" fill-rule=\"nonzero\" fill-opacity=\"1\" /><path clip-path=\"url(#clip420)\" d=\"M460.027 212.242 L476.346 212.242 L476.346 216.178 L454.402 216.178 L454.402 212.242 Q457.064 209.488 461.647 204.858 Q466.253 200.205 467.434 198.863 Q469.679 196.34 470.559 194.604 Q471.462 192.844 471.462 191.155 Q471.462 188.4 469.517 186.664 Q467.596 184.928 464.494 184.928 Q462.295 184.928 459.841 185.692 Q457.411 186.455 454.633 188.006 L454.633 183.284 Q457.457 182.15 459.911 181.571 Q462.365 180.993 464.402 180.993 Q469.772 180.993 472.966 183.678 Q476.161 186.363 476.161 190.854 Q476.161 192.983 475.351 194.905 Q474.564 196.803 472.457 199.395 Q471.878 200.067 468.777 203.284 Q465.675 206.479 460.027 212.242 Z\" fill=\"#000000\" fill-rule=\"nonzero\" fill-opacity=\"1\" /></svg>\n"
      ]
     },
     "metadata": {},
     "output_type": "display_data"
    }
   ],
   "source": [
    "# TODO: Construct a model for the function and perform regression using Optimization.jl\n",
    "# SOLUTION\n",
    "\n",
    "\n",
    "\n",
    "n = 100\n",
    "x = range(-1, 1; length = n)\n",
    "y = exp.(x)\n",
    "\n",
    "relu(x) = max(0,x)\n",
    "\n",
    "# Make a function that implements the sum\n",
    "function summation_model(x, 𝐚𝐛)\n",
    "    n = length(𝐚𝐛) ÷ 2\n",
    "    (𝐚, 𝐛) = 𝐚𝐛[1:n], 𝐚𝐛[n+1:end]\n",
    "    Y = relu.(𝐚*x' .+ 𝐛)\n",
    "    vec(sum(Y; dims=1)) # sums over the columns\n",
    "end\n",
    "\n",
    "\n",
    "# Our loss function takes in x and y as parameters\n",
    "convex_regression_loss(𝐚𝐛, (x,y)) = norm(summation_model(x, 𝐚𝐛) - y)\n",
    "\n",
    "\n",
    "𝐚,𝐛 = randn(n),randn(n)\n",
    "prob = OptimizationProblem(OptimizationFunction(convex_regression_loss, Optimization.AutoZygote()), [𝐚;𝐛], (x,y))\n",
    "@time ret = solve(prob, Adam(0.03), maxiters=1000)\n",
    "\n",
    "\n",
    "using Plots\n",
    "plot(x, y)\n",
    "plot!(x, summation_model(x, ret.u))\n",
    "\n",
    "# END"
   ]
  },
  {
   "cell_type": "markdown",
   "metadata": {},
   "source": [
    "---\n",
    "\n",
    "*This notebook was generated using [Literate.jl](https://github.com/fredrikekre/Literate.jl).*"
   ]
  }
 ],
 "metadata": {
  "kernelspec": {
   "display_name": "Julia 1.10.2",
   "language": "julia",
   "name": "julia-1.10"
  },
  "language_info": {
   "file_extension": ".jl",
   "mimetype": "application/julia",
   "name": "julia",
   "version": "1.10.2"
  }
 },
 "nbformat": 4,
 "nbformat_minor": 3
}
