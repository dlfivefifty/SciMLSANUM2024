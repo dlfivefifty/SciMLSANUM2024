{
 "cells": [
  {
   "cell_type": "markdown",
   "metadata": {},
   "source": [
    "# SciML SANUM2024\n",
    "# Lab 1: Introduction to Julia"
   ]
  },
  {
   "cell_type": "markdown",
   "metadata": {},
   "source": [
    "This first lab introduces the basics of Julia and some of its unique features in terms of creating custom types.\n",
    "This will become valuable in implementing automatic-differentiation for generic code, a feature that\n",
    "is particularly useful for SciML as it allows combining neural networks with general time-steppers."
   ]
  },
  {
   "cell_type": "markdown",
   "metadata": {},
   "source": [
    "**Learning Outcomes**\n",
    "\n",
    "1. Creating functions, both named and anonymous.\n",
    "2. The notion of a type and how to make your own type.\n",
    "3. Defining functions whose arguments are restricted to specific types.\n",
    "4. Overloading functions like `+`, `*`, and `exp` for a custom type.\n",
    "5. Construction of a dense `Vector` or `Matrix` either directly or via comprehensions or broadcasting."
   ]
  },
  {
   "cell_type": "markdown",
   "metadata": {},
   "source": [
    "## 1.1 Functions in Julia"
   ]
  },
  {
   "cell_type": "markdown",
   "metadata": {},
   "source": [
    "Functions are created in a number of ways.\n",
    "The most standard way is using the keyword `function`,\n",
    "followed by a name for the function,\n",
    "and in parentheses a list of arguments.\n",
    "Let's make a function that takes in a\n",
    "single number $x$ and returns $x^2$."
   ]
  },
  {
   "cell_type": "code",
   "execution_count": 1,
   "metadata": {},
   "outputs": [
    {
     "data": {
      "text/plain": [
       "(4, 9)"
      ]
     },
     "metadata": {},
     "output_type": "display_data"
    }
   ],
   "source": [
    "function sq(x)\n",
    "   x^2\n",
    "end\n",
    "sq(2), sq(3)"
   ]
  },
  {
   "cell_type": "markdown",
   "metadata": {},
   "source": [
    "There is also a convenient syntax for defining functions on\n",
    "one line, e.g., we can also write"
   ]
  },
  {
   "cell_type": "code",
   "execution_count": 2,
   "metadata": {},
   "outputs": [
    {
     "data": {
      "text/plain": [
       "sq (generic function with 1 method)"
      ]
     },
     "metadata": {},
     "output_type": "display_data"
    }
   ],
   "source": [
    "sq(x) = x^2"
   ]
  },
  {
   "cell_type": "markdown",
   "metadata": {},
   "source": [
    "Julia is a compiled language: the first time we run a command on a specific type it compiles for that type.\n",
    "The second time it is called on a type it reuses the precompiled function:"
   ]
  },
  {
   "cell_type": "code",
   "execution_count": 3,
   "metadata": {},
   "outputs": [
    {
     "name": "stdout",
     "output_type": "stream",
     "text": [
      "  0.000000 seconds\n",
      "  0.000001 seconds\n",
      "  0.000001 seconds\n"
     ]
    },
    {
     "data": {
      "text/plain": [
       "31.359999999999996"
      ]
     },
     "metadata": {},
     "output_type": "display_data"
    }
   ],
   "source": [
    "@time sq(5) # Already compiled for Int so very fast\n",
    "@time sq(1.3) # Needs to recompile for Float64 (the typeof of `1.3`) so takes extra time to compile\n",
    "@time sq(5.6) # It reuses the compiled code from the previous call"
   ]
  },
  {
   "cell_type": "markdown",
   "metadata": {},
   "source": [
    "Multiple arguments to the function can be included with `,`.\n",
    "Here's a function that takes in 3 arguments and returns the average.\n",
    "(We write it on 3 lines only to show that functions can take multiple lines.)"
   ]
  },
  {
   "cell_type": "code",
   "execution_count": 4,
   "metadata": {},
   "outputs": [
    {
     "data": {
      "text/plain": [
       "2.0"
      ]
     },
     "metadata": {},
     "output_type": "display_data"
    }
   ],
   "source": [
    "function av(x, y, z)\n",
    "    ret = x + y\n",
    "    ret = ret + z\n",
    "    ret/3\n",
    "end\n",
    "av(1, 2, 3)"
   ]
  },
  {
   "cell_type": "markdown",
   "metadata": {},
   "source": [
    "Variables live in different scopes.  In the previous example, `x`, `y`, `z` and `ret` are _local variables_:\n",
    "they only exist inside of `av`.\n",
    "So this means `x` and `z` are _not_ the same as our complex number `x` and `z` defined above."
   ]
  },
  {
   "cell_type": "markdown",
   "metadata": {},
   "source": [
    "**Warning**: if you reference variables not defined inside the function, they will use the outer scope definition.\n",
    "The following example shows that if we mistype the first argument as `xx`,\n",
    "then it takes on the outer scope definition `x`, which is a complex number:"
   ]
  },
  {
   "cell_type": "code",
   "execution_count": 5,
   "metadata": {},
   "outputs": [
    {
     "data": {
      "text/plain": [
       "av2 (generic function with 1 method)"
      ]
     },
     "metadata": {},
     "output_type": "display_data"
    }
   ],
   "source": [
    "function av2(xx, y, z)\n",
    "    (x + y + z)/3\n",
    "end"
   ]
  },
  {
   "cell_type": "markdown",
   "metadata": {},
   "source": [
    "You should almost never use this feature!!\n",
    "We should ideally be able to predict the output of a function from knowing just the inputs."
   ]
  },
  {
   "cell_type": "markdown",
   "metadata": {},
   "source": [
    "**Example**\n",
    "Let's create a function that calculates the average of the entries of a vector."
   ]
  },
  {
   "cell_type": "code",
   "execution_count": 6,
   "metadata": {},
   "outputs": [
    {
     "data": {
      "text/plain": [
       "3.5"
      ]
     },
     "metadata": {},
     "output_type": "display_data"
    }
   ],
   "source": [
    "function vecaverage(v)\n",
    "    ret = 0\n",
    "    for k = 1:length(v)\n",
    "        ret = ret + v[k]\n",
    "    end\n",
    "    ret/length(v)\n",
    "end\n",
    "vecaverage([1,5,2,3,8,2])"
   ]
  },
  {
   "cell_type": "markdown",
   "metadata": {},
   "source": [
    "Julia has an inbuilt `sum` command that we can use to check our code:"
   ]
  },
  {
   "cell_type": "code",
   "execution_count": 7,
   "metadata": {},
   "outputs": [
    {
     "data": {
      "text/plain": [
       "3.5"
      ]
     },
     "metadata": {},
     "output_type": "display_data"
    }
   ],
   "source": [
    "sum([1,5,2,3,8,2])/6"
   ]
  },
  {
   "cell_type": "markdown",
   "metadata": {},
   "source": [
    "### Anonymous (lambda) functions"
   ]
  },
  {
   "cell_type": "markdown",
   "metadata": {},
   "source": [
    "Just like Python it is possible to make anonymous functions,\n",
    "with two variants on syntax:"
   ]
  },
  {
   "cell_type": "code",
   "execution_count": 8,
   "metadata": {},
   "outputs": [
    {
     "data": {
      "text/plain": [
       "#11 (generic function with 1 method)"
      ]
     },
     "metadata": {},
     "output_type": "display_data"
    }
   ],
   "source": [
    "f = x -> x^2\n",
    "g = function(x)\n",
    "    x^2\n",
    "end"
   ]
  },
  {
   "cell_type": "markdown",
   "metadata": {},
   "source": [
    "There is not much difference between named and anonymous functions,\n",
    "both are compiled in the same manner. The only difference is\n",
    "named functions are in a sense \"permanent\". One can essentially think of\n",
    "named functions as \"global constant anonymous functions\"."
   ]
  },
  {
   "cell_type": "markdown",
   "metadata": {},
   "source": [
    "## 1.2 Types in Julia"
   ]
  },
  {
   "cell_type": "markdown",
   "metadata": {},
   "source": [
    "Before we can use a concept like dual numbers we have to understand the notion of a \"type\".\n",
    "In compiled languages like Julia everything has a \"type\". The function `typeof` can be used to determine the type of,\n",
    "for example, a number.\n",
    "By default when we write an integer (e.g. `-123`) it is of type `Int`:"
   ]
  },
  {
   "cell_type": "code",
   "execution_count": 9,
   "metadata": {},
   "outputs": [
    {
     "data": {
      "text/plain": [
       "Int64"
      ]
     },
     "metadata": {},
     "output_type": "display_data"
    }
   ],
   "source": [
    "typeof(5)"
   ]
  },
  {
   "cell_type": "markdown",
   "metadata": {},
   "source": [
    "On a 64-bit machine this will print `Int64`, where the `64` indicates it is using precisely 64 bits\n",
    "to represent the number (a topic we will come back to in Part II). If we write something with\n",
    "a decimal point it represents a \"real\" number, whose storage is of type `Float64`:"
   ]
  },
  {
   "cell_type": "code",
   "execution_count": 10,
   "metadata": {},
   "outputs": [
    {
     "data": {
      "text/plain": [
       "Float64"
      ]
     },
     "metadata": {},
     "output_type": "display_data"
    }
   ],
   "source": [
    "typeof(5.3)"
   ]
  },
  {
   "cell_type": "markdown",
   "metadata": {},
   "source": [
    "This is called a \"floating point\" number, and again the `64` indicates it is using precisely\n",
    "64 bits to represent this number. (We will see this is why computations like divided differences\n",
    "have large errors: because we are limiting the number of \"digits\" to represent numbers we need to\n",
    "round our computations.) Note that some operations involving `Int`s return `Float64`s:"
   ]
  },
  {
   "cell_type": "code",
   "execution_count": 11,
   "metadata": {},
   "outputs": [
    {
     "data": {
      "text/plain": [
       "0.2"
      ]
     },
     "metadata": {},
     "output_type": "display_data"
    }
   ],
   "source": [
    "1/5 # 1 and 5 are Int but output is a Float64"
   ]
  },
  {
   "cell_type": "markdown",
   "metadata": {},
   "source": [
    "It is possible to have functions behave differently depending on the input type.\n",
    "To do so we can add a restriction denoted `::Int` or `::Float64` to the function \"signature\".\n",
    "Here we create a function `foo` that is equal to `1` if the input is an `Int`, `0` if the input is\n",
    "a `Float64`, and `-1` otherwise:"
   ]
  },
  {
   "cell_type": "code",
   "execution_count": 12,
   "metadata": {},
   "outputs": [
    {
     "data": {
      "text/plain": [
       "foo (generic function with 3 methods)"
      ]
     },
     "metadata": {},
     "output_type": "display_data"
    }
   ],
   "source": [
    "foo(x::Int) = 1 # The ::Int means this version is called when the input is an Int\n",
    "foo(x::Float64) = 0\n",
    "foo(x) = -1 # This is equivalent to f(x::Any) = -1"
   ]
  },
  {
   "cell_type": "markdown",
   "metadata": {},
   "source": [
    "Anything that is not an Int or Float64 will call this"
   ]
  },
  {
   "cell_type": "code",
   "execution_count": 13,
   "metadata": {},
   "outputs": [
    {
     "data": {
      "text/plain": [
       "(1, 0, -1, 0)"
      ]
     },
     "metadata": {},
     "output_type": "display_data"
    }
   ],
   "source": [
    "foo(3), foo(2.5), foo(\"hi\"), foo(3.0)"
   ]
  },
  {
   "cell_type": "markdown",
   "metadata": {},
   "source": [
    "The last line returns a list of `Int`s, which has the type `Tuple`.\n",
    "Note that there is a difference between an \"integer\" and the type `Int`: whilst 3.0 is an integer\n",
    "its type is `Float64` so `foo(3.0) == 0`."
   ]
  },
  {
   "cell_type": "markdown",
   "metadata": {},
   "source": [
    "**Remark** Every type has a \"supertype\", which is an \"abstract type\": something you can't make an instance of it.\n",
    "For example, in the same way that \"integers\"\n",
    "are subsets of the \"reals\" we have that `Int` and `Float64` are subtypes of\n",
    "`Real`. Which is a subtype of `Number`. Which, as is everything, a subtype of `Any`."
   ]
  },
  {
   "cell_type": "markdown",
   "metadata": {},
   "source": [
    "Types allow for combining multiple numbers (or instances of other types) to represent a more complicated\n",
    "object. A simple example of this is a complex number,\n",
    "which stores two real numbers $x$ and $y$ (either `Int` or `Float64` or indeed other real number types not yet discussed)\n",
    "to represent the complex number $x + {\\rm i} y$. In Julia ${\\rm i} = \\sqrt{-1}$ is denoted `im` and\n",
    "hence we can create a complex number like $1+2{\\rm i}$ as follows:"
   ]
  },
  {
   "cell_type": "code",
   "execution_count": 14,
   "metadata": {},
   "outputs": [
    {
     "data": {
      "text/plain": [
       "1 + 2im"
      ]
     },
     "metadata": {},
     "output_type": "display_data"
    }
   ],
   "source": [
    "z = 1 + 2im"
   ]
  },
  {
   "cell_type": "markdown",
   "metadata": {},
   "source": [
    "This complex number has two \"fields\": the real and imaginary part. Accessing the fields is done\n",
    "using a `.`, here we display the real and imaginary parts as a `Tuple`:"
   ]
  },
  {
   "cell_type": "code",
   "execution_count": 15,
   "metadata": {},
   "outputs": [
    {
     "data": {
      "text/plain": [
       "(1, 2)"
      ]
     },
     "metadata": {},
     "output_type": "display_data"
    }
   ],
   "source": [
    "z.re, z.im"
   ]
  },
  {
   "cell_type": "markdown",
   "metadata": {},
   "source": [
    "When we ask  its type we see it is a `Complex{Int}`:"
   ]
  },
  {
   "cell_type": "code",
   "execution_count": 16,
   "metadata": {},
   "outputs": [
    {
     "data": {
      "text/plain": [
       "Complex{Int64}"
      ]
     },
     "metadata": {},
     "output_type": "display_data"
    }
   ],
   "source": [
    "typeof(z)"
   ]
  },
  {
   "cell_type": "markdown",
   "metadata": {},
   "source": [
    "The `{Int}` indicates that each of the fields is an `Int`.\n",
    "Note we can add, subtract, multiply, or apply functions like `exp` to complex numbers:"
   ]
  },
  {
   "cell_type": "code",
   "execution_count": 17,
   "metadata": {},
   "outputs": [
    {
     "data": {
      "text/plain": [
       "1.0970208521148807e-5 - 0.002478727901132598im"
      ]
     },
     "metadata": {},
     "output_type": "display_data"
    }
   ],
   "source": [
    "exp(2z^2 + 3im)"
   ]
  },
  {
   "cell_type": "markdown",
   "metadata": {},
   "source": [
    "-----\n",
    "**Problem 1(a)** Use `typeof` to determine the type of `1.2 + 2.3im`."
   ]
  },
  {
   "cell_type": "code",
   "execution_count": 18,
   "metadata": {},
   "outputs": [],
   "source": [
    "# TODO: What is the type of `1.2 + 2.3im`?"
   ]
  },
  {
   "cell_type": "markdown",
   "metadata": {},
   "source": [
    "**Problem 1(b)** Add another implementation of `foo` that returns `im` if the input\n",
    "is a `ComplexF64`."
   ]
  },
  {
   "cell_type": "code",
   "execution_count": 19,
   "metadata": {},
   "outputs": [
    {
     "ename": "LoadError",
     "evalue": "LoadError: UndefVarError: `@test` not defined\nin expression starting at /Users/solver/Projects/SciMLSANUM2024/labs/lab1.ipynb:4",
     "output_type": "error",
     "traceback": [
      "LoadError: UndefVarError: `@test` not defined\n",
      "in expression starting at /Users/solver/Projects/SciMLSANUM2024/labs/lab1.ipynb:4\n"
     ]
    }
   ],
   "source": [
    "# TODO: Overload foo for when the input is a ComplexF64 and return im\n",
    "\n",
    "\n",
    "@test foo(1.1 + 2im) == im"
   ]
  },
  {
   "cell_type": "markdown",
   "metadata": {},
   "source": [
    "------"
   ]
  },
  {
   "cell_type": "markdown",
   "metadata": {},
   "source": [
    "**Problem 2(a)** Consider the Taylor series approximation to the exponential:\n",
    "$$\n",
    "\\exp z ≈ ∑_{k=0}^n {z^k \\over k!}\n",
    "$$\n",
    "Complete the function `exp_t(z, n)` that computes this and returns a\n",
    "`Complex{Float64}` if the input is complex and a `Float64` if the input is real.\n",
    "Do not use the inbuilt `factorial` function.\n",
    "Hint: It might help to think inductively: for $s_k = z^k/k!$ we have\n",
    "$$\n",
    "  s_{k+1}  = {z \\over k+1} s_k.\n",
    "$$"
   ]
  },
  {
   "cell_type": "code",
   "execution_count": 20,
   "metadata": {},
   "outputs": [
    {
     "ename": "LoadError",
     "evalue": "LoadError: UndefVarError: `@test` not defined\nin expression starting at /Users/solver/Projects/SciMLSANUM2024/labs/lab1.ipynb:7",
     "output_type": "error",
     "traceback": [
      "LoadError: UndefVarError: `@test` not defined\n",
      "in expression starting at /Users/solver/Projects/SciMLSANUM2024/labs/lab1.ipynb:7\n"
     ]
    }
   ],
   "source": [
    "function exp_t(z, n)\n",
    "    # TODO: Compute the first (n+1)-terms of the Taylor series of exp\n",
    "    # evaluated at z\n",
    "\n",
    "end\n",
    "\n",
    "@test exp_t(1.0, 10) isa Float64 # isa is used to test the type of a result\n",
    "@test exp_t(im, 10) isa ComplexF64 # isa is used to test the type of a result\n",
    "\n",
    "@test exp_t(1.0, 100) ≈ exp(1)"
   ]
  },
  {
   "cell_type": "markdown",
   "metadata": {},
   "source": [
    "### Making our own Types"
   ]
  },
  {
   "cell_type": "markdown",
   "metadata": {},
   "source": [
    "One of the powerful parts of Julia is that it's very easy to make our own types. Lets begin with a simple\n",
    "implementation of a rational function $p/q$ where $p$ and $q$ are `Int`s.  Thus we want to create a new\n",
    "type called `Rat` with two fields `p` and `q` to represent the numerator and denominator, respectively.\n",
    "(For simplicity  we won't worry about restricting $p$ and $q$ to be `Int`.)\n",
    "We can construct such a type using the `struct` keyword:"
   ]
  },
  {
   "cell_type": "code",
   "execution_count": 21,
   "metadata": {},
   "outputs": [],
   "source": [
    "struct Rat\n",
    "    p\n",
    "    q\n",
    "end"
   ]
  },
  {
   "cell_type": "markdown",
   "metadata": {},
   "source": [
    "A new instance of `Rat` is created via e.g. `Rat(1, 2)` represents 1/2\n",
    "where the first argument specifies `p` and the second argument `q`.\n",
    "The fields are accessed by `.`:"
   ]
  },
  {
   "cell_type": "code",
   "execution_count": 22,
   "metadata": {},
   "outputs": [
    {
     "ename": "LoadError",
     "evalue": "LoadError: UndefVarError: `@test` not defined\nin expression starting at /Users/solver/Projects/SciMLSANUM2024/labs/lab1.ipynb:2",
     "output_type": "error",
     "traceback": [
      "LoadError: UndefVarError: `@test` not defined\n",
      "in expression starting at /Users/solver/Projects/SciMLSANUM2024/labs/lab1.ipynb:2\n"
     ]
    }
   ],
   "source": [
    "x = Rat(1, 2) # Rat(1, 2) creates an instance with fields equal to the input\n",
    "@test x.p == 1\n",
    "@test x.q == 2"
   ]
  },
  {
   "cell_type": "markdown",
   "metadata": {},
   "source": [
    "Unfortunately we can't actually do anything with this type, yet:"
   ]
  },
  {
   "cell_type": "code",
   "execution_count": 23,
   "metadata": {},
   "outputs": [
    {
     "ename": "MethodError",
     "evalue": "MethodError: no method matching +(::Rat, ::Rat)\n\nClosest candidates are:\n  +(::Any, ::Any, !Matched::Any, !Matched::Any...)\n   @ Base operators.jl:587\n",
     "output_type": "error",
     "traceback": [
      "MethodError: no method matching +(::Rat, ::Rat)\n",
      "\n",
      "Closest candidates are:\n",
      "  +(::Any, ::Any, !Matched::Any, !Matched::Any...)\n",
      "   @ Base operators.jl:587\n",
      "\n",
      "\n",
      "Stacktrace:\n",
      " [1] top-level scope\n",
      "   @ ~/Projects/SciMLSANUM2024/labs/lab1.ipynb:1"
     ]
    }
   ],
   "source": [
    "x + x"
   ]
  },
  {
   "cell_type": "markdown",
   "metadata": {},
   "source": [
    "The error is telling us to overload the `+` function when the inputs are both `Rat`.\n",
    "To do this we need to \"import\" the `+` function and then we can overload it like any\n",
    "other function:"
   ]
  },
  {
   "cell_type": "code",
   "execution_count": 24,
   "metadata": {},
   "outputs": [
    {
     "data": {
      "text/plain": [
       "Rat(10, 8)"
      ]
     },
     "metadata": {},
     "output_type": "display_data"
    }
   ],
   "source": [
    "import Base: + # allows us to overload +\n",
    "\n",
    "# Here putting ::Rat after both x and y means this version of +\n",
    "# is only called if both arguments are Rat\n",
    "function +(x::Rat, y::Rat)\n",
    "    p,q = x.p,x.q # x represents p/q\n",
    "    r,s = y.p,y.q # y represents r/s\n",
    "    Rat(p * s + r * q, q * s)\n",
    "end\n",
    "\n",
    "Rat(1,2) + Rat(3,4) # 1/2 + 3/4 == 10/8 (== 5/4) which is represented\n",
    "                    # as Rat(10, 8)"
   ]
  },
  {
   "cell_type": "markdown",
   "metadata": {},
   "source": [
    "We can support mixing `Rat` and `Int` by adding additional functionality:"
   ]
  },
  {
   "cell_type": "code",
   "execution_count": 25,
   "metadata": {},
   "outputs": [
    {
     "data": {
      "text/plain": [
       "Rat(3, 2)"
      ]
     },
     "metadata": {},
     "output_type": "display_data"
    }
   ],
   "source": [
    "Rat(p::Int) = Rat(p,1) # an Int is converted to p/1\n",
    "+(x::Rat, y::Int) = x + Rat(y) # To add a Rat to an Int we convert the Int into a Rat and use the previously defined +\n",
    "\n",
    "Rat(1,2) + 1  # 1 + 1/2 == 3/2"
   ]
  },
  {
   "cell_type": "markdown",
   "metadata": {},
   "source": [
    "-----"
   ]
  },
  {
   "cell_type": "markdown",
   "metadata": {},
   "source": [
    "**Problem 3** Support `*`, `-`, `/`, and `==` for `Rat` and `Int`."
   ]
  },
  {
   "cell_type": "code",
   "execution_count": 26,
   "metadata": {},
   "outputs": [
    {
     "ename": "LoadError",
     "evalue": "LoadError: UndefVarError: `@test` not defined\nin expression starting at /Users/solver/Projects/SciMLSANUM2024/labs/lab1.ipynb:24",
     "output_type": "error",
     "traceback": [
      "LoadError: UndefVarError: `@test` not defined\n",
      "in expression starting at /Users/solver/Projects/SciMLSANUM2024/labs/lab1.ipynb:24\n"
     ]
    }
   ],
   "source": [
    "# We import `+`, `-`, `*`, `/` so we can \"overload\" these operations\n",
    "# specifically for `Rat`.\n",
    "import Base: +, -, *, /, ==\n",
    "\n",
    "# The ::Rat means the following version of `==` is only called if both\n",
    "# arguments are Rat.\n",
    "function ==(x::Rat, y::Rat)\n",
    "    # TODO: implement equality, making sure to check the case where\n",
    "    # the numerator/denominator are possibly reducible\n",
    "    # Hint: gcd and div may be useful. Use ? to find out what they do\n",
    "\n",
    "\n",
    "end\n",
    "\n",
    "# We can also support equality when `x isa Rat` and `y isa Int`\n",
    "function ==(x::Rat, y::Int)\n",
    "    # TODO: implement\n",
    "\n",
    "end\n",
    "\n",
    "# TODO: implement ==(x::Int, y::Rat)\n",
    "\n",
    "\n",
    "@test Rat(1, 2) == Rat(2, 4)\n",
    "@test Rat(1, 2) ≠ Rat(1, 3)\n",
    "@test Rat(2,2) == 1\n",
    "@test 1 == Rat(2,2)\n",
    "\n",
    "# TODO: implement +, -, *, and /,\n",
    "\n",
    "\n",
    "@test Rat(1, 2) + Rat(1, 3) == Rat(5, 6)\n",
    "@test Rat(1, 3) - Rat(1, 2) == Rat(-1, 6)\n",
    "@test Rat(2, 3) * Rat(3, 4) == Rat(1, 2)\n",
    "@test Rat(2, 3) / Rat(3, 4) == Rat(8, 9)"
   ]
  },
  {
   "cell_type": "markdown",
   "metadata": {},
   "source": [
    "## 1.3 Arrays"
   ]
  },
  {
   "cell_type": "markdown",
   "metadata": {},
   "source": [
    "One can create arrays in multiple ways. For example, the function `zeros(Int, 10)` creates\n",
    "a 10-element `Vector` whose entries are all `zero(Int) == 0`. Or `fill(x, 10)` creates a\n",
    "10-element `Vector` whose entries are all equal to `x`. Or you can use a comprehension:\n",
    "for example `[k^2 for k = 1:10]` creates a vector whose entries are `[1^2, 2^2, …, 10^2]`.\n",
    "This also works for matrices: `zeros(Int, 10, 5)` creates a 10 × 5 matrix of all zeros,\n",
    "and `[k^2 + j for k=1:3, j=1:4]` creates the following:"
   ]
  },
  {
   "cell_type": "code",
   "execution_count": 27,
   "metadata": {},
   "outputs": [
    {
     "data": {
      "text/plain": [
       "3×4 Matrix{Int64}:\n",
       "  2   3   4   5\n",
       "  5   6   7   8\n",
       " 10  11  12  13"
      ]
     },
     "metadata": {},
     "output_type": "display_data"
    }
   ],
   "source": [
    "[k^2 + j for k=1:3, j=1:4] # k is the row, j is the column"
   ]
  },
  {
   "cell_type": "markdown",
   "metadata": {},
   "source": [
    "Note sometimes it is best to create a vector/matrix and populate it. For example, the\n",
    "previous matrix could also been constructed as follows:"
   ]
  },
  {
   "cell_type": "code",
   "execution_count": 28,
   "metadata": {},
   "outputs": [
    {
     "data": {
      "text/plain": [
       "3×4 Matrix{Int64}:\n",
       "  2   3   4   5\n",
       "  5   6   7   8\n",
       " 10  11  12  13"
      ]
     },
     "metadata": {},
     "output_type": "display_data"
    }
   ],
   "source": [
    "A = zeros(Int, 3, 4) # create a 3 × 4 matrix whose entries are 0 (as Ints)\n",
    "for k = 1:3, j = 1:4\n",
    "    A[k,j] = k^2 + j # set the entries of A\n",
    "end\n",
    "A"
   ]
  },
  {
   "cell_type": "markdown",
   "metadata": {},
   "source": [
    "**Remark** Julia uses 1-based indexing where the first index of a vector/matrix\n",
    "is 1. This is standard in all mathematical programming languages (Fortran, Maple, Matlab, Mathematica)\n",
    "whereas those designed for computer science use 0-based indexing (C, Python, Rust)."
   ]
  },
  {
   "cell_type": "markdown",
   "metadata": {},
   "source": [
    "Be careful: a `Matrix` or `Vector` can only ever contain entries of the right\n",
    "type. It will attempt to convert an assignment to the right type but will throw\n",
    "an error if not successful:"
   ]
  },
  {
   "cell_type": "code",
   "execution_count": 29,
   "metadata": {},
   "outputs": [
    {
     "ename": "InexactError",
     "evalue": "InexactError: Int64(2.3)",
     "output_type": "error",
     "traceback": [
      "InexactError: Int64(2.3)\n",
      "\n",
      "Stacktrace:\n",
      " [1] Int64\n",
      "   @ ./float.jl:912 [inlined]\n",
      " [2] convert\n",
      "   @ ./number.jl:7 [inlined]\n",
      " [3] setindex!(::Matrix{Int64}, ::Float64, ::Int64, ::Int64)\n",
      "   @ Base ./array.jl:1024\n",
      " [4] top-level scope\n",
      "   @ ~/Projects/SciMLSANUM2024/labs/lab1.ipynb:2"
     ]
    }
   ],
   "source": [
    "A[2,3] = 2.0 # works because 2.0 is a Float64 that is exactly equal to an Int\n",
    "A[1,2] = 2.3 # fails since 2.3 is a Float64 that cannot be converted to an Int"
   ]
  },
  {
   "cell_type": "markdown",
   "metadata": {},
   "source": [
    "------\n",
    "**Problem 1(a)** Create a 5×6 matrix whose entries are `Int` which is\n",
    "one in all entries. Hint: use a for-loop, `ones`, `fill`, or a comprehension."
   ]
  },
  {
   "cell_type": "code",
   "execution_count": 30,
   "metadata": {},
   "outputs": [],
   "source": [
    "# TODO: Create a matrix of ones, 4 different ways"
   ]
  },
  {
   "cell_type": "markdown",
   "metadata": {},
   "source": [
    "**Problem 1(b)** Create a 1 × 5 `Matrix{Int}` with entries `A[k,j] = j`. Hint: use a for-loop or a comprehension."
   ]
  },
  {
   "cell_type": "code",
   "execution_count": 31,
   "metadata": {},
   "outputs": [],
   "source": [
    "# TODO: Create a 1 × 5  matrix whose entries equal the column, 2 different ways"
   ]
  },
  {
   "cell_type": "markdown",
   "metadata": {},
   "source": [
    "-------\n",
    "### Transposes and adjoints"
   ]
  },
  {
   "cell_type": "markdown",
   "metadata": {},
   "source": [
    "We can also transpose a matrix `A` via `transpose(A)`\n",
    "or compute the adjoint (conjugate-transpose) via `A'` (which is\n",
    "equivalent to a transpose when the entries are real).\n",
    "This is done _lazily_: they return custom types `Transpose` or\n",
    "`Adjoint` that just wrap the input array and reinterpret the entries.\n",
    "This is equivalent to\n",
    "_row-major_ format, where the next address in memory of `transpose(A)` corresponds to\n",
    "moving along the row.\n",
    "Here is a simple example:"
   ]
  },
  {
   "cell_type": "code",
   "execution_count": 32,
   "metadata": {},
   "outputs": [
    {
     "data": {
      "text/plain": [
       "3×3 adjoint(::Matrix{Complex{Int64}}) with eltype Complex{Int64}:\n",
       " 1-1im  4+0im  6+0im\n",
       " 2+0im  5+0im  8+0im\n",
       " 3+0im  6+0im  9+0im"
      ]
     },
     "metadata": {},
     "output_type": "display_data"
    }
   ],
   "source": [
    "A = [1+im  2  3;\n",
    "     4     5  6;\n",
    "     6     8  9]\n",
    "\n",
    "A' # adjoint (conjugate-transpose). If entries are real it is equivalent to transpose(A)"
   ]
  },
  {
   "cell_type": "markdown",
   "metadata": {},
   "source": [
    "If we change entries of `A'` it actually changes entries of `A` too since\n",
    "they are pointing to the same locations in memory, just interpreting the data differently:"
   ]
  },
  {
   "cell_type": "code",
   "execution_count": 33,
   "metadata": {},
   "outputs": [
    {
     "data": {
      "text/plain": [
       "3×3 Matrix{Complex{Int64}}:\n",
       " 1+1im  2+0im  3+0im\n",
       " 2-1im  5+0im  6+0im\n",
       " 6+0im  8+0im  9+0im"
      ]
     },
     "metadata": {},
     "output_type": "display_data"
    }
   ],
   "source": [
    "A'[1,2] = 2+im\n",
    "A # A[2,1] is now 2-im"
   ]
  },
  {
   "cell_type": "markdown",
   "metadata": {},
   "source": [
    "Note vector adjoints/transposes behave differently than 1 × n matrices: they are\n",
    "more like row-vectors. For example the following computes the dot product of two vectors:"
   ]
  },
  {
   "cell_type": "code",
   "execution_count": 34,
   "metadata": {},
   "outputs": [
    {
     "data": {
      "text/plain": [
       "32"
      ]
     },
     "metadata": {},
     "output_type": "display_data"
    }
   ],
   "source": [
    "x = [1,2,3]\n",
    "y = [4,5,6]\n",
    "x'y # equivalent to dot(x,y), i.e. the standard dot product."
   ]
  },
  {
   "cell_type": "markdown",
   "metadata": {},
   "source": [
    "### Broadcasting"
   ]
  },
  {
   "cell_type": "markdown",
   "metadata": {},
   "source": [
    "_Broadcasting_ is a powerful and convenient way to create matrices or vectors,\n",
    "where a function is applied to every entry of a vector or matrix.\n",
    "By adding `.` to the end of a function we \"broadcast\" the function over\n",
    "a vector:"
   ]
  },
  {
   "cell_type": "code",
   "execution_count": 35,
   "metadata": {},
   "outputs": [
    {
     "data": {
      "text/plain": [
       "3-element Vector{Float64}:\n",
       "  0.5403023058681398\n",
       " -0.4161468365471424\n",
       " -0.9899924966004454"
      ]
     },
     "metadata": {},
     "output_type": "display_data"
    }
   ],
   "source": [
    "x = [1,2,3]\n",
    "cos.(x) # equivalent to [cos(1), cos(2), cos(3)], or can be written broadcast(cos, x)"
   ]
  },
  {
   "cell_type": "markdown",
   "metadata": {},
   "source": [
    "Broadcasting has some interesting behaviour for matrices.\n",
    "If one dimension of a matrix (or vector) is `1`, it automatically\n",
    "repeats the matrix (or vector) to match the size of another example.\n",
    "In the following we use broadcasting to pointwise-multiply a column and row\n",
    "vector to make a matrix:"
   ]
  },
  {
   "cell_type": "code",
   "execution_count": 36,
   "metadata": {},
   "outputs": [
    {
     "data": {
      "text/plain": [
       "3×2 Matrix{Int64}:\n",
       "  4   5\n",
       "  8  10\n",
       " 12  15"
      ]
     },
     "metadata": {},
     "output_type": "display_data"
    }
   ],
   "source": [
    "a = [1,2,3]\n",
    "b = [4,5]\n",
    "\n",
    "a .* b'"
   ]
  },
  {
   "cell_type": "markdown",
   "metadata": {},
   "source": [
    "Since `size([1,2,3],2) == 1` it repeats the same vector to match the size\n",
    "`size([4,5]',2) == 2`. Similarly, `[4,5]'` is repeated 3 times. So the\n",
    "above is equivalent to:"
   ]
  },
  {
   "cell_type": "code",
   "execution_count": 37,
   "metadata": {},
   "outputs": [
    {
     "data": {
      "text/plain": [
       "3×2 Matrix{Int64}:\n",
       "  4   5\n",
       "  8  10\n",
       " 12  15"
      ]
     },
     "metadata": {},
     "output_type": "display_data"
    }
   ],
   "source": [
    "A = [1 1;\n",
    "     2 2;\n",
    "     3 3] # same as [a a], i.e. repeat the vector a in each column\n",
    "B = [4 5;\n",
    "     4 5;\n",
    "     4 5] # same as [b'; b' b'], i.e. repeat the row vector b' in each row\n",
    "\n",
    "A .* B # equals the above a .* b'"
   ]
  },
  {
   "cell_type": "markdown",
   "metadata": {},
   "source": [
    "Note we can also use matrix broadcasting with our own functions:"
   ]
  },
  {
   "cell_type": "code",
   "execution_count": 38,
   "metadata": {},
   "outputs": [
    {
     "data": {
      "text/plain": [
       "3×2 Matrix{Float64}:\n",
       " -0.91113    0.0044257\n",
       " -0.839072   0.843854\n",
       "  0.0044257  0.907447"
      ]
     },
     "metadata": {},
     "output_type": "display_data"
    }
   ],
   "source": [
    "f = (x,y) -> cos(x + 2y)\n",
    "f.(a, b') # makes a matrix with entries [f(1,4) f(1,5); f(2,4) f(2,5); f(3,4) f(3.5)]"
   ]
  },
  {
   "cell_type": "markdown",
   "metadata": {},
   "source": [
    "### Ranges"
   ]
  },
  {
   "cell_type": "markdown",
   "metadata": {},
   "source": [
    "_Ranges_ are another useful example of vectors, but where the entries are defined \"lazily\" instead of\n",
    "actually created in memory.\n",
    "We have already seen that we can represent a range of integers via `a:b`. Note we can\n",
    "convert it to a `Vector` as follows:"
   ]
  },
  {
   "cell_type": "code",
   "execution_count": 39,
   "metadata": {},
   "outputs": [
    {
     "data": {
      "text/plain": [
       "5-element Vector{Int64}:\n",
       " 2\n",
       " 3\n",
       " 4\n",
       " 5\n",
       " 6"
      ]
     },
     "metadata": {},
     "output_type": "display_data"
    }
   ],
   "source": [
    "Vector(2:6)"
   ]
  },
  {
   "cell_type": "markdown",
   "metadata": {},
   "source": [
    "We can also specify a step:"
   ]
  },
  {
   "cell_type": "code",
   "execution_count": 40,
   "metadata": {},
   "outputs": [
    {
     "data": {
      "text/plain": [
       "([2, 4, 6], [6, 5, 4, 3, 2])"
      ]
     },
     "metadata": {},
     "output_type": "display_data"
    }
   ],
   "source": [
    "Vector(2:2:6), Vector(6:-1:2)"
   ]
  },
  {
   "cell_type": "markdown",
   "metadata": {},
   "source": [
    "Finally, the `range` function gives more functionality, for example, we can create 4 evenly\n",
    "spaced points between `-1` and `1`:"
   ]
  },
  {
   "cell_type": "code",
   "execution_count": 41,
   "metadata": {},
   "outputs": [
    {
     "data": {
      "text/plain": [
       "4-element Vector{Float64}:\n",
       " -1.0\n",
       " -0.3333333333333333\n",
       "  0.3333333333333333\n",
       "  1.0"
      ]
     },
     "metadata": {},
     "output_type": "display_data"
    }
   ],
   "source": [
    "Vector(range(-1, 1; length=4))"
   ]
  },
  {
   "cell_type": "markdown",
   "metadata": {},
   "source": [
    "Note that `Vector` is mutable but a range is not:"
   ]
  },
  {
   "cell_type": "code",
   "execution_count": 42,
   "metadata": {},
   "outputs": [
    {
     "ename": "CanonicalIndexError",
     "evalue": "CanonicalIndexError: setindex! not defined for UnitRange{Int64}",
     "output_type": "error",
     "traceback": [
      "CanonicalIndexError: setindex! not defined for UnitRange{Int64}\n",
      "\n",
      "Stacktrace:\n",
      " [1] error_if_canonical_setindex(::IndexLinear, A::UnitRange{Int64}, ::Int64)\n",
      "   @ Base ./abstractarray.jl:1404\n",
      " [2] setindex!(A::UnitRange{Int64}, v::Int64, I::Int64)\n",
      "   @ Base ./abstractarray.jl:1395\n",
      " [3] top-level scope\n",
      "   @ ~/Projects/SciMLSANUM2024/labs/lab1.ipynb:2"
     ]
    }
   ],
   "source": [
    "r = 2:6\n",
    "r[2] = 3   # Not allowed"
   ]
  },
  {
   "cell_type": "markdown",
   "metadata": {},
   "source": [
    "Both ranges `Vector` are subtypes of `AbstractVector`, whilst `Matrix` is a subtype of `AbstractMatrix`."
   ]
  },
  {
   "cell_type": "markdown",
   "metadata": {},
   "source": [
    "-----"
   ]
  },
  {
   "cell_type": "markdown",
   "metadata": {},
   "source": [
    "**Problem 1(c)** Create a vector of length 5 whose entries are `Float64`\n",
    "approximations of `exp(-k)`. Hint: use a for-loop, broadcasting `f.(x)` notation, or a comprehension."
   ]
  },
  {
   "cell_type": "code",
   "execution_count": 43,
   "metadata": {},
   "outputs": [],
   "source": [
    "# TODO: Create a vector whose entries are exp(-k), 3 different ways"
   ]
  },
  {
   "cell_type": "markdown",
   "metadata": {},
   "source": [
    "### Linear algebra"
   ]
  },
  {
   "cell_type": "markdown",
   "metadata": {},
   "source": [
    "A `Vector` stores its entries consecutively in memory.\n",
    "To be perhaps overly technical: a `Vector` contains a \"pointer\" (an integer)\n",
    "to the first memory address and a length. A `Matrix` is also stored consecutively in memory\n",
    " going down column-by-\n",
    "column (_column-major_). That is,"
   ]
  },
  {
   "cell_type": "code",
   "execution_count": 44,
   "metadata": {},
   "outputs": [
    {
     "data": {
      "text/plain": [
       "3×2 Matrix{Int64}:\n",
       " 1  2\n",
       " 3  4\n",
       " 5  6"
      ]
     },
     "metadata": {},
     "output_type": "display_data"
    }
   ],
   "source": [
    "A = [1 2;\n",
    "     3 4;\n",
    "     5 6]"
   ]
  },
  {
   "cell_type": "markdown",
   "metadata": {},
   "source": [
    "Is actually stored equivalently to a length `6` vector `[A[1,1],A[2,1],A[3,1],A[1,2],A[2,2],A[3,2]]`:"
   ]
  },
  {
   "cell_type": "code",
   "execution_count": 45,
   "metadata": {},
   "outputs": [
    {
     "data": {
      "text/plain": [
       "6-element Vector{Int64}:\n",
       " 1\n",
       " 3\n",
       " 5\n",
       " 2\n",
       " 4\n",
       " 6"
      ]
     },
     "metadata": {},
     "output_type": "display_data"
    }
   ],
   "source": [
    "vec(A)"
   ]
  },
  {
   "cell_type": "markdown",
   "metadata": {},
   "source": [
    "which in this case would be stored using `8 * 6 = 48` consecutive bytes.\n",
    "Behind the scenes, a matrix is also \"pointer\" to the location of the first entry alongside two integers\n",
    "dictating the row and column sizes."
   ]
  },
  {
   "cell_type": "markdown",
   "metadata": {},
   "source": [
    "Matrix-vector multiplication works as expected because `*` is overloaded:"
   ]
  },
  {
   "cell_type": "code",
   "execution_count": 46,
   "metadata": {},
   "outputs": [
    {
     "data": {
      "text/plain": [
       "3-element Vector{Int64}:\n",
       " 23\n",
       " 53\n",
       " 83"
      ]
     },
     "metadata": {},
     "output_type": "display_data"
    }
   ],
   "source": [
    "x = [7, 8]\n",
    "A * x"
   ]
  },
  {
   "cell_type": "markdown",
   "metadata": {},
   "source": [
    "---\n",
    "\n",
    "*This notebook was generated using [Literate.jl](https://github.com/fredrikekre/Literate.jl).*"
   ]
  }
 ],
 "metadata": {
  "kernelspec": {
   "display_name": "Julia 1.10.2",
   "language": "julia",
   "name": "julia-1.10"
  },
  "language_info": {
   "file_extension": ".jl",
   "mimetype": "application/julia",
   "name": "julia",
   "version": "1.10.2"
  }
 },
 "nbformat": 4,
 "nbformat_minor": 3
}
