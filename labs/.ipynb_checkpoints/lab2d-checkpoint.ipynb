{
 "cells": [
  {
   "cell_type": "markdown",
   "source": [
    "# SciML SANUM2024\n",
    "# Lab 2: Dual Numbers and ForwardDiff.jl"
   ],
   "metadata": {}
  },
  {
   "cell_type": "markdown",
   "source": [
    "In this lab we explore a simple approach to computing derivatives:\n",
    "_dual numbers_. This is a special mathematical object akin to complex numbers\n",
    "that allows us to compute derivatives to very high accuracy in an automated fashion,\n",
    "and is an example of forward-mode [automatic differentiation](https://en.wikipedia.org/wiki/Automatic_differentiation).\n",
    "To realise dual numbers on a computer we need to introduce the notation of a \"type\"\n",
    "and create a customised type to represent dual numbers, which is what we discuss first.\n",
    "For functions of multiple variables we can extend the concept of dual numbers to computing gradients\n",
    "and Jacobians.\n",
    "After developing our own implementation of dual numbers we investigate using the more sophisticated version\n",
    "underlying ForwardDiff.jl."
   ],
   "metadata": {}
  },
  {
   "cell_type": "markdown",
   "source": [
    "**Learning Outcomes**\n",
    "\n",
    "1. Definition and implementation of dual numbers and functions applied dual numbers.\n",
    "2. Using automatic differentiation to implement Newton's method.\n",
    "3. Extending dual numbers to gradients of 2D functions.\n",
    "3. Computing higher-dimensional gradients using ForwardDiff.jl."
   ],
   "metadata": {}
  },
  {
   "cell_type": "markdown",
   "source": [
    "## 2.1 Dual numbers"
   ],
   "metadata": {}
  },
  {
   "cell_type": "markdown",
   "source": [
    "We now consider implementing a type `Dual` to represent the dual number $a + bϵ$,\n",
    "in a way similar to `Complex` or `Rat`. For simplicity we don't restrict the types of `a` and `b`\n",
    "but for us they will usually be `Float64`. We create this type very similar to `Rat` above:"
   ],
   "metadata": {}
  },
  {
   "outputs": [],
   "cell_type": "code",
   "source": [
    "#"
   ],
   "metadata": {},
   "execution_count": null
  },
  {
   "cell_type": "markdown",
   "source": [
    "We can easily support addition of dual numbers as in `Rat` using the formula\n",
    "$$\n",
    "(a+bϵ) + (c+dϵ) = (a+c) + (b+d)ϵ\n",
    "$$"
   ],
   "metadata": {}
  },
  {
   "outputs": [],
   "cell_type": "code",
   "source": [
    "#"
   ],
   "metadata": {},
   "execution_count": null
  },
  {
   "cell_type": "markdown",
   "source": [
    "For multiplication we used the fact that $ϵ^2 = 0$ to derive the formula\n",
    "$$\n",
    "(a+bϵ)*(c+dϵ) = ac +(bc+ad)ϵ.\n",
    "$$\n",
    "Here we support this operation by overloading `*` when the inputs are both\n",
    "`Dual`:"
   ],
   "metadata": {}
  },
  {
   "outputs": [],
   "cell_type": "code",
   "source": [
    "#"
   ],
   "metadata": {},
   "execution_count": null
  },
  {
   "cell_type": "markdown",
   "source": [
    "### Differentiating polynomials"
   ],
   "metadata": {}
  },
  {
   "cell_type": "markdown",
   "source": [
    "Dual numbers allow us to differentiate functions provided they are composed of\n",
    "operations overloaded for `Dual`. In particular, the properties of multiplication imply that\n",
    "$$\n",
    "(a + b ϵ)^k = a^k + k b a^{k-1} ϵ\n",
    "$$\n",
    "and therefore by linearity if $f$ is a polynomial it must satisfy\n",
    "$$\n",
    "f(x + b ϵ) = f(x) + bf'(x)ϵ\n",
    "$$\n",
    "and thus if we set `b = 1` the \"dual part\" is equal to the derivative.\n",
    "We can use this fact to differentiate simple polynomials that only use `+`\n",
    "and `*`:"
   ],
   "metadata": {}
  },
  {
   "outputs": [],
   "cell_type": "code",
   "source": [
    "#"
   ],
   "metadata": {},
   "execution_count": null
  },
  {
   "cell_type": "markdown",
   "source": [
    "A polynomial like `x^3 + 1` is not yet supported.\n",
    "To support this we need to add addition of `Dual` with `Int` or `Float64`.\n",
    "Note that both of these are \"subtypes\" of `Real` and so restricting on `Real`\n",
    "will support both at the same time.\n",
    "We can overload the appropriate functions as follows:"
   ],
   "metadata": {}
  },
  {
   "outputs": [],
   "cell_type": "code",
   "source": [
    "#"
   ],
   "metadata": {},
   "execution_count": null
  },
  {
   "cell_type": "markdown",
   "source": [
    "### Differentiating functions"
   ],
   "metadata": {}
  },
  {
   "cell_type": "markdown",
   "source": [
    "We can also overload functions like `exp` so that they satisfy the rules of\n",
    "a _dual extension_, that is, are consistent with the formula $f(a+bϵ) = f(a) + bf'(a)ϵ$\n",
    "as follows:"
   ],
   "metadata": {}
  },
  {
   "outputs": [],
   "cell_type": "code",
   "source": [
    "#"
   ],
   "metadata": {},
   "execution_count": null
  },
  {
   "cell_type": "markdown",
   "source": [
    "What makes dual numbers so effective is that, unlike other methods for approximating derivatives like divided differences, they are not\n",
    "prone to disasterous growth due to round-off errors: the above approximation\n",
    "matches the true answer to roughly 16 digits of accuracy."
   ],
   "metadata": {}
  },
  {
   "cell_type": "markdown",
   "source": [
    "------"
   ],
   "metadata": {}
  },
  {
   "cell_type": "markdown",
   "source": [
    "**Problem 1(a)** Add support for `-`, `cos`, `sin`, and `/` to the type `Dual`\n",
    "by replacing the `# TODO`s in the below code."
   ],
   "metadata": {}
  },
  {
   "outputs": [],
   "cell_type": "code",
   "source": [
    "import Base: -, cos, sin, /\n",
    "\n",
    "# The following supports negation -(a+bϵ)\n",
    "-(x::Dual) = Dual(-x.a, -x.b)\n",
    "\n",
    "# TODO: implement -(::Dual, ::Dual)\n",
    "\n",
    "\n",
    "\n",
    "function cos(x::Dual)\n",
    "    # TODO: implement cos for Duals\n",
    "\n",
    "end\n",
    "\n",
    "function sin(x::Dual)\n",
    "    # TODO: implement sin for Duals\n",
    "\n",
    "end\n",
    "\n",
    "function /(x::Dual, y::Dual)\n",
    "    # TODO: implement division for Duals.\n",
    "    # Hint: think of this as x * (1/y)\n",
    "\n",
    "end\n",
    "\n",
    "x = 0.1\n",
    "ϵ = Dual(0,1)\n",
    "@test cos(sin(x+ϵ)/(x+ϵ)).b ≈ -((cos(x)/x - sin(x)/x^2)sin(sin(x)/x))"
   ],
   "metadata": {},
   "execution_count": null
  },
  {
   "cell_type": "markdown",
   "source": [
    "**Problem 1(b)** Use dual numbers to compute the derivatives to\n",
    "1. $\\exp(\\exp x \\cos x + \\sin x)$\n",
    "2. $∏_{k=1}^{1000} \\left({x \\over k}-1\\right)$\n",
    "3. $f^{\\rm s}_{1000}(x)$ where $f^{\\rm s}_n(x)$ corresponds to $n$-terms of the following continued fraction:\n",
    "$$\n",
    "1 + {x-1 \\over 2 + {x-1 \\over 2 + {x-1 \\over 2 + ⋱}}}.\n",
    "$$\n",
    "at the point $x = 0.1$. Compare with divided differences to give evidence that your implementation is correct."
   ],
   "metadata": {}
  },
  {
   "outputs": [],
   "cell_type": "code",
   "source": [
    "# TODO: Use dual numbers to compute the derivatives of the 3 functions above."
   ],
   "metadata": {},
   "execution_count": null
  },
  {
   "cell_type": "markdown",
   "source": [
    "**Problem 2** Consider a simple forward Euler method approximating the solution to the Pendulum equation with friction:\n",
    "$$\n",
    "u'' = τ u' - \\sin u\n",
    "$$\n",
    "which we can rewrite as a first order system:\n",
    "$$\n",
    "\\begin{bmatrix}\n",
    "   u' \\\\\n",
    "   v'\n",
    "   \\end{bmatrix} = \\begin{bmatrix} v \\\\ -τ*v - \\sin u \\end{bmatrix}\n",
    "$$\n",
    "That is, we want to implement the iteration\n",
    "$$\n",
    "𝐮_{k+1} = 𝐮_k + h*\\begin{bmatrix} 𝐮_k[2] \\\\ -τ 𝐮_k[2] - \\sin 𝐮_k[1] \\end{bmatrix}\n",
    "$$\n",
    "with a specified initial condition $𝐮_0$. For $N = 100$, $h = 0.1$ and $𝐮_0 = [0.1,0.2]$, differentiate\n",
    "the solution with-respect to $τ$ at $τ = 1$ using dual numbers.\n",
    "Hint: check your result by comparing to a divided difference."
   ],
   "metadata": {}
  },
  {
   "outputs": [],
   "cell_type": "code",
   "source": [
    "# TODO: Differentiate through an ODE solve using dual nubmers"
   ],
   "metadata": {},
   "execution_count": null
  },
  {
   "cell_type": "markdown",
   "source": [
    "-------"
   ],
   "metadata": {}
  },
  {
   "cell_type": "markdown",
   "source": [
    "## 2.2 Gradients"
   ],
   "metadata": {}
  },
  {
   "cell_type": "markdown",
   "source": [
    "Dual numbers extend naturally to higher dimensions by adding a different dual-part for each direction.\n",
    "We will consider a 2D version of a dual number:\n",
    "$$\n",
    "a + b ϵ_x + c ϵ_y\n",
    "$$\n",
    "such that\n",
    "$$\n",
    "ϵ_x^2 = ϵ_y^2 = ϵ_x ϵ_y =  0.\n",
    "$$\n",
    "Multiplication then follows the rule:\n",
    "$$\n",
    "(a + b ϵ_x + c ϵ_y) (α + β ϵ_x + γ ϵ_y) = aα + (bα + a β)ϵ_x + (cα + a γ)ϵ_y\n",
    "$$\n",
    "From this we see\n",
    "$$\n",
    "\\begin{align*}\n",
    " (a + b ϵ_x + c ϵ_y)^k (α + β ϵ_x + γ ϵ_y)^j &= (a^k + k b a^{k-1} ϵ_x + k c a^{k-1} ϵ_y)(α^j + j β α^{j-1} ϵ_x + j γ α^{j-1} ϵ_y) \\\\\n",
    "   &= a^k α^j + (jβ  a^k α^{j-1} + k b a^{k-1} α^j )ϵ_x + (jγ  a^k α^{j-1} + k c a^{k-1} α^j )ϵ_y\n",
    "\\end{align*}\n",
    "$$\n",
    "In particular, we have:\n",
    "$$\n",
    "(x + ϵ_x)^k (y + ϵ_y)^j = x^k y^j + k x^{k-1} y^j ϵ_x + j x^k y^{j-1} ϵ_y\n",
    "$$\n",
    "and hence by linearity if $f$ is a polynomial we can compute the gradient via:\n",
    "$$\n",
    "f(x  + ϵ_x, y  + ϵ_y) = f(x,y) + f_x(x,y) ϵ_x + f_y(x,y) ϵ_y.\n",
    "$$"
   ],
   "metadata": {}
  },
  {
   "cell_type": "markdown",
   "source": [
    "-------"
   ],
   "metadata": {}
  },
  {
   "cell_type": "markdown",
   "source": [
    "**Problem 3**\n",
    "Complete the following implementation of `Dual2D` supporting `+` and `*` (and\n",
    "assuming `a,b,c` are `Float64`)."
   ],
   "metadata": {}
  },
  {
   "outputs": [],
   "cell_type": "code",
   "source": [
    "import Base: *, +, ^\n",
    "struct Dual2D\n",
    "    a::Float64\n",
    "    b::Float64\n",
    "    c::Float64\n",
    "end\n",
    "\n",
    "\n",
    "function +(s::Dual2D, t::Dual2D)\n",
    "    # TODO: Implement +, returning a Dual2D\n",
    "\n",
    "end\n",
    "\n",
    "function *(c::Number, s::Dual2D)\n",
    "    # TODO: Implement c * Dual2D(...), returning a Dual2D\n",
    "\n",
    "end\n",
    "\n",
    "function *(s::Dual2D, t::Dual2D)\n",
    "    # TODO: Implement Dual2D(...) * Dual2D(...), returning a Dual2D\n",
    "\n",
    "\n",
    "end\n",
    "\n",
    "f = function (x, y) # (x+2y^2)^3 using only * and +\n",
    "    z = (x + 2y * y)\n",
    "    z * z * z\n",
    "end\n",
    "\n",
    "x,y = 1., 2.\n",
    "@test f(Dual2D(x,1.,0.), Dual2D(y,0.,1.)) == Dual2D(f(x,y), 3(x+2y^2)^2, 12y*(x+2y^2)^2)\n",
    "\n",
    "# This has computed the gradient as f(x,y) + f_x*ϵ_x + f_y*ϵ_y\n",
    "# == (x+2y^2)^3 + 3(x+2y^2)^2*ϵ_x + 12y(x+2y^2)^2*ϵ_y"
   ],
   "metadata": {},
   "execution_count": null
  },
  {
   "cell_type": "markdown",
   "source": [
    "----"
   ],
   "metadata": {}
  },
  {
   "cell_type": "markdown",
   "source": [
    "## 2.3 ForwardDiff.jl and computing derivatives/gradients/Jacobians/Hessians"
   ],
   "metadata": {}
  },
  {
   "cell_type": "markdown",
   "source": [
    "ForwardDiff.jl is a package that uses dual numbers under the hood for automatic differentiation,\n",
    "including supporting gradients and Jacobians. Its usage in 1D works as follows:"
   ],
   "metadata": {}
  },
  {
   "outputs": [],
   "cell_type": "code",
   "source": [
    "#"
   ],
   "metadata": {},
   "execution_count": null
  },
  {
   "cell_type": "markdown",
   "source": [
    "It also works with higher dimensions,  allowing for arbitrary dimensional computation\n",
    "of gradients. Consider a simple function $f : ℝ^n → ℝ$ defined by\n",
    "$$\n",
    "f([x_1,…,x_n]) = ∑_{k=1}^{n-1} x_k x_{k+1}\n",
    "$$\n",
    "which we can implement as follows:"
   ],
   "metadata": {}
  },
  {
   "outputs": [],
   "cell_type": "code",
   "source": [
    "#"
   ],
   "metadata": {},
   "execution_count": null
  },
  {
   "cell_type": "markdown",
   "source": [
    "We can use ForwardDiff.jl to compute its gradient:"
   ],
   "metadata": {}
  },
  {
   "outputs": [],
   "cell_type": "code",
   "source": [
    "#"
   ],
   "metadata": {},
   "execution_count": null
  },
  {
   "cell_type": "markdown",
   "source": [
    "The one catch is the complexity is quadratic:"
   ],
   "metadata": {}
  },
  {
   "outputs": [],
   "cell_type": "code",
   "source": [
    "#"
   ],
   "metadata": {},
   "execution_count": null
  },
  {
   "cell_type": "markdown",
   "source": [
    "The reason for this is if we have $n$ unknowns the higher-dimensional dual number uses $n$ different $ϵ$s\n",
    "for each argument, meaning the input has $n^2$ degrees-of-freedom.\n",
    "This will motivate the move to reverse-mode automatic differentiation in the next lab which will reduce the\n",
    "complexity to $O(n)$ for many gradient calculations."
   ],
   "metadata": {}
  },
  {
   "cell_type": "markdown",
   "source": [
    "### Jacobians\n",
    "\n",
    "ForwardDiff.jl also works well with Jacobians, a problem where the benefits of reverse-mode automatic differentiation\n",
    "are less clear.\n",
    "Denote the Jacobian as\n",
    "$$\n",
    " J_f = \\begin{bmatrix} {∂ f_1 \\over ∂x_1} & ⋯ & {∂ f_1 \\over ∂x_ℓ} \\\\\n",
    "      ⋮ & ⋱ & ⋮ \\\\\n",
    "      {∂ f_m \\over ∂x_1} & ⋯ & {∂ f_m \\over ∂x_ℓ}\n",
    "\\end{bmatrix}\n",
    "$$\n",
    "The function `ForwardDiff.jacobian(f, 𝐱)` computes $J_f(𝐱)$.\n",
    "Here is an example of computing the Jacobian of a simple function $f : ℝ^2 → ℝ^2$:"
   ],
   "metadata": {}
  },
  {
   "outputs": [],
   "cell_type": "code",
   "source": [
    "#"
   ],
   "metadata": {},
   "execution_count": null
  },
  {
   "cell_type": "markdown",
   "source": [
    "-----"
   ],
   "metadata": {}
  },
  {
   "cell_type": "markdown",
   "source": [
    "**Problem 4** We can also use ForwardDiff.jl to compute hessians via `ForwardDiff.hessian`. Compute the Hessian of the following Toda Hamiltonian\n",
    "$$\n",
    "  f([x_1, …, x_n, y_1, …, y_n]) =  {1 \\over 2} ∑_{k=1}^n y_k^2 + ∑_{k=1}^{n-1} \\exp(x_k - x_{k+1})\n",
    "$$"
   ],
   "metadata": {}
  },
  {
   "outputs": [],
   "cell_type": "code",
   "source": [
    "function todahamiltonian(𝐱𝐲)\n",
    "    n = length(𝐱𝐲) ÷ 2\n",
    "    x,y = 𝐱𝐲[1:n], 𝐱𝐲[n+1:end] # split the input vector into its two components.\n",
    "    ret = zero(eltype(𝐱𝐲))\n",
    "    # TODO: implement the Hamiltonian, eg using for-loops\n",
    "\n",
    "end\n",
    "\n",
    "x = [1.,2,3]\n",
    "y = [4.,5,6]\n",
    "\n",
    "ForwardDiff.hessian(todahamiltonian, [x; y])"
   ],
   "metadata": {},
   "execution_count": null
  },
  {
   "cell_type": "markdown",
   "source": [
    "----"
   ],
   "metadata": {}
  },
  {
   "cell_type": "markdown",
   "source": [
    "## 2.4 Newton's method"
   ],
   "metadata": {}
  },
  {
   "cell_type": "markdown",
   "source": [
    "We will conclude with an application of these results to Newton's method.\n",
    "Given an initial guess $x_0$ to a root of a function $f$,  Newton's method is a simple sequence defined by\n",
    "$$\n",
    "x_{k+1} = x_k - {f(x_k) \\over f'(x_k)}\n",
    "$$\n",
    "If the initial guess $x_0$ is \"close enough\" to a root $r$ of $f$ (ie $f(r) = 0$)\n",
    "then it is known that $x_k → r$. Thus for large $N$ we have $x_N ≈ r$."
   ],
   "metadata": {}
  },
  {
   "cell_type": "markdown",
   "source": [
    "Dual numbers as implemented by `Dual` gives us a powerful tool to compute derivatives and get a simple implementation\n",
    "of Newton's method working:"
   ],
   "metadata": {}
  },
  {
   "outputs": [],
   "cell_type": "code",
   "source": [
    "#"
   ],
   "metadata": {},
   "execution_count": null
  },
  {
   "cell_type": "markdown",
   "source": [
    "We can test that we have indeed found a root:"
   ],
   "metadata": {}
  },
  {
   "outputs": [],
   "cell_type": "code",
   "source": [
    "#"
   ],
   "metadata": {},
   "execution_count": null
  },
  {
   "cell_type": "markdown",
   "source": [
    "-----"
   ],
   "metadata": {}
  },
  {
   "cell_type": "markdown",
   "source": [
    "**Problem 5(a)** Use `newton` with a complex number to compute\n",
    "an approximation to a complex root of $f(x) = x^5 - x^2 + 1$.\n",
    "Verify the approximation is accurate by testing that it satisfies $f(r)$\n",
    "is approximately zero."
   ],
   "metadata": {}
  },
  {
   "outputs": [],
   "cell_type": "code",
   "source": [
    "# TODO: By making the initial guess complex find a complex root."
   ],
   "metadata": {},
   "execution_count": null
  },
  {
   "cell_type": "markdown",
   "source": [
    "**Problem 5(b)** By changing the initial guesses compute 5 roots to\n",
    "$sin(x) - 1/x$. Hint: you may need to add an overload for `/(x::Real, y::Dual)`."
   ],
   "metadata": {}
  },
  {
   "outputs": [],
   "cell_type": "code",
   "source": [
    "# TODO: Use `newton` to compute roots of `sin(x) - 1/x`."
   ],
   "metadata": {},
   "execution_count": null
  },
  {
   "cell_type": "markdown",
   "source": [
    "**Problem 6** Newton's method works also for finding roots of functions $f : ℝ^n → ℝ^n$ using the Jacobian.\n",
    "Extend our newton method for vector-valued functions:"
   ],
   "metadata": {}
  },
  {
   "outputs": [],
   "cell_type": "code",
   "source": [
    "function newton(f, x::AbstractVector, N) # x = x_0 is the inital guess, now a vector\n",
    "    # TODO: reimplement newton for vector inputs using ForwardDiff.jacobian\n",
    "\n",
    "end\n",
    "\n",
    "f = function(𝐱)\n",
    "    (x,y) = 𝐱 # get out the components of the vector\n",
    "    [cos(7x^2*y + y), cos(7*x*y)]\n",
    "end\n",
    "\n",
    "@test maximum(abs,f(newton(f, [0.1,0.2], 200))) ≤ 1E-13"
   ],
   "metadata": {},
   "execution_count": null
  },
  {
   "cell_type": "markdown",
   "source": [
    "---\n",
    "\n",
    "*This notebook was generated using [Literate.jl](https://github.com/fredrikekre/Literate.jl).*"
   ],
   "metadata": {}
  }
 ],
 "nbformat_minor": 3,
 "metadata": {
  "language_info": {
   "file_extension": ".jl",
   "mimetype": "application/julia",
   "name": "julia",
   "version": "1.10.2"
  },
  "kernelspec": {
   "name": "julia-1.10",
   "display_name": "Julia 1.10.2",
   "language": "julia"
  }
 },
 "nbformat": 4
}
